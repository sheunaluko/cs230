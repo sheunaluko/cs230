{
 "cells": [
  {
   "cell_type": "code",
   "execution_count": 1,
   "metadata": {},
   "outputs": [
    {
     "name": "stdout",
     "output_type": "stream",
     "text": [
      "Loaded util\n"
     ]
    },
    {
     "name": "stderr",
     "output_type": "stream",
     "text": [
      "Using TensorFlow backend.\n"
     ]
    }
   ],
   "source": [
    "'''\n",
    "import util as u\n",
    "import tensorflow as tf\n",
    "import numpy as np\n",
    "from tensorflow.keras.models import Sequential\n",
    "from tensorflow.keras.layers import Dense, Conv2D, Flatten, Activation\n",
    "import matplotlib.pyplot as plt\n",
    "keras = tf.keras\n",
    "'''\n",
    "\n",
    "import util as u\n",
    "import tensorflow as tf\n",
    "import numpy as np\n",
    "import keras\n",
    "from keras.models import Sequential\n",
    "from keras.layers import Dense, Conv2D, Flatten, Activation\n",
    "from keras import backend as K\n",
    "from keras import optimizers\n",
    "from keras import metrics\n",
    "from keras import backend as K\n",
    "import matplotlib.pyplot as plt\n",
    "from statistics import mean "
   ]
  },
  {
   "cell_type": "code",
   "execution_count": 2,
   "metadata": {},
   "outputs": [],
   "source": [
    "xs,ys = u.get_dataset()\n",
    "X_train  = xs[:30]\n",
    "Y_train = ys[:30]; Y_train = Y_train.reshape(30,4)#/512\n",
    "X_test = xs[30:39]\n",
    "Y_test = ys[30:39]; Y_test = Y_test.reshape(9,4)#/512\n",
    "\n",
    "#set params\n",
    "batch_size=1\n",
    "num_epochs=2\n",
    "model_name=\"v0_\" + str(num_epochs) + \"e_b\" + str(batch_size)"
   ]
  },
  {
   "cell_type": "code",
   "execution_count": 103,
   "metadata": {},
   "outputs": [],
   "source": [
    "'''\n",
    "    Definition of IOU: \n",
    "    https://www.kaggle.com/c/data-science-bowl-2018/discussion/51553\n",
    "    \n",
    "    Float sizes error (double vs float) :     \n",
    "    https://stackoverflow.com/questions/54255431/invalidargumenterror-cannot-compute-matmul-as-input-0zero-based-was-expected\n",
    "    \n",
    "    Changing type syntax\n",
    "    y_true = Y_test.astype('float32')\n",
    "    \n",
    "\n",
    "\n",
    "    \n",
    "    Some other weird error about tensors\n",
    "    https://askvoprosy.com/voprosy/tensorflow-how-do-i-convert-a-eagertensor-into-a-numpy-array\n",
    "    \n",
    "    math\n",
    "    intersection: \n",
    "    \n",
    "    max(truemin, predmin)\n",
    "    min(truemax, predmax)\n",
    "\n",
    "\n",
    "'''\n",
    "\n",
    "\n",
    "def iou(y_true, y_pred, smooth = 1e-8):\n",
    "    print(\"true\", y_true.shape) \n",
    "    print(\"true\", y_pred.shape) \n",
    "    \n",
    "    ious = []\n",
    "    \n",
    "    overlap = True\n",
    "    \n",
    "    string = \"success\"\n",
    "\n",
    "    truexmin = y_true[0]\n",
    "    trueymin = y_true[1]\n",
    "    truexmax = y_true[2]        \n",
    "    trueymax = y_true[3]\n",
    "\n",
    "    predxmin = y_pred[0]\n",
    "    predymin = y_pred[1]\n",
    "    predxmax = y_pred[2]        \n",
    "    predymax = y_pred[3]\n",
    "\n",
    "    '''\n",
    "    if tf.math.greater(predymin, trueymax):\n",
    "        #(predymin > trueymax)\n",
    "        overlap = False\n",
    "        string = \"no overlap: Clause 1, predymin > trueymax\"\n",
    "        #print(string)\n",
    "\n",
    "    if tf.math.greater(predxmin, truexmax):\n",
    "        #(predxmin > truexmax)\n",
    "        overlap = False\n",
    "        string = \"no overlap: Clause 2, predxmin > truexmax\"\n",
    "        #print(string)\n",
    "    if (predxmax < truexmin):\n",
    "        overlap = False\n",
    "        string = \"no overlap: Clause 3, predxmax < truexmin\"\n",
    "        #print(string)\n",
    "\n",
    "    if (predymax < trueymin):\n",
    "        overlap = False\n",
    "        string = \"no overlap: Clause 4, predymax < trueymin\"\n",
    "        #print(string)\n",
    "    '''\n",
    "    \n",
    "    def true_fn():\n",
    "        return True \n",
    "    def falseito():\n",
    "        return False\n",
    "    \n",
    "    overlap = tf.cond(tf.greater(predymin, trueymax), true_fn, falseito)\n",
    "    overlap = tf.cond(tf.greater(predxmin, truexmax), true_fn, falseito)\n",
    "    overlap = tf.cond(tf.less(predxmax, truexmin), true_fn, falseito)\n",
    "    overlap = tf.cond(tf.less(predymax, trueymin), true_fn, falseito)    \n",
    "    \n",
    "    xminintersect = tf.math.maximum(truexmin, predxmin)\n",
    "    yminintersect = tf.math.maximum(trueymin, predymin)\n",
    "\n",
    "    xmaxintersect = tf.math.minimum(truexmax, predxmax)\n",
    "    ymaxintersect = tf.math.minimum(trueymax, predymax)\n",
    "\n",
    "    intersection_len = tf.subtract(ymaxintersect, yminintersect)  \n",
    "    intersection_wid = tf.subtract(xmaxintersect, xminintersect)\n",
    "    intersection = tf.multiply(intersection_len, intersection_wid)\n",
    "    \n",
    "    #print(\"intersection\", intersection)\n",
    "    union_pred_len = tf.subtract(predxmax, predxmin) \n",
    "    union_pred_wid = tf.subtract(predymax, predymin)\n",
    "    union_pred_area = tf.multiply(union_pred_len, union_pred_wid)\n",
    "    \n",
    "    true_pred_len = tf.subtract(truexmax, truexmin) \n",
    "    true_pred_wid = tf.subtract(trueymax, trueymin)\n",
    "    true_pred_area = tf.multiply(true_pred_len, true_pred_wid)\n",
    "    \n",
    "    union = tf.subtract(tf.add(union_pred_area, true_pred_area), intersection)\n",
    "            \n",
    "    #print(\"union\", union)\n",
    "    \n",
    "    '''\n",
    "    \n",
    "    Now, I will implement this in tensor notation. \n",
    "    \n",
    "    if overlap:\n",
    "        iou = tf.divide(intersection, (tf.add(union, smooth)))\n",
    "    else:\n",
    "        iou = 0 #tf.convert_to_tensor(0)\n",
    "    \n",
    "    '''\n",
    "    #intersection = tf.constant(intersection)\n",
    "    #union = tf.constant(union)\n",
    "    #smooth = tf.constant(union)\n",
    "    \n",
    "    def overlap_iou():\n",
    "        x = tf.divide(intersection, (tf.add(union, smooth)))\n",
    "        return tf.math.reduce_max(x, axis= -1)\n",
    "        \n",
    "    \n",
    "    def no_overlap_iou():\n",
    "        return 0.0\n",
    "    \n",
    "    iou = tf.cond(overlap, overlap_iou, no_overlap_iou)\n",
    "    \n",
    "    results[i] = string\n",
    "        \n",
    "    return iou\n"
   ]
  },
  {
   "cell_type": "code",
   "execution_count": 104,
   "metadata": {},
   "outputs": [],
   "source": [
    "#create model\n",
    "model = Sequential()\n",
    "#add model layers\n",
    "model.add(Conv2D(10, kernel_size=11, input_shape=(512, 512, 3)))\n",
    "model.add(Activation('relu'))\n",
    "model.add(Conv2D(10, kernel_size=11))\n",
    "model.add(Activation('relu'))\n",
    "\n",
    "#pool\n",
    "model.add(keras.layers.MaxPooling2D(pool_size=(2,2)))\n",
    "\n",
    "model.add(Conv2D(10, kernel_size=11))\n",
    "model.add(Activation('relu'))\n",
    "model.add(Conv2D(10, kernel_size=11))\n",
    "model.add(Activation('relu'))\n",
    "\n",
    "#pool \n",
    "model.add(keras.layers.MaxPooling2D(pool_size=(2,2)))\n",
    "model.add(Flatten())\n",
    "model.add(Dense(4, activation = None))\n",
    "\n",
    "\n",
    "#model.add(Dense(4, activation = \"sigmoid\", kernel_initializer=keras.initializers.RandomNormal(mean=0,stddev=0.05)))\n",
    "\n",
    "# https://towardsdatascience.com/building-a-convolutional-neural-network-cnn-in-keras-329fbbadc5f5"
   ]
  },
  {
   "cell_type": "code",
   "execution_count": 105,
   "metadata": {},
   "outputs": [
    {
     "name": "stdout",
     "output_type": "stream",
     "text": [
      "true (None, None)\n",
      "true (None, 4)\n"
     ]
    }
   ],
   "source": [
    "#compile model using accuracy to measure model performance\n",
    "model.compile(optimizer=tf.keras.optimizers.Adam(learning_rate=0.001,beta_1=0.9,beta_2=0.999), \n",
    "              loss='mean_squared_error', metrics = [iou]) "
   ]
  },
  {
   "cell_type": "code",
   "execution_count": 101,
   "metadata": {},
   "outputs": [],
   "source": [
    "#model.summary()"
   ]
  },
  {
   "cell_type": "code",
   "execution_count": 102,
   "metadata": {
    "scrolled": true
   },
   "outputs": [
    {
     "name": "stdout",
     "output_type": "stream",
     "text": [
      "Train on 30 samples, validate on 9 samples\n",
      "Epoch 1/2\n"
     ]
    },
    {
     "ename": "InvalidArgumentError",
     "evalue": " slice index 3 of dimension 0 out of bounds.\n\t [[node metrics_15/iou/strided_slice_3 (defined at /usr/local/lib/python3.7/site-packages/tensorflow_core/python/framework/ops.py:1751) ]] [Op:__inference_keras_scratch_graph_5347]\n\nFunction call stack:\nkeras_scratch_graph\n",
     "output_type": "error",
     "traceback": [
      "\u001b[0;31m---------------------------------------------------------------------------\u001b[0m",
      "\u001b[0;31mInvalidArgumentError\u001b[0m                      Traceback (most recent call last)",
      "\u001b[0;32m<ipython-input-102-5ecb5f4a6d23>\u001b[0m in \u001b[0;36m<module>\u001b[0;34m\u001b[0m\n\u001b[0;32m----> 1\u001b[0;31m \u001b[0mh\u001b[0m \u001b[0;34m=\u001b[0m \u001b[0mmodel\u001b[0m\u001b[0;34m.\u001b[0m\u001b[0mfit\u001b[0m\u001b[0;34m(\u001b[0m\u001b[0mX_train\u001b[0m\u001b[0;34m,\u001b[0m \u001b[0mY_train\u001b[0m\u001b[0;34m,\u001b[0m \u001b[0mvalidation_data\u001b[0m\u001b[0;34m=\u001b[0m\u001b[0;34m(\u001b[0m\u001b[0mX_test\u001b[0m\u001b[0;34m,\u001b[0m \u001b[0mY_test\u001b[0m\u001b[0;34m)\u001b[0m\u001b[0;34m,\u001b[0m \u001b[0mbatch_size\u001b[0m\u001b[0;34m=\u001b[0m\u001b[0mbatch_size\u001b[0m\u001b[0;34m,\u001b[0m \u001b[0mepochs\u001b[0m\u001b[0;34m=\u001b[0m\u001b[0mnum_epochs\u001b[0m\u001b[0;34m)\u001b[0m\u001b[0;34m\u001b[0m\u001b[0;34m\u001b[0m\u001b[0m\n\u001b[0m",
      "\u001b[0;32m/usr/local/lib/python3.7/site-packages/keras/engine/training.py\u001b[0m in \u001b[0;36mfit\u001b[0;34m(self, x, y, batch_size, epochs, verbose, callbacks, validation_split, validation_data, shuffle, class_weight, sample_weight, initial_epoch, steps_per_epoch, validation_steps, validation_freq, max_queue_size, workers, use_multiprocessing, **kwargs)\u001b[0m\n\u001b[1;32m   1237\u001b[0m                                         \u001b[0msteps_per_epoch\u001b[0m\u001b[0;34m=\u001b[0m\u001b[0msteps_per_epoch\u001b[0m\u001b[0;34m,\u001b[0m\u001b[0;34m\u001b[0m\u001b[0;34m\u001b[0m\u001b[0m\n\u001b[1;32m   1238\u001b[0m                                         \u001b[0mvalidation_steps\u001b[0m\u001b[0;34m=\u001b[0m\u001b[0mvalidation_steps\u001b[0m\u001b[0;34m,\u001b[0m\u001b[0;34m\u001b[0m\u001b[0;34m\u001b[0m\u001b[0m\n\u001b[0;32m-> 1239\u001b[0;31m                                         validation_freq=validation_freq)\n\u001b[0m\u001b[1;32m   1240\u001b[0m \u001b[0;34m\u001b[0m\u001b[0m\n\u001b[1;32m   1241\u001b[0m     def evaluate(self,\n",
      "\u001b[0;32m/usr/local/lib/python3.7/site-packages/keras/engine/training_arrays.py\u001b[0m in \u001b[0;36mfit_loop\u001b[0;34m(model, fit_function, fit_inputs, out_labels, batch_size, epochs, verbose, callbacks, val_function, val_inputs, shuffle, initial_epoch, steps_per_epoch, validation_steps, validation_freq)\u001b[0m\n\u001b[1;32m    194\u001b[0m                     \u001b[0mins_batch\u001b[0m\u001b[0;34m[\u001b[0m\u001b[0mi\u001b[0m\u001b[0;34m]\u001b[0m \u001b[0;34m=\u001b[0m \u001b[0mins_batch\u001b[0m\u001b[0;34m[\u001b[0m\u001b[0mi\u001b[0m\u001b[0;34m]\u001b[0m\u001b[0;34m.\u001b[0m\u001b[0mtoarray\u001b[0m\u001b[0;34m(\u001b[0m\u001b[0;34m)\u001b[0m\u001b[0;34m\u001b[0m\u001b[0;34m\u001b[0m\u001b[0m\n\u001b[1;32m    195\u001b[0m \u001b[0;34m\u001b[0m\u001b[0m\n\u001b[0;32m--> 196\u001b[0;31m                 \u001b[0mouts\u001b[0m \u001b[0;34m=\u001b[0m \u001b[0mfit_function\u001b[0m\u001b[0;34m(\u001b[0m\u001b[0mins_batch\u001b[0m\u001b[0;34m)\u001b[0m\u001b[0;34m\u001b[0m\u001b[0;34m\u001b[0m\u001b[0m\n\u001b[0m\u001b[1;32m    197\u001b[0m                 \u001b[0mouts\u001b[0m \u001b[0;34m=\u001b[0m \u001b[0mto_list\u001b[0m\u001b[0;34m(\u001b[0m\u001b[0mouts\u001b[0m\u001b[0;34m)\u001b[0m\u001b[0;34m\u001b[0m\u001b[0;34m\u001b[0m\u001b[0m\n\u001b[1;32m    198\u001b[0m                 \u001b[0;32mfor\u001b[0m \u001b[0ml\u001b[0m\u001b[0;34m,\u001b[0m \u001b[0mo\u001b[0m \u001b[0;32min\u001b[0m \u001b[0mzip\u001b[0m\u001b[0;34m(\u001b[0m\u001b[0mout_labels\u001b[0m\u001b[0;34m,\u001b[0m \u001b[0mouts\u001b[0m\u001b[0;34m)\u001b[0m\u001b[0;34m:\u001b[0m\u001b[0;34m\u001b[0m\u001b[0;34m\u001b[0m\u001b[0m\n",
      "\u001b[0;32m/usr/local/lib/python3.7/site-packages/tensorflow_core/python/keras/backend.py\u001b[0m in \u001b[0;36m__call__\u001b[0;34m(self, inputs)\u001b[0m\n\u001b[1;32m   3738\u001b[0m         \u001b[0mvalue\u001b[0m \u001b[0;34m=\u001b[0m \u001b[0mmath_ops\u001b[0m\u001b[0;34m.\u001b[0m\u001b[0mcast\u001b[0m\u001b[0;34m(\u001b[0m\u001b[0mvalue\u001b[0m\u001b[0;34m,\u001b[0m \u001b[0mtensor\u001b[0m\u001b[0;34m.\u001b[0m\u001b[0mdtype\u001b[0m\u001b[0;34m)\u001b[0m\u001b[0;34m\u001b[0m\u001b[0;34m\u001b[0m\u001b[0m\n\u001b[1;32m   3739\u001b[0m       \u001b[0mconverted_inputs\u001b[0m\u001b[0;34m.\u001b[0m\u001b[0mappend\u001b[0m\u001b[0;34m(\u001b[0m\u001b[0mvalue\u001b[0m\u001b[0;34m)\u001b[0m\u001b[0;34m\u001b[0m\u001b[0;34m\u001b[0m\u001b[0m\n\u001b[0;32m-> 3740\u001b[0;31m     \u001b[0moutputs\u001b[0m \u001b[0;34m=\u001b[0m \u001b[0mself\u001b[0m\u001b[0;34m.\u001b[0m\u001b[0m_graph_fn\u001b[0m\u001b[0;34m(\u001b[0m\u001b[0;34m*\u001b[0m\u001b[0mconverted_inputs\u001b[0m\u001b[0;34m)\u001b[0m\u001b[0;34m\u001b[0m\u001b[0;34m\u001b[0m\u001b[0m\n\u001b[0m\u001b[1;32m   3741\u001b[0m \u001b[0;34m\u001b[0m\u001b[0m\n\u001b[1;32m   3742\u001b[0m     \u001b[0;31m# EagerTensor.numpy() will often make a copy to ensure memory safety.\u001b[0m\u001b[0;34m\u001b[0m\u001b[0;34m\u001b[0m\u001b[0;34m\u001b[0m\u001b[0m\n",
      "\u001b[0;32m/usr/local/lib/python3.7/site-packages/tensorflow_core/python/eager/function.py\u001b[0m in \u001b[0;36m__call__\u001b[0;34m(self, *args, **kwargs)\u001b[0m\n\u001b[1;32m   1079\u001b[0m       \u001b[0mTypeError\u001b[0m\u001b[0;34m:\u001b[0m \u001b[0mFor\u001b[0m \u001b[0minvalid\u001b[0m \u001b[0mpositional\u001b[0m\u001b[0;34m/\u001b[0m\u001b[0mkeyword\u001b[0m \u001b[0margument\u001b[0m \u001b[0mcombinations\u001b[0m\u001b[0;34m.\u001b[0m\u001b[0;34m\u001b[0m\u001b[0;34m\u001b[0m\u001b[0m\n\u001b[1;32m   1080\u001b[0m     \"\"\"\n\u001b[0;32m-> 1081\u001b[0;31m     \u001b[0;32mreturn\u001b[0m \u001b[0mself\u001b[0m\u001b[0;34m.\u001b[0m\u001b[0m_call_impl\u001b[0m\u001b[0;34m(\u001b[0m\u001b[0margs\u001b[0m\u001b[0;34m,\u001b[0m \u001b[0mkwargs\u001b[0m\u001b[0;34m)\u001b[0m\u001b[0;34m\u001b[0m\u001b[0;34m\u001b[0m\u001b[0m\n\u001b[0m\u001b[1;32m   1082\u001b[0m \u001b[0;34m\u001b[0m\u001b[0m\n\u001b[1;32m   1083\u001b[0m   \u001b[0;32mdef\u001b[0m \u001b[0m_call_impl\u001b[0m\u001b[0;34m(\u001b[0m\u001b[0mself\u001b[0m\u001b[0;34m,\u001b[0m \u001b[0margs\u001b[0m\u001b[0;34m,\u001b[0m \u001b[0mkwargs\u001b[0m\u001b[0;34m,\u001b[0m \u001b[0mcancellation_manager\u001b[0m\u001b[0;34m=\u001b[0m\u001b[0;32mNone\u001b[0m\u001b[0;34m)\u001b[0m\u001b[0;34m:\u001b[0m\u001b[0;34m\u001b[0m\u001b[0;34m\u001b[0m\u001b[0m\n",
      "\u001b[0;32m/usr/local/lib/python3.7/site-packages/tensorflow_core/python/eager/function.py\u001b[0m in \u001b[0;36m_call_impl\u001b[0;34m(self, args, kwargs, cancellation_manager)\u001b[0m\n\u001b[1;32m   1119\u001b[0m       raise TypeError(\"Keyword arguments {} unknown. Expected {}.\".format(\n\u001b[1;32m   1120\u001b[0m           list(kwargs.keys()), list(self._arg_keywords)))\n\u001b[0;32m-> 1121\u001b[0;31m     \u001b[0;32mreturn\u001b[0m \u001b[0mself\u001b[0m\u001b[0;34m.\u001b[0m\u001b[0m_call_flat\u001b[0m\u001b[0;34m(\u001b[0m\u001b[0margs\u001b[0m\u001b[0;34m,\u001b[0m \u001b[0mself\u001b[0m\u001b[0;34m.\u001b[0m\u001b[0mcaptured_inputs\u001b[0m\u001b[0;34m,\u001b[0m \u001b[0mcancellation_manager\u001b[0m\u001b[0;34m)\u001b[0m\u001b[0;34m\u001b[0m\u001b[0;34m\u001b[0m\u001b[0m\n\u001b[0m\u001b[1;32m   1122\u001b[0m \u001b[0;34m\u001b[0m\u001b[0m\n\u001b[1;32m   1123\u001b[0m   \u001b[0;32mdef\u001b[0m \u001b[0m_filtered_call\u001b[0m\u001b[0;34m(\u001b[0m\u001b[0mself\u001b[0m\u001b[0;34m,\u001b[0m \u001b[0margs\u001b[0m\u001b[0;34m,\u001b[0m \u001b[0mkwargs\u001b[0m\u001b[0;34m)\u001b[0m\u001b[0;34m:\u001b[0m\u001b[0;34m\u001b[0m\u001b[0;34m\u001b[0m\u001b[0m\n",
      "\u001b[0;32m/usr/local/lib/python3.7/site-packages/tensorflow_core/python/eager/function.py\u001b[0m in \u001b[0;36m_call_flat\u001b[0;34m(self, args, captured_inputs, cancellation_manager)\u001b[0m\n\u001b[1;32m   1222\u001b[0m     \u001b[0;32mif\u001b[0m \u001b[0mexecuting_eagerly\u001b[0m\u001b[0;34m:\u001b[0m\u001b[0;34m\u001b[0m\u001b[0;34m\u001b[0m\u001b[0m\n\u001b[1;32m   1223\u001b[0m       flat_outputs = forward_function.call(\n\u001b[0;32m-> 1224\u001b[0;31m           ctx, args, cancellation_manager=cancellation_manager)\n\u001b[0m\u001b[1;32m   1225\u001b[0m     \u001b[0;32melse\u001b[0m\u001b[0;34m:\u001b[0m\u001b[0;34m\u001b[0m\u001b[0;34m\u001b[0m\u001b[0m\n\u001b[1;32m   1226\u001b[0m       \u001b[0mgradient_name\u001b[0m \u001b[0;34m=\u001b[0m \u001b[0mself\u001b[0m\u001b[0;34m.\u001b[0m\u001b[0m_delayed_rewrite_functions\u001b[0m\u001b[0;34m.\u001b[0m\u001b[0mregister\u001b[0m\u001b[0;34m(\u001b[0m\u001b[0;34m)\u001b[0m\u001b[0;34m\u001b[0m\u001b[0;34m\u001b[0m\u001b[0m\n",
      "\u001b[0;32m/usr/local/lib/python3.7/site-packages/tensorflow_core/python/eager/function.py\u001b[0m in \u001b[0;36mcall\u001b[0;34m(self, ctx, args, cancellation_manager)\u001b[0m\n\u001b[1;32m    509\u001b[0m               \u001b[0minputs\u001b[0m\u001b[0;34m=\u001b[0m\u001b[0margs\u001b[0m\u001b[0;34m,\u001b[0m\u001b[0;34m\u001b[0m\u001b[0;34m\u001b[0m\u001b[0m\n\u001b[1;32m    510\u001b[0m               \u001b[0mattrs\u001b[0m\u001b[0;34m=\u001b[0m\u001b[0;34m(\u001b[0m\u001b[0;34m\"executor_type\"\u001b[0m\u001b[0;34m,\u001b[0m \u001b[0mexecutor_type\u001b[0m\u001b[0;34m,\u001b[0m \u001b[0;34m\"config_proto\"\u001b[0m\u001b[0;34m,\u001b[0m \u001b[0mconfig\u001b[0m\u001b[0;34m)\u001b[0m\u001b[0;34m,\u001b[0m\u001b[0;34m\u001b[0m\u001b[0;34m\u001b[0m\u001b[0m\n\u001b[0;32m--> 511\u001b[0;31m               ctx=ctx)\n\u001b[0m\u001b[1;32m    512\u001b[0m         \u001b[0;32melse\u001b[0m\u001b[0;34m:\u001b[0m\u001b[0;34m\u001b[0m\u001b[0;34m\u001b[0m\u001b[0m\n\u001b[1;32m    513\u001b[0m           outputs = execute.execute_with_cancellation(\n",
      "\u001b[0;32m/usr/local/lib/python3.7/site-packages/tensorflow_core/python/eager/execute.py\u001b[0m in \u001b[0;36mquick_execute\u001b[0;34m(op_name, num_outputs, inputs, attrs, ctx, name)\u001b[0m\n\u001b[1;32m     65\u001b[0m     \u001b[0;32melse\u001b[0m\u001b[0;34m:\u001b[0m\u001b[0;34m\u001b[0m\u001b[0;34m\u001b[0m\u001b[0m\n\u001b[1;32m     66\u001b[0m       \u001b[0mmessage\u001b[0m \u001b[0;34m=\u001b[0m \u001b[0me\u001b[0m\u001b[0;34m.\u001b[0m\u001b[0mmessage\u001b[0m\u001b[0;34m\u001b[0m\u001b[0;34m\u001b[0m\u001b[0m\n\u001b[0;32m---> 67\u001b[0;31m     \u001b[0msix\u001b[0m\u001b[0;34m.\u001b[0m\u001b[0mraise_from\u001b[0m\u001b[0;34m(\u001b[0m\u001b[0mcore\u001b[0m\u001b[0;34m.\u001b[0m\u001b[0m_status_to_exception\u001b[0m\u001b[0;34m(\u001b[0m\u001b[0me\u001b[0m\u001b[0;34m.\u001b[0m\u001b[0mcode\u001b[0m\u001b[0;34m,\u001b[0m \u001b[0mmessage\u001b[0m\u001b[0;34m)\u001b[0m\u001b[0;34m,\u001b[0m \u001b[0;32mNone\u001b[0m\u001b[0;34m)\u001b[0m\u001b[0;34m\u001b[0m\u001b[0;34m\u001b[0m\u001b[0m\n\u001b[0m\u001b[1;32m     68\u001b[0m   \u001b[0;32mexcept\u001b[0m \u001b[0mTypeError\u001b[0m \u001b[0;32mas\u001b[0m \u001b[0me\u001b[0m\u001b[0;34m:\u001b[0m\u001b[0;34m\u001b[0m\u001b[0;34m\u001b[0m\u001b[0m\n\u001b[1;32m     69\u001b[0m     keras_symbolic_tensors = [\n",
      "\u001b[0;32m/usr/local/lib/python3.7/site-packages/six.py\u001b[0m in \u001b[0;36mraise_from\u001b[0;34m(value, from_value)\u001b[0m\n",
      "\u001b[0;31mInvalidArgumentError\u001b[0m:  slice index 3 of dimension 0 out of bounds.\n\t [[node metrics_15/iou/strided_slice_3 (defined at /usr/local/lib/python3.7/site-packages/tensorflow_core/python/framework/ops.py:1751) ]] [Op:__inference_keras_scratch_graph_5347]\n\nFunction call stack:\nkeras_scratch_graph\n"
     ]
    }
   ],
   "source": [
    "h = model.fit(X_train, Y_train, validation_data=(X_test, Y_test), batch_size=batch_size, epochs=num_epochs)"
   ]
  },
  {
   "cell_type": "code",
   "execution_count": 16,
   "metadata": {},
   "outputs": [
    {
     "data": {
      "image/png": "[encoded data removed]",
      "text/plain": [
       "<Figure size 432x288 with 1 Axes>"
      ]
     },
     "metadata": {
      "needs_background": "light"
     },
     "output_type": "display_data"
    }
   ],
   "source": [
    "train_loss = h.history['loss']\n",
    "test_loss  = h.history['val_loss']\n",
    "epoch_count = range(1, len(train_loss) + 1)\n",
    "\n",
    "plt.plot(epoch_count, train_loss, 'r--')\n",
    "plt.plot(epoch_count, test_loss, 'b-')\n",
    "plt.legend(['Training Loss', 'Test Loss'])\n",
    "plt.xlabel('Epoch')\n",
    "plt.ylabel('Loss')\n",
    "#plt.ylim([0,0.2])\n",
    "plt.show();\n"
   ]
  },
  {
   "cell_type": "code",
   "execution_count": 26,
   "metadata": {},
   "outputs": [],
   "source": [
    "#plt.savefig(\"models/\" + model_name + \".png\")"
   ]
  },
  {
   "cell_type": "code",
   "execution_count": 17,
   "metadata": {},
   "outputs": [],
   "source": [
    "def get_results(x,y) : \n",
    "    pred = model.predict(x)\n",
    "    return (pred, y, y-pred , np.mean( (y-pred)**2) ) \n",
    "    "
   ]
  },
  {
   "cell_type": "code",
   "execution_count": 18,
   "metadata": {},
   "outputs": [],
   "source": [
    "y_train_p, y_train, train_diff , train_loss = get_results(X_train,Y_train)"
   ]
  },
  {
   "cell_type": "code",
   "execution_count": 25,
   "metadata": {},
   "outputs": [],
   "source": [
    "y_test_p, y_test, test_diff , test_loss = get_results(X_test,Y_test)"
   ]
  },
  {
   "cell_type": "code",
   "execution_count": 58,
   "metadata": {},
   "outputs": [],
   "source": [
    "\n",
    "\n",
    "'''\n",
    "    Definition of IOU: \n",
    "    https://www.kaggle.com/c/data-science-bowl-2018/discussion/51553\n",
    "    \n",
    "    Float sizes error (double vs float) :     \n",
    "    https://stackoverflow.com/questions/54255431/invalidargumenterror-cannot-compute-matmul-as-input-0zero-based-was-expected\n",
    "    \n",
    "    Changing type syntax\n",
    "    y_true = Y_test.astype('float32')\n",
    "    \n",
    "\n",
    "\n",
    "    \n",
    "    Some other weird error about tensors\n",
    "    https://askvoprosy.com/voprosy/tensorflow-how-do-i-convert-a-eagertensor-into-a-numpy-array\n",
    "    \n",
    "    math\n",
    "    intersection: \n",
    "    \n",
    "    max(truemin, predmin)\n",
    "    min(truemax, predmax)\n",
    "\n",
    "\n",
    "'''\n",
    "\n",
    "\n",
    "def iou2(y_true, y_pred, smooth = 1e-8):\n",
    "    \n",
    "    \n",
    "    ious = []\n",
    "    \n",
    "    overlap = True\n",
    "    \n",
    "    results = {}\n",
    "    string = \"success\"\n",
    "    for i in range(len(y_true)):\n",
    "        truexmin = y_true[i][0]\n",
    "        trueymin = y_true[i][1]\n",
    "        truexmax = y_true[i][2]        \n",
    "        trueymax = y_true[i][3]\n",
    "        \n",
    "        predxmin = y_pred[i][0]\n",
    "        predymin = y_pred[i][1]\n",
    "        predxmax = y_pred[i][2]        \n",
    "        predymax = y_pred[i][3]\n",
    "        \n",
    "        if (predymin > trueymax):\n",
    "            overlap = False\n",
    "            string = \"no overlap: Clause 1, predymin > trueymax\"\n",
    "            #print(string)\n",
    "            \n",
    "        if (predxmin > truexmax):\n",
    "            overlap = False\n",
    "            string = \"no overlap: Clause 2, predxmin > truexmax\"\n",
    "            #print(string)\n",
    "        if (predxmax < truexmin):\n",
    "            overlap = False\n",
    "            string = \"no overlap: Clause 3, predxmax < truexmin\"\n",
    "            #print(string)\n",
    "            \n",
    "        if (predymax < trueymin):\n",
    "            overlap = False\n",
    "            string = \"no overlap: Clause 4, predymax < trueymin\"\n",
    "            #print(string)\n",
    "        \n",
    "        \n",
    "        xminintersect = max(truexmin, predxmin)\n",
    "        yminintersect = max(trueymin, predymin)\n",
    "        \n",
    "        xmaxintersect = min(truexmax, predxmax)\n",
    "        ymaxintersect = min(trueymax, predymax)\n",
    "        \n",
    "        intersection = (ymaxintersect - yminintersect) * (xmaxintersect - xminintersect)\n",
    "        #print(\"intersection\", intersection)\n",
    "        union = (predxmax - predxmin) * (predymax - predymin) +  \\\n",
    "                        (truexmax - truexmin) * (trueymax - trueymin) + \\\n",
    "                        - intersection\n",
    "        #print(\"union\", union)\n",
    "        \n",
    "        if overlap:\n",
    "            iou = intersection/(union + smooth)\n",
    "        else:\n",
    "            iou = 0\n",
    "        \n",
    "        results[i] = string\n",
    "        ious.append(iou)\n",
    "    return results, mean(ious)\n",
    "\n"
   ]
  },
  {
   "cell_type": "code",
   "execution_count": 59,
   "metadata": {},
   "outputs": [],
   "source": [
    "results, iou = iou2(y_train, y_train_p)"
   ]
  },
  {
   "cell_type": "code",
   "execution_count": 60,
   "metadata": {},
   "outputs": [
    {
     "name": "stdout",
     "output_type": "stream",
     "text": [
      "no overlap: Clause 2, predxmin > truexmax \n",
      " xmin ymin xmax ymax \n",
      " true [195. 106. 231. 131.] \n",
      " pred [273.06067 218.12628 282.04926 239.03061]\n",
      "no overlap: Clause 4, predymax < trueymin \n",
      " xmin ymin xmax ymax \n",
      " true [133. 349. 159. 368.] \n",
      " pred [242.73811 298.59915 234.24437 301.6817 ]\n",
      "no overlap: Clause 2, predxmin > truexmax \n",
      " xmin ymin xmax ymax \n",
      " true [168.  63. 199.  91.] \n",
      " pred [238.17159 140.14958 281.7037  178.1733 ]\n",
      "no overlap: Clause 2, predxmin > truexmax \n",
      " xmin ymin xmax ymax \n",
      " true [173. 116. 201. 139.] \n",
      " pred [263.73145 251.90123 268.61514 265.19913]\n",
      "no overlap: Clause 3, predxmax < truexmin \n",
      " xmin ymin xmax ymax \n",
      " true [244. 161. 275. 199.] \n",
      " pred [237.74074 254.5436  242.86336 263.75027]\n",
      "no overlap: Clause 4, predymax < trueymin \n",
      " xmin ymin xmax ymax \n",
      " true [160. 268. 186. 290.] \n",
      " pred [195.9399  219.09749 194.27283 219.00151]\n",
      "no overlap: Clause 2, predxmin > truexmax \n",
      " xmin ymin xmax ymax \n",
      " true [ 58. 278.  74. 295.] \n",
      " pred [242.89119 384.04602 242.23117 397.78845]\n",
      "no overlap: Clause 3, predxmax < truexmin \n",
      " xmin ymin xmax ymax \n",
      " true [278. 185. 295. 203.] \n",
      " pred [254.77263 347.6774  261.22815 358.284  ]\n",
      "no overlap: Clause 3, predxmax < truexmin \n",
      " xmin ymin xmax ymax \n",
      " true [281. 243. 299. 258.] \n",
      " pred [247.51497 291.8955  254.23465 298.74493]\n",
      "no overlap: Clause 4, predymax < trueymin \n",
      " xmin ymin xmax ymax \n",
      " true [127. 334. 148. 351.] \n",
      " pred [242.7309  323.478   242.39325 330.0231 ]\n",
      "no overlap: Clause 2, predxmin > truexmax \n",
      " xmin ymin xmax ymax \n",
      " true [ 69. 268.  85. 285.] \n",
      " pred [248.97142 345.90964 246.18333 353.99915]\n",
      "no overlap: Clause 4, predymax < trueymin \n",
      " xmin ymin xmax ymax \n",
      " true [252. 168. 276. 190.] \n",
      " pred [192.00949 141.14845 214.62221 164.61916]\n",
      "no overlap: Clause 4, predymax < trueymin \n",
      " xmin ymin xmax ymax \n",
      " true [251. 190. 273. 214.] \n",
      " pred [177.43715  126.838455 200.19934  148.42767 ]\n",
      "no overlap: Clause 2, predxmin > truexmax \n",
      " xmin ymin xmax ymax \n",
      " true [129. 162. 212. 248.] \n",
      " pred [265.5183  307.96933 271.73422 326.49103]\n",
      "no overlap: Clause 2, predxmin > truexmax \n",
      " xmin ymin xmax ymax \n",
      " true [250. 228. 274. 253.] \n",
      " pred [246.07135 227.91246 252.96906 239.73376]\n",
      "no overlap: Clause 1, predymin > trueymax \n",
      " xmin ymin xmax ymax \n",
      " true [249. 204. 273. 225.] \n",
      " pred [258.17767 240.48987 263.7067  253.47745]\n",
      "no overlap: Clause 3, predxmax < truexmin \n",
      " xmin ymin xmax ymax \n",
      " true [251. 210. 276. 235.] \n",
      " pred [244.80348 239.73262 242.98944 247.41118]\n",
      "no overlap: Clause 1, predymin > trueymax \n",
      " xmin ymin xmax ymax \n",
      " true [254. 216. 278. 237.] \n",
      " pred [271.4032  273.93146 277.70135 292.2817 ]\n",
      "no overlap: Clause 2, predxmin > truexmax \n",
      " xmin ymin xmax ymax \n",
      " true [107. 174. 139. 218.] \n",
      " pred [310.90082 245.39967 305.28973 250.72618]\n",
      "no overlap: Clause 2, predxmin > truexmax \n",
      " xmin ymin xmax ymax \n",
      " true [272. 152. 296. 175.] \n",
      " pred [314.2899  251.71896 310.1285  255.88042]\n",
      "no overlap: Clause 3, predxmax < truexmin \n",
      " xmin ymin xmax ymax \n",
      " true [255. 198. 275. 221.] \n",
      " pred [230.70833 278.25082 225.01483 282.8868 ]\n",
      "no overlap: Clause 2, predxmin > truexmax \n",
      " xmin ymin xmax ymax \n",
      " true [136. 162. 164. 196.] \n",
      " pred [245.33688 203.72443 242.76276 208.1767 ]\n",
      "no overlap: Clause 3, predxmax < truexmin \n",
      " xmin ymin xmax ymax \n",
      " true [285. 151. 305. 173.] \n",
      " pred [256.6421  208.06934 253.40724 211.3147 ]\n",
      "no overlap: Clause 3, predxmax < truexmin \n",
      " xmin ymin xmax ymax \n",
      " true [289. 176. 307. 198.] \n",
      " pred [222.21599 241.38579 217.0989  247.97829]\n",
      "no overlap: Clause 2, predxmin > truexmax \n",
      " xmin ymin xmax ymax \n",
      " true [138. 179. 165. 213.] \n",
      " pred [194.17238 214.41367 187.27924 223.94997]\n",
      "no overlap: Clause 4, predymax < trueymin \n",
      " xmin ymin xmax ymax \n",
      " true [139. 270. 164. 298.] \n",
      " pred [236.40295 254.246   235.78065 263.09152]\n",
      "no overlap: Clause 2, predxmin > truexmax \n",
      " xmin ymin xmax ymax \n",
      " true [134. 187. 162. 222.] \n",
      " pred [197.05185 220.86734 190.59244 234.19434]\n",
      "no overlap: Clause 2, predxmin > truexmax \n",
      " xmin ymin xmax ymax \n",
      " true [128. 207. 156. 241.] \n",
      " pred [223.40926 315.56613 227.06969 329.4121 ]\n",
      "no overlap: Clause 2, predxmin > truexmax \n",
      " xmin ymin xmax ymax \n",
      " true [132. 290. 159. 316.] \n",
      " pred [252.12727 360.2902  253.25406 368.92435]\n",
      "no overlap: Clause 2, predxmin > truexmax \n",
      " xmin ymin xmax ymax \n",
      " true [134. 290. 160. 318.] \n",
      " pred [257.70456 366.43353 259.81723 376.4702 ]\n"
     ]
    }
   ],
   "source": [
    "#xmin ymin xmax ymax\n",
    "for i in range(30):\n",
    "    print(results[i], '\\n', \"xmin ymin xmax ymax\", \"\\n\", \"true\", y_train[i], '\\n', \"pred\", y_train_p[i])"
   ]
  },
  {
   "cell_type": "code",
   "execution_count": 51,
   "metadata": {},
   "outputs": [
    {
     "data": {
      "text/plain": [
       "array([133., 349., 159., 368.])"
      ]
     },
     "execution_count": 51,
     "metadata": {},
     "output_type": "execute_result"
    }
   ],
   "source": [
    "#y_train[2]"
   ]
  },
  {
   "cell_type": "code",
   "execution_count": 52,
   "metadata": {},
   "outputs": [
    {
     "data": {
      "text/plain": [
       "array([242.73811, 298.59915, 234.24437, 301.6817 ], dtype=float32)"
      ]
     },
     "execution_count": 52,
     "metadata": {},
     "output_type": "execute_result"
    }
   ],
   "source": [
    "#y_train_p[2]"
   ]
  },
  {
   "cell_type": "code",
   "execution_count": 29,
   "metadata": {},
   "outputs": [],
   "source": [
    "#iou(y_train, y_train_p)"
   ]
  },
  {
   "cell_type": "code",
   "execution_count": 57,
   "metadata": {},
   "outputs": [],
   "source": [
    "def iou_coef(y_true, y_pred, smooth=1):\n",
    "    intersection = K.sum(K.abs(y_true * y_pred))\n",
    "    union = K.sum(y_true)+K.sum(y_pred)\n",
    "    iou = K.mean((intersection + smooth) / (union + smooth), axis=0)\n",
    "    return iou"
   ]
  },
  {
   "cell_type": "raw",
   "metadata": {},
   "source": [
    "\n",
    "i = 0\n",
    "intersection = K.sum(K.abs(y_train_p[i] * Y_test[i]))\n",
    "#union = K.sum(y_train_p[i]) + K.sum(y_train_p[i])# - intersection\n",
    "#tf.math.add()\n",
    "K.sum(y_train_p[i])\n",
    "#intersection\n",
    "#union = tf.math.subtract(K.sum(y_train_p[i]) , intersection)\n"
   ]
  },
  {
   "cell_type": "code",
   "execution_count": 27,
   "metadata": {},
   "outputs": [
    {
     "ename": "NameError",
     "evalue": "name 'y_pred' is not defined",
     "output_type": "error",
     "traceback": [
      "\u001b[0;31m---------------------------------------------------------------------------\u001b[0m",
      "\u001b[0;31mNameError\u001b[0m                                 Traceback (most recent call last)",
      "\u001b[0;32m<ipython-input-27-21306083c0db>\u001b[0m in \u001b[0;36m<module>\u001b[0;34m\u001b[0m\n\u001b[0;32m----> 1\u001b[0;31m \u001b[0miou\u001b[0m\u001b[0;34m(\u001b[0m\u001b[0my_true\u001b[0m\u001b[0;34m[\u001b[0m\u001b[0;36m1\u001b[0m\u001b[0;34m:\u001b[0m\u001b[0;36m2\u001b[0m\u001b[0;34m]\u001b[0m\u001b[0;34m,\u001b[0m \u001b[0my_pred\u001b[0m\u001b[0;34m[\u001b[0m\u001b[0;36m1\u001b[0m\u001b[0;34m:\u001b[0m\u001b[0;36m2\u001b[0m\u001b[0;34m]\u001b[0m\u001b[0;34m)\u001b[0m\u001b[0;34m\u001b[0m\u001b[0;34m\u001b[0m\u001b[0m\n\u001b[0m",
      "\u001b[0;31mNameError\u001b[0m: name 'y_pred' is not defined"
     ]
    }
   ],
   "source": [
    "iou(y_true[1:2], y_pred[1:2])"
   ]
  },
  {
   "cell_type": "code",
   "execution_count": 143,
   "metadata": {
    "scrolled": true
   },
   "outputs": [],
   "source": [
    "#y_train_p"
   ]
  },
  {
   "cell_type": "code",
   "execution_count": 144,
   "metadata": {
    "scrolled": true
   },
   "outputs": [],
   "source": [
    "#y_train"
   ]
  },
  {
   "cell_type": "code",
   "execution_count": null,
   "metadata": {},
   "outputs": [],
   "source": [
    "(y_train_p - y_train)#train_diff"
   ]
  },
  {
   "cell_type": "code",
   "execution_count": null,
   "metadata": {},
   "outputs": [],
   "source": [
    "train_loss"
   ]
  },
  {
   "cell_type": "code",
   "execution_count": null,
   "metadata": {},
   "outputs": [],
   "source": [
    "# serialize model to JSON\n",
    "def save_model(model,name) : \n",
    "    model_json = model.to_json()\n",
    "    model_name = \"models/\" + name\n",
    "    with open(model_name + \".json\", \"w\") as json_file:\n",
    "        json_file.write(model_json)\n",
    "    # serialize weights to HDF5\n",
    "    model.save_weights(model_name + \".h5\")\n",
    "    print(\"Saved model to disk\")"
   ]
  },
  {
   "cell_type": "code",
   "execution_count": null,
   "metadata": {},
   "outputs": [],
   "source": [
    "save_model(model,model_name)"
   ]
  },
  {
   "cell_type": "code",
   "execution_count": null,
   "metadata": {},
   "outputs": [],
   "source": []
  }
 ],
 "metadata": {
  "kernelspec": {
   "display_name": "Python 3",
   "language": "python",
   "name": "python3"
  },
  "language_info": {
   "codemirror_mode": {
    "name": "ipython",
    "version": 3
   },
   "file_extension": ".py",
   "mimetype": "text/x-python",
   "name": "python",
   "nbconvert_exporter": "python",
   "pygments_lexer": "ipython3",
   "version": "3.7.4"
  }
 },
 "nbformat": 4,
 "nbformat_minor": 2
}
