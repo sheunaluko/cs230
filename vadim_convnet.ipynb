{
 "cells": [
  {
   "cell_type": "code",
   "execution_count": 1,
   "metadata": {},
   "outputs": [
    {
     "name": "stdout",
     "output_type": "stream",
     "text": [
      "Loaded util\n"
     ]
    }
   ],
   "source": [
    "import util as u\n",
    "import tensorflow as tf\n",
    "import numpy as np\n",
    "from tensorflow.keras.models import Sequential\n",
    "from tensorflow.keras.layers import Dense, Conv2D, Flatten, Activation\n",
    "from tensorflow.keras.models import Model\n",
    "import matplotlib.pyplot as plt\n",
    "\n",
    "from tensorflow.keras.applications.vgg16 import VGG16\n",
    "from tensorflow.keras.preprocessing import image\n",
    "from tensorflow.keras.applications.vgg16 import preprocess_input\n",
    "\n",
    "keras = tf.keras\n",
    "\n"
   ]
  },
  {
   "cell_type": "code",
   "execution_count": 2,
   "metadata": {},
   "outputs": [],
   "source": [
    "xs,ys = u.get_dataset()\n",
    "X_train  = xs[:30]\n",
    "Y_train = ys[:30]; Y_train = Y_train.reshape(30,4)\n",
    "X_val = xs[30:39]\n",
    "Y_val = ys[30:39]; Y_val = Y_val.reshape(9,4)\n",
    "\n",
    "#set params\n",
    "batch_size=2\n",
    "num_epochs=100\n",
    "model_name=\"v0_\" + str(num_epochs) + \"e_b\" + str(batch_size)"
   ]
  },
  {
   "cell_type": "code",
   "execution_count": 3,
   "metadata": {},
   "outputs": [],
   "source": [
    "\n",
    "with tf.device('/cpu:0'):\n",
    "    base_model = VGG16(weights='imagenet', input_shape = (512,512,3), include_top = False)\n",
    "    #Extracting features from end of 5th block of layers in VGG16, size is  (None, 32, 32, 512)\n",
    "    pre_model = Model(inputs=base_model.input, outputs=base_model.get_layer('block5_conv3').output)\n",
    "\n",
    "    X_train = preprocess_input(X_train)\n",
    "    vgg_16_5_features = pre_model.predict(X_train) #shape of feature tensor is (30, 32, 32, 512)\n"
   ]
  },
  {
   "cell_type": "code",
   "execution_count": 4,
   "metadata": {},
   "outputs": [],
   "source": [
    "vgg_16_5_val_features = pre_model.predict(X_val)"
   ]
  },
  {
   "cell_type": "code",
   "execution_count": 5,
   "metadata": {},
   "outputs": [],
   "source": [
    "#create model\n",
    "model = Sequential()\n",
    "#add model layers\n",
    "\n",
    "#pool\n",
    "model.add(Conv2D(64, kernel_size=3, activation='relu', input_shape=(32, 32, 512)))\n",
    "\n",
    "model.add(tf.keras.layers.MaxPooling2D(pool_size=(2,2)))\n",
    "\n",
    "model.add(Conv2D(10, kernel_size=6))\n",
    "model.add(Activation('relu'))\n",
    "model.add(Conv2D(10, kernel_size=6))\n",
    "model.add(Activation('relu'))\n",
    "\n",
    "#pool \n",
    "model.add(tf.keras.layers.MaxPooling2D(pool_size=(2,2)))\n",
    "model.add(Flatten())\n",
    "model.add(Dense(4, activation = None))\n",
    "\n",
    "\n",
    "#model.add(Dense(4, activation = \"sigmoid\", kernel_initializer=keras.initializers.RandomNormal(mean=0,stddev=0.05)))\n",
    "\n",
    "# https://towardsdatascience.com/building-a-convolutional-neural-network-cnn-in-keras-329fbbadc5f5"
   ]
  },
  {
   "cell_type": "code",
   "execution_count": 6,
   "metadata": {},
   "outputs": [],
   "source": [
    "#compile model using accuracy to measure model performance\n",
    "model.compile(optimizer=tf.keras.optimizers.Adam(learning_rate=0.001,beta_1=0.9,beta_2=0.999), loss='mean_squared_error')"
   ]
  },
  {
   "cell_type": "code",
   "execution_count": 7,
   "metadata": {},
   "outputs": [],
   "source": [
    "#model.summary()"
   ]
  },
  {
   "cell_type": "code",
   "execution_count": 8,
   "metadata": {
    "scrolled": false
   },
   "outputs": [
    {
     "name": "stdout",
     "output_type": "stream",
     "text": [
      "Train on 30 samples, validate on 9 samples\n",
      "Epoch 1/100\n",
      "30/30 [==============================] - 2s 82ms/sample - loss: 17106.1469 - val_loss: 7834.7759\n",
      "Epoch 2/100\n",
      "30/30 [==============================] - 0s 7ms/sample - loss: 7138.8347 - val_loss: 5002.9368\n",
      "Epoch 3/100\n",
      "30/30 [==============================] - 0s 7ms/sample - loss: 3138.8889 - val_loss: 4026.7280\n",
      "Epoch 4/100\n",
      "30/30 [==============================] - 0s 6ms/sample - loss: 1801.0541 - val_loss: 5021.7388\n",
      "Epoch 5/100\n",
      "30/30 [==============================] - 0s 7ms/sample - loss: 1254.2411 - val_loss: 4031.9153\n",
      "Epoch 6/100\n",
      "30/30 [==============================] - 0s 8ms/sample - loss: 1227.5229 - val_loss: 4577.6529\n",
      "Epoch 7/100\n",
      "30/30 [==============================] - 0s 7ms/sample - loss: 1073.8750 - val_loss: 4578.1935\n",
      "Epoch 8/100\n",
      "30/30 [==============================] - 0s 7ms/sample - loss: 556.4160 - val_loss: 2975.3479\n",
      "Epoch 9/100\n",
      "30/30 [==============================] - 0s 7ms/sample - loss: 322.1420 - val_loss: 2908.1296\n",
      "Epoch 10/100\n",
      "30/30 [==============================] - 0s 7ms/sample - loss: 210.0679 - val_loss: 3205.9835\n",
      "Epoch 11/100\n",
      "30/30 [==============================] - 0s 7ms/sample - loss: 171.5783 - val_loss: 2632.9757\n",
      "Epoch 12/100\n",
      "30/30 [==============================] - 0s 7ms/sample - loss: 138.5075 - val_loss: 2613.8522\n",
      "Epoch 13/100\n",
      "30/30 [==============================] - 0s 7ms/sample - loss: 138.6299 - val_loss: 2681.7469\n",
      "Epoch 14/100\n",
      "30/30 [==============================] - 0s 7ms/sample - loss: 147.6750 - val_loss: 2340.6253\n",
      "Epoch 15/100\n",
      "30/30 [==============================] - 0s 7ms/sample - loss: 159.1637 - val_loss: 2569.3920\n",
      "Epoch 16/100\n",
      "30/30 [==============================] - 0s 7ms/sample - loss: 157.1016 - val_loss: 2620.2611\n",
      "Epoch 17/100\n",
      "30/30 [==============================] - 0s 7ms/sample - loss: 61.9809 - val_loss: 2319.6356\n",
      "Epoch 18/100\n",
      "30/30 [==============================] - 0s 7ms/sample - loss: 50.4447 - val_loss: 2370.4909\n",
      "Epoch 19/100\n",
      "30/30 [==============================] - 0s 7ms/sample - loss: 91.4409 - val_loss: 2168.4576\n",
      "Epoch 20/100\n",
      "30/30 [==============================] - 0s 7ms/sample - loss: 129.1721 - val_loss: 2073.8748\n",
      "Epoch 21/100\n",
      "30/30 [==============================] - 0s 8ms/sample - loss: 226.8339 - val_loss: 2508.5980\n",
      "Epoch 22/100\n",
      "30/30 [==============================] - 0s 7ms/sample - loss: 304.5582 - val_loss: 2390.7878\n",
      "Epoch 23/100\n",
      "30/30 [==============================] - 0s 7ms/sample - loss: 206.7267 - val_loss: 3057.1258\n",
      "Epoch 24/100\n",
      "30/30 [==============================] - 0s 9ms/sample - loss: 258.0655 - val_loss: 2280.4543\n",
      "Epoch 25/100\n",
      "30/30 [==============================] - 0s 9ms/sample - loss: 275.4773 - val_loss: 3365.1750\n",
      "Epoch 26/100\n",
      "30/30 [==============================] - 0s 8ms/sample - loss: 357.4497 - val_loss: 2581.8718\n",
      "Epoch 27/100\n",
      "30/30 [==============================] - 0s 7ms/sample - loss: 267.8756 - val_loss: 2676.0053\n",
      "Epoch 28/100\n",
      "30/30 [==============================] - 0s 7ms/sample - loss: 207.3640 - val_loss: 2450.0828\n",
      "Epoch 29/100\n",
      "30/30 [==============================] - 0s 7ms/sample - loss: 292.1899 - val_loss: 1883.6936\n",
      "Epoch 30/100\n",
      "30/30 [==============================] - 0s 7ms/sample - loss: 461.4024 - val_loss: 3263.5010\n",
      "Epoch 31/100\n",
      "30/30 [==============================] - 0s 7ms/sample - loss: 753.8185 - val_loss: 1837.6814\n",
      "Epoch 32/100\n",
      "30/30 [==============================] - 0s 7ms/sample - loss: 574.6455 - val_loss: 1929.2322\n",
      "Epoch 33/100\n",
      "30/30 [==============================] - 0s 7ms/sample - loss: 551.0367 - val_loss: 2302.3412\n",
      "Epoch 34/100\n",
      "30/30 [==============================] - 0s 7ms/sample - loss: 538.5152 - val_loss: 3093.9204\n",
      "Epoch 35/100\n",
      "30/30 [==============================] - 0s 7ms/sample - loss: 416.3437 - val_loss: 2607.3040\n",
      "Epoch 36/100\n",
      "30/30 [==============================] - 0s 7ms/sample - loss: 255.8606 - val_loss: 2397.6127\n",
      "Epoch 37/100\n",
      "30/30 [==============================] - 0s 7ms/sample - loss: 326.9988 - val_loss: 2223.4967\n",
      "Epoch 38/100\n",
      "30/30 [==============================] - 0s 7ms/sample - loss: 257.0691 - val_loss: 2393.4779\n",
      "Epoch 39/100\n",
      "30/30 [==============================] - 0s 7ms/sample - loss: 203.0785 - val_loss: 2694.2091\n",
      "Epoch 40/100\n",
      "30/30 [==============================] - 0s 7ms/sample - loss: 247.5355 - val_loss: 2850.8204\n",
      "Epoch 41/100\n",
      "30/30 [==============================] - 0s 7ms/sample - loss: 443.6601 - val_loss: 2231.1034\n",
      "Epoch 42/100\n",
      "30/30 [==============================] - 0s 7ms/sample - loss: 349.0115 - val_loss: 3059.9846\n",
      "Epoch 43/100\n",
      "30/30 [==============================] - 0s 6ms/sample - loss: 457.2161 - val_loss: 2558.8584\n",
      "Epoch 44/100\n",
      "30/30 [==============================] - 0s 7ms/sample - loss: 968.2946 - val_loss: 7248.5369\n",
      "Epoch 45/100\n",
      "30/30 [==============================] - 0s 7ms/sample - loss: 1346.7895 - val_loss: 2546.0426\n",
      "Epoch 46/100\n",
      "30/30 [==============================] - 0s 7ms/sample - loss: 906.7828 - val_loss: 4375.6886\n",
      "Epoch 47/100\n",
      "30/30 [==============================] - 0s 7ms/sample - loss: 1187.8987 - val_loss: 2542.6030\n",
      "Epoch 48/100\n",
      "30/30 [==============================] - 0s 7ms/sample - loss: 605.7162 - val_loss: 3343.5340\n",
      "Epoch 49/100\n",
      "30/30 [==============================] - 0s 7ms/sample - loss: 331.4271 - val_loss: 2614.4887\n",
      "Epoch 50/100\n",
      "30/30 [==============================] - 0s 7ms/sample - loss: 198.1678 - val_loss: 2610.0091\n",
      "Epoch 51/100\n",
      "30/30 [==============================] - 0s 7ms/sample - loss: 336.7570 - val_loss: 3561.1241\n",
      "Epoch 52/100\n",
      "30/30 [==============================] - 0s 7ms/sample - loss: 300.3519 - val_loss: 2607.9179\n",
      "Epoch 53/100\n",
      "30/30 [==============================] - 0s 7ms/sample - loss: 208.2003 - val_loss: 2835.0335\n",
      "Epoch 54/100\n",
      "30/30 [==============================] - 0s 7ms/sample - loss: 232.1797 - val_loss: 2369.7585\n",
      "Epoch 55/100\n",
      "30/30 [==============================] - 0s 8ms/sample - loss: 165.2738 - val_loss: 2490.2371\n",
      "Epoch 56/100\n",
      "30/30 [==============================] - 0s 9ms/sample - loss: 72.6443 - val_loss: 2439.8244\n",
      "Epoch 57/100\n",
      "30/30 [==============================] - 0s 10ms/sample - loss: 55.6046 - val_loss: 2425.3860\n",
      "Epoch 58/100\n",
      "30/30 [==============================] - 0s 9ms/sample - loss: 59.4404 - val_loss: 2701.8195\n",
      "Epoch 59/100\n",
      "30/30 [==============================] - 0s 8ms/sample - loss: 29.0711 - val_loss: 2398.2829\n",
      "Epoch 60/100\n",
      "30/30 [==============================] - 0s 11ms/sample - loss: 23.5702 - val_loss: 2524.1877\n",
      "Epoch 61/100\n",
      "30/30 [==============================] - 0s 10ms/sample - loss: 24.7863 - val_loss: 2569.6175\n",
      "Epoch 62/100\n",
      "30/30 [==============================] - 0s 5ms/sample - loss: 26.1249 - val_loss: 2615.6484\n",
      "Epoch 63/100\n",
      "30/30 [==============================] - 0s 5ms/sample - loss: 22.6065 - val_loss: 2433.2598\n",
      "Epoch 64/100\n",
      "30/30 [==============================] - 0s 9ms/sample - loss: 16.3778 - val_loss: 2637.4560\n",
      "Epoch 65/100\n",
      "30/30 [==============================] - 0s 11ms/sample - loss: 31.2109 - val_loss: 2487.5082\n",
      "Epoch 66/100\n",
      "30/30 [==============================] - 0s 11ms/sample - loss: 37.4510 - val_loss: 2453.0562\n",
      "Epoch 67/100\n",
      "30/30 [==============================] - 0s 10ms/sample - loss: 32.5770 - val_loss: 2498.6656\n",
      "Epoch 68/100\n",
      "30/30 [==============================] - 0s 10ms/sample - loss: 19.2349 - val_loss: 2303.6850\n",
      "Epoch 69/100\n",
      "30/30 [==============================] - 0s 10ms/sample - loss: 33.8370 - val_loss: 2526.3210\n",
      "Epoch 70/100\n",
      "30/30 [==============================] - 0s 5ms/sample - loss: 42.9485 - val_loss: 2376.2682\n",
      "Epoch 71/100\n",
      "30/30 [==============================] - 0s 5ms/sample - loss: 35.0371 - val_loss: 2656.1907\n",
      "Epoch 72/100\n",
      "30/30 [==============================] - 0s 9ms/sample - loss: 37.5228 - val_loss: 2454.2349\n",
      "Epoch 73/100\n",
      "30/30 [==============================] - 0s 11ms/sample - loss: 45.5789 - val_loss: 2530.6844\n",
      "Epoch 74/100\n",
      "30/30 [==============================] - 0s 11ms/sample - loss: 49.8763 - val_loss: 2626.1396\n",
      "Epoch 75/100\n",
      "30/30 [==============================] - 0s 8ms/sample - loss: 36.7082 - val_loss: 2617.0863\n",
      "Epoch 76/100\n",
      "30/30 [==============================] - 0s 8ms/sample - loss: 36.1477 - val_loss: 2415.3565\n",
      "Epoch 77/100\n"
     ]
    },
    {
     "name": "stdout",
     "output_type": "stream",
     "text": [
      "30/30 [==============================] - 0s 8ms/sample - loss: 18.1818 - val_loss: 2534.7027\n",
      "Epoch 78/100\n",
      "30/30 [==============================] - 0s 12ms/sample - loss: 17.0247 - val_loss: 2456.3963\n",
      "Epoch 79/100\n",
      "30/30 [==============================] - 0s 12ms/sample - loss: 21.6104 - val_loss: 2599.4866\n",
      "Epoch 80/100\n",
      "30/30 [==============================] - 0s 11ms/sample - loss: 28.9348 - val_loss: 2467.6744\n",
      "Epoch 81/100\n",
      "30/30 [==============================] - 0s 9ms/sample - loss: 54.4447 - val_loss: 2564.0095\n",
      "Epoch 82/100\n",
      "30/30 [==============================] - 0s 7ms/sample - loss: 112.3286 - val_loss: 2580.9174\n",
      "Epoch 83/100\n",
      "30/30 [==============================] - 0s 11ms/sample - loss: 203.4243 - val_loss: 2568.6841\n",
      "Epoch 84/100\n",
      "30/30 [==============================] - 0s 8ms/sample - loss: 645.3273 - val_loss: 3707.1714\n",
      "Epoch 85/100\n",
      "30/30 [==============================] - 0s 7ms/sample - loss: 1744.5932 - val_loss: 2265.9879\n",
      "Epoch 86/100\n",
      "30/30 [==============================] - 0s 6ms/sample - loss: 2107.4013 - val_loss: 3506.6398\n",
      "Epoch 87/100\n",
      "30/30 [==============================] - 0s 7ms/sample - loss: 2054.2367 - val_loss: 3561.6268\n",
      "Epoch 88/100\n",
      "30/30 [==============================] - 0s 7ms/sample - loss: 1396.7125 - val_loss: 2469.3333\n",
      "Epoch 89/100\n",
      "30/30 [==============================] - 0s 6ms/sample - loss: 872.0397 - val_loss: 3529.2956\n",
      "Epoch 90/100\n",
      "30/30 [==============================] - 0s 7ms/sample - loss: 798.3004 - val_loss: 2738.2454\n",
      "Epoch 91/100\n",
      "30/30 [==============================] - 0s 6ms/sample - loss: 1415.5440 - val_loss: 2421.6679\n",
      "Epoch 92/100\n",
      "30/30 [==============================] - 0s 6ms/sample - loss: 953.4735 - val_loss: 2178.0171\n",
      "Epoch 93/100\n",
      "30/30 [==============================] - 0s 7ms/sample - loss: 867.3943 - val_loss: 3315.4458\n",
      "Epoch 94/100\n",
      "30/30 [==============================] - 0s 7ms/sample - loss: 501.3049 - val_loss: 2480.2890\n",
      "Epoch 95/100\n",
      "30/30 [==============================] - 0s 6ms/sample - loss: 247.5383 - val_loss: 2046.6332\n",
      "Epoch 96/100\n",
      "30/30 [==============================] - 0s 7ms/sample - loss: 193.8329 - val_loss: 2354.1782\n",
      "Epoch 97/100\n",
      "30/30 [==============================] - 0s 7ms/sample - loss: 151.9764 - val_loss: 2158.9746\n",
      "Epoch 98/100\n",
      "30/30 [==============================] - 0s 7ms/sample - loss: 181.6570 - val_loss: 2333.4230\n",
      "Epoch 99/100\n",
      "30/30 [==============================] - 0s 7ms/sample - loss: 87.5951 - val_loss: 2518.0272\n",
      "Epoch 100/100\n",
      "30/30 [==============================] - 0s 8ms/sample - loss: 49.9473 - val_loss: 2470.2608\n"
     ]
    }
   ],
   "source": [
    "h = model.fit(vgg_16_5_features, Y_train, validation_data=(vgg_16_5_val_features, Y_val), batch_size=batch_size, epochs=num_epochs)"
   ]
  },
  {
   "cell_type": "code",
   "execution_count": 9,
   "metadata": {},
   "outputs": [
    {
     "data": {
      "image/png": "[encoded data removed]",
      "text/plain": [
       "<Figure size 432x288 with 1 Axes>"
      ]
     },
     "metadata": {
      "needs_background": "light"
     },
     "output_type": "display_data"
    }
   ],
   "source": [
    "train_loss = h.history['loss']\n",
    "test_loss  = h.history['val_loss']\n",
    "epoch_count = range(1, len(train_loss) + 1)\n",
    "\n",
    "plt.plot(epoch_count, train_loss, 'r--')\n",
    "plt.plot(epoch_count, test_loss, 'b-')\n",
    "plt.legend(['Training Loss', 'Validation Loss'])\n",
    "plt.xlabel('Epoch')\n",
    "plt.ylabel('Loss')\n",
    "plt.show();\n"
   ]
  },
  {
   "cell_type": "code",
   "execution_count": 10,
   "metadata": {},
   "outputs": [],
   "source": [
    "#plt.savefig(\"models/\" + model_name + \".png\")"
   ]
  },
  {
   "cell_type": "code",
   "execution_count": 11,
   "metadata": {},
   "outputs": [],
   "source": [
    "def get_results(x,y) : \n",
    "    pred = model.predict(x)\n",
    "    return (pred, y, y-pred , np.mean( (y-pred)**2) ) \n",
    "    "
   ]
  },
  {
   "cell_type": "code",
   "execution_count": 12,
   "metadata": {},
   "outputs": [],
   "source": [
    "y_train_p, y_train, train_diff , train_loss = get_results(vgg_16_5_features,Y_train)"
   ]
  },
  {
   "cell_type": "code",
   "execution_count": 13,
   "metadata": {},
   "outputs": [],
   "source": [
    "y_test_p, y_test, test_diff , test_loss = get_results(vgg_16_5_val_features,Y_val)"
   ]
  },
  {
   "cell_type": "code",
   "execution_count": 14,
   "metadata": {
    "scrolled": true
   },
   "outputs": [
    {
     "data": {
      "text/plain": [
       "array([[192.024   , 113.74994 , 225.48187 , 132.04405 ],\n",
       "       [129.86351 , 352.37134 , 151.54355 , 370.69388 ],\n",
       "       [161.39818 ,  69.01326 , 195.00664 ,  90.81032 ],\n",
       "       [167.00871 , 118.51182 , 195.80206 , 137.18608 ],\n",
       "       [244.75676 , 161.44159 , 275.38007 , 197.44505 ],\n",
       "       [153.83095 , 275.99954 , 177.02213 , 289.48972 ],\n",
       "       [ 59.125366, 278.64584 ,  68.140175, 293.86038 ],\n",
       "       [265.07352 , 186.70491 , 286.8005  , 197.62914 ],\n",
       "       [275.2437  , 252.06203 , 291.8883  , 261.2969  ],\n",
       "       [123.14382 , 330.93323 , 140.87874 , 335.8616  ],\n",
       "       [ 64.64922 , 271.2777  ,  79.592255, 283.9486  ],\n",
       "       [255.99503 , 176.86243 , 282.0762  , 191.86662 ],\n",
       "       [257.33395 , 209.3622  , 279.34515 , 220.854   ],\n",
       "       [133.65399 , 176.496   , 210.47264 , 255.05865 ],\n",
       "       [248.8416  , 237.30157 , 275.31833 , 252.5016  ],\n",
       "       [242.51836 , 207.3401  , 267.10944 , 221.0389  ],\n",
       "       [246.07054 , 209.76529 , 271.5742  , 229.76299 ],\n",
       "       [249.43298 , 217.13078 , 274.03372 , 232.08006 ],\n",
       "       [104.63976 , 192.87439 , 135.1363  , 228.71849 ],\n",
       "       [266.8215  , 164.14069 , 293.3141  , 176.41905 ],\n",
       "       [250.49171 , 209.61086 , 271.54398 , 221.01472 ],\n",
       "       [137.12474 , 174.20477 , 161.32793 , 201.36394 ],\n",
       "       [290.2031  , 168.74153 , 307.608   , 179.95412 ],\n",
       "       [288.87183 , 190.29637 , 304.12192 , 201.23285 ],\n",
       "       [137.16624 , 186.37679 , 159.83458 , 214.98686 ],\n",
       "       [136.89758 , 273.25793 , 159.47621 , 298.03494 ],\n",
       "       [129.85501 , 191.09422 , 156.48117 , 222.12907 ],\n",
       "       [127.974   , 223.14069 , 152.83755 , 248.20334 ],\n",
       "       [133.85146 , 303.09763 , 156.75598 , 322.95633 ],\n",
       "       [134.31728 , 293.67786 , 154.90736 , 311.60757 ]], dtype=float32)"
      ]
     },
     "execution_count": 14,
     "metadata": {},
     "output_type": "execute_result"
    }
   ],
   "source": [
    "y_train_p"
   ]
  },
  {
   "cell_type": "code",
   "execution_count": 15,
   "metadata": {
    "scrolled": true
   },
   "outputs": [
    {
     "data": {
      "text/plain": [
       "array([[195., 106., 231., 131.],\n",
       "       [133., 349., 159., 368.],\n",
       "       [168.,  63., 199.,  91.],\n",
       "       [173., 116., 201., 139.],\n",
       "       [244., 161., 275., 199.],\n",
       "       [160., 268., 186., 290.],\n",
       "       [ 58., 278.,  74., 295.],\n",
       "       [278., 185., 295., 203.],\n",
       "       [281., 243., 299., 258.],\n",
       "       [127., 334., 148., 351.],\n",
       "       [ 69., 268.,  85., 285.],\n",
       "       [252., 168., 276., 190.],\n",
       "       [251., 190., 273., 214.],\n",
       "       [129., 162., 212., 248.],\n",
       "       [250., 228., 274., 253.],\n",
       "       [249., 204., 273., 225.],\n",
       "       [251., 210., 276., 235.],\n",
       "       [254., 216., 278., 237.],\n",
       "       [107., 174., 139., 218.],\n",
       "       [272., 152., 296., 175.],\n",
       "       [255., 198., 275., 221.],\n",
       "       [136., 162., 164., 196.],\n",
       "       [285., 151., 305., 173.],\n",
       "       [289., 176., 307., 198.],\n",
       "       [138., 179., 165., 213.],\n",
       "       [139., 270., 164., 298.],\n",
       "       [134., 187., 162., 222.],\n",
       "       [128., 207., 156., 241.],\n",
       "       [132., 290., 159., 316.],\n",
       "       [134., 290., 160., 318.]])"
      ]
     },
     "execution_count": 15,
     "metadata": {},
     "output_type": "execute_result"
    }
   ],
   "source": [
    "y_train"
   ]
  },
  {
   "cell_type": "code",
   "execution_count": 16,
   "metadata": {},
   "outputs": [
    {
     "data": {
      "text/plain": [
       "array([[-2.97599792e+00,  7.74993896e+00, -5.51812744e+00,\n",
       "         1.04405212e+00],\n",
       "       [-3.13648987e+00,  3.37133789e+00, -7.45645142e+00,\n",
       "         2.69387817e+00],\n",
       "       [-6.60182190e+00,  6.01325989e+00, -3.99336243e+00,\n",
       "        -1.89682007e-01],\n",
       "       [-5.99128723e+00,  2.51181793e+00, -5.19793701e+00,\n",
       "        -1.81391907e+00],\n",
       "       [ 7.56759644e-01,  4.41589355e-01,  3.80065918e-01,\n",
       "        -1.55494690e+00],\n",
       "       [-6.16905212e+00,  7.99954224e+00, -8.97787476e+00,\n",
       "        -5.10284424e-01],\n",
       "       [ 1.12536621e+00,  6.45843506e-01, -5.85982513e+00,\n",
       "        -1.13961792e+00],\n",
       "       [-1.29264832e+01,  1.70491028e+00, -8.19949341e+00,\n",
       "        -5.37086487e+00],\n",
       "       [-5.75628662e+00,  9.06202698e+00, -7.11169434e+00,\n",
       "         3.29690552e+00],\n",
       "       [-3.85617828e+00, -3.06677246e+00, -7.12126160e+00,\n",
       "        -1.51383972e+01],\n",
       "       [-4.35077667e+00,  3.27770996e+00, -5.40774536e+00,\n",
       "        -1.05139160e+00],\n",
       "       [ 3.99502563e+00,  8.86242676e+00,  6.07620239e+00,\n",
       "         1.86662292e+00],\n",
       "       [ 6.33395386e+00,  1.93621979e+01,  6.34515381e+00,\n",
       "         6.85400391e+00],\n",
       "       [ 4.65399170e+00,  1.44960022e+01, -1.52735901e+00,\n",
       "         7.05865479e+00],\n",
       "       [-1.15840149e+00,  9.30157471e+00,  1.31832886e+00,\n",
       "        -4.98397827e-01],\n",
       "       [-6.48164368e+00,  3.34010315e+00, -5.89056396e+00,\n",
       "        -3.96110535e+00],\n",
       "       [-4.92945862e+00, -2.34710693e-01, -4.42581177e+00,\n",
       "        -5.23701477e+00],\n",
       "       [-4.56701660e+00,  1.13078308e+00, -3.96627808e+00,\n",
       "        -4.91993713e+00],\n",
       "       [-2.36023712e+00,  1.88743896e+01, -3.86369324e+00,\n",
       "         1.07184906e+01],\n",
       "       [-5.17849731e+00,  1.21406860e+01, -2.68591309e+00,\n",
       "         1.41905212e+00],\n",
       "       [-4.50828552e+00,  1.16108551e+01, -3.45602417e+00,\n",
       "         1.47247314e-02],\n",
       "       [ 1.12474060e+00,  1.22047729e+01, -2.67207336e+00,\n",
       "         5.36393738e+00],\n",
       "       [ 5.20309448e+00,  1.77415314e+01,  2.60800171e+00,\n",
       "         6.95411682e+00],\n",
       "       [-1.28173828e-01,  1.42963715e+01, -2.87808228e+00,\n",
       "         3.23284912e+00],\n",
       "       [-8.33755493e-01,  7.37678528e+00, -5.16542053e+00,\n",
       "         1.98686218e+00],\n",
       "       [-2.10241699e+00,  3.25793457e+00, -4.52378845e+00,\n",
       "         3.49426270e-02],\n",
       "       [-4.14498901e+00,  4.09422302e+00, -5.51882935e+00,\n",
       "         1.29074097e-01],\n",
       "       [-2.60009766e-02,  1.61406860e+01, -3.16244507e+00,\n",
       "         7.20333862e+00],\n",
       "       [ 1.85145569e+00,  1.30976257e+01, -2.24401855e+00,\n",
       "         6.95632935e+00],\n",
       "       [ 3.17276001e-01,  3.67785645e+00, -5.09263611e+00,\n",
       "        -6.39242554e+00]])"
      ]
     },
     "execution_count": 16,
     "metadata": {},
     "output_type": "execute_result"
    }
   ],
   "source": [
    "(y_train_p - y_train)#train_diff"
   ]
  },
  {
   "cell_type": "code",
   "execution_count": 17,
   "metadata": {},
   "outputs": [
    {
     "data": {
      "text/plain": [
       "42.4712506615193"
      ]
     },
     "execution_count": 17,
     "metadata": {},
     "output_type": "execute_result"
    }
   ],
   "source": [
    "train_loss"
   ]
  },
  {
   "cell_type": "code",
   "execution_count": 18,
   "metadata": {},
   "outputs": [],
   "source": [
    "# serialize model to JSON\n",
    "def save_model(model,name) : \n",
    "    model_json = model.to_json()\n",
    "    model_name = \"models/\" + name\n",
    "    with open(model_name + \".json\", \"w\") as json_file:\n",
    "        json_file.write(model_json)\n",
    "    # serialize weights to HDF5\n",
    "    model.save_weights(model_name + \".h5\")\n",
    "    print(\"Saved model to disk\")"
   ]
  },
  {
   "cell_type": "code",
   "execution_count": 19,
   "metadata": {},
   "outputs": [],
   "source": [
    "#save_model(model,model_name)"
   ]
  },
  {
   "cell_type": "code",
   "execution_count": null,
   "metadata": {},
   "outputs": [],
   "source": []
  }
 ],
 "metadata": {
  "kernelspec": {
   "display_name": "Python 3",
   "language": "python",
   "name": "python3"
  },
  "language_info": {
   "codemirror_mode": {
    "name": "ipython",
    "version": 3
   },
   "file_extension": ".py",
   "mimetype": "text/x-python",
   "name": "python",
   "nbconvert_exporter": "python",
   "pygments_lexer": "ipython3",
   "version": "3.7.4"
  }
 },
 "nbformat": 4,
 "nbformat_minor": 2
}
