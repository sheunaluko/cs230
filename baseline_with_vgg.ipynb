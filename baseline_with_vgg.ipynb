{
 "cells": [
  {
   "cell_type": "markdown",
   "metadata": {},
   "source": [
    "## CS230 Deep Learning  | Model Baseline + VGG\n",
    "\n",
    "Fall 2019: Sheun Aluko, Surya Narayanan, Vadim Piccini\n",
    "\n",
    "Note: util.py defines several utilities for loading and processing raw data, ml_helpers defines ml specific functions"
   ]
  },
  {
   "cell_type": "code",
   "execution_count": 1,
   "metadata": {},
   "outputs": [
    {
     "name": "stdout",
     "output_type": "stream",
     "text": [
      "Reloaded: util\n",
      "Reloaded: ml_helpers\n"
     ]
    }
   ],
   "source": [
    "# conventional imports \n",
    "import tensorflow as tf\n",
    "import numpy as np\n",
    "from tensorflow.keras.models import Sequential\n",
    "from tensorflow.keras.layers import Dense, Conv2D, Flatten, Activation\n",
    "import matplotlib.pyplot as plt\n",
    "keras = tf.keras\n",
    "\n",
    "#custom imports \n",
    "import util as u\n",
    "import ml_helpers as ml \n",
    "import reloader  \n",
    "\n",
    "# The reloader object allows reloading of source code after modifications are made \n",
    "r = reloader.Reloader([\"util\",\"ml_helpers\"]) \n",
    "r.reload() "
   ]
  },
  {
   "cell_type": "code",
   "execution_count": 2,
   "metadata": {},
   "outputs": [],
   "source": [
    "#set params\n",
    "batch_size=1\n",
    "num_epochs=70\n",
    "data_fraction = 1\n",
    "learning_rate = 0.0001 "
   ]
  },
  {
   "cell_type": "code",
   "execution_count": 3,
   "metadata": {},
   "outputs": [
    {
     "name": "stdout",
     "output_type": "stream",
     "text": [
      "\n",
      "Loading data for term index: 8\n",
      "Fraction of data that will be loaded=1\n",
      "\n",
      "Loading train set\n",
      "Removed 6 lesion(s) of 1995\n",
      "On index: 100\n",
      "On index: 200\n",
      "On index: 300\n",
      "On index: 400\n",
      "On index: 500\n",
      "On index: 600\n",
      "On index: 700\n",
      "On index: 800\n",
      "On index: 900\n",
      "On index: 1000\n",
      "On index: 1100\n",
      "On index: 1200\n",
      "On index: 1300\n",
      "On index: 1400\n",
      "On index: 1500\n",
      "On index: 1600\n",
      "On index: 1700\n",
      "On index: 1800\n",
      "On index: 1900\n",
      "Done\n",
      "\n",
      "Loading val set\n",
      "Removed 0 lesion(s) of 179\n",
      "On index: 100\n",
      "Done\n",
      "\n",
      "Loading test set\n",
      "Removed 1 lesion(s) of 203\n",
      "On index: 100\n",
      "On index: 200\n",
      "Done\n",
      "\n",
      "Train Size: 1989\n",
      "Val Size: 179\n"
     ]
    }
   ],
   "source": [
    "#load data \n",
    "data = u.data_load(f=data_fraction) "
   ]
  },
  {
   "cell_type": "code",
   "execution_count": 4,
   "metadata": {},
   "outputs": [
    {
     "name": "stdout",
     "output_type": "stream",
     "text": [
      "\n",
      "Using provided data\n",
      "\n",
      "WARNING:tensorflow:From /usr/local/lib/python3.6/dist-packages/tensorflow_core/python/ops/resource_variable_ops.py:1630: calling BaseResourceVariable.__init__ (from tensorflow.python.ops.resource_variable_ops) with constraint is deprecated and will be removed in a future version.\n",
      "Instructions for updating:\n",
      "If using Keras pass *_constraint arguments to layers.\n",
      "\n",
      "Using dropout: 0.05\n",
      "\n",
      "\n",
      "Runing model:: vVCB1989_e70_b1_lr0.0001_d0.05\n",
      "\n",
      "WARNING:tensorflow:From /tf/cs230/ml_helpers.py:118: py_func (from tensorflow.python.ops.script_ops) is deprecated and will be removed in a future version.\n",
      "Instructions for updating:\n",
      "tf.py_func is deprecated in TF V2. Instead, there are two\n",
      "    options available in V2.\n",
      "    - tf.py_function takes a python function which manipulates tf eager\n",
      "    tensors instead of numpy arrays. It's easy to convert a tf eager tensor to\n",
      "    an ndarray (just call tensor.numpy()) but having access to eager tensors\n",
      "    means `tf.py_function`s can use accelerators such as GPUs as well as\n",
      "    being differentiable using a gradient tape.\n",
      "    - tf.numpy_function maintains the semantics of the deprecated tf.py_func\n",
      "    (it is not differentiable, and manipulates numpy arrays). It drops the\n",
      "    stateful argument making all functions stateful.\n",
      "    \n",
      "\n",
      "Fitting multi_GPU=[False] model with bs=1,epochs=70,lr=0.0001\n",
      "\n",
      "Train on 1989 samples, validate on 179 samples\n",
      "Epoch 1/70\n",
      "1989/1989 [==============================] - 1934s 973ms/sample - loss: 1.4883 - IoU: 0.0195 - val_loss: 0.0163 - val_IoU: 0.0177\n",
      "Epoch 2/70\n",
      "1989/1989 [==============================] - 1926s 968ms/sample - loss: 0.0110 - IoU: 0.0388 - val_loss: 0.0212 - val_IoU: 0.0186\n",
      "Epoch 3/70\n",
      "1989/1989 [==============================] - 1925s 968ms/sample - loss: 0.0101 - IoU: 0.0481 - val_loss: 0.0154 - val_IoU: 0.0257\n",
      "Epoch 4/70\n",
      "1989/1989 [==============================] - 1923s 967ms/sample - loss: 0.0118 - IoU: 0.0358 - val_loss: 0.0150 - val_IoU: 0.0223\n",
      "Epoch 5/70\n",
      "1989/1989 [==============================] - 1921s 966ms/sample - loss: 0.0126 - IoU: 0.0355 - val_loss: 0.0133 - val_IoU: 0.0279\n",
      "Epoch 6/70\n",
      "1989/1989 [==============================] - 1920s 965ms/sample - loss: 0.0125 - IoU: 0.0366 - val_loss: 0.0141 - val_IoU: 0.0168\n",
      "Epoch 7/70\n",
      "1989/1989 [==============================] - 1919s 965ms/sample - loss: 0.0125 - IoU: 0.0339 - val_loss: 0.0138 - val_IoU: 0.0243\n",
      "Epoch 8/70\n",
      "1989/1989 [==============================] - 1918s 965ms/sample - loss: 0.0124 - IoU: 0.0391 - val_loss: 0.0133 - val_IoU: 0.0165\n",
      "Epoch 9/70\n",
      "1989/1989 [==============================] - 1918s 964ms/sample - loss: 0.0124 - IoU: 0.0362 - val_loss: 0.0174 - val_IoU: 0.0144\n",
      "Epoch 10/70\n",
      "1989/1989 [==============================] - 1918s 964ms/sample - loss: 0.0124 - IoU: 0.0377 - val_loss: 0.0148 - val_IoU: 0.0306\n",
      "Epoch 11/70\n",
      "1989/1989 [==============================] - 1917s 964ms/sample - loss: 0.0117 - IoU: 0.0418 - val_loss: 0.0158 - val_IoU: 0.0197\n",
      "Epoch 12/70\n",
      "1989/1989 [==============================] - 1917s 964ms/sample - loss: 0.0110 - IoU: 0.0456 - val_loss: 0.0169 - val_IoU: 0.0229\n",
      "Epoch 13/70\n",
      "1989/1989 [==============================] - 1917s 964ms/sample - loss: 0.0098 - IoU: 0.0600 - val_loss: 0.0165 - val_IoU: 0.0138\n",
      "Epoch 14/70\n",
      "1989/1989 [==============================] - 1917s 964ms/sample - loss: 0.0088 - IoU: 0.0616 - val_loss: 0.0167 - val_IoU: 0.0132\n",
      "Epoch 15/70\n",
      "1989/1989 [==============================] - 1917s 964ms/sample - loss: 0.0076 - IoU: 0.0809 - val_loss: 0.0170 - val_IoU: 0.0203\n",
      "Epoch 16/70\n",
      "1989/1989 [==============================] - 1919s 965ms/sample - loss: 0.0062 - IoU: 0.0969 - val_loss: 0.0155 - val_IoU: 0.0280\n",
      "Epoch 17/70\n",
      "1989/1989 [==============================] - 1918s 964ms/sample - loss: 0.0053 - IoU: 0.1077 - val_loss: 0.0179 - val_IoU: 0.0253\n",
      "Epoch 18/70\n",
      "1989/1989 [==============================] - 1918s 964ms/sample - loss: 0.0044 - IoU: 0.1262 - val_loss: 0.0173 - val_IoU: 0.0277\n",
      "Epoch 19/70\n",
      "1989/1989 [==============================] - 1919s 965ms/sample - loss: 0.0039 - IoU: 0.1349 - val_loss: 0.0183 - val_IoU: 0.0264\n",
      "Epoch 20/70\n",
      "1989/1989 [==============================] - 1918s 964ms/sample - loss: 0.0034 - IoU: 0.1474 - val_loss: 0.0195 - val_IoU: 0.0267\n",
      "Epoch 21/70\n",
      "1989/1989 [==============================] - 1918s 964ms/sample - loss: 0.0030 - IoU: 0.1611 - val_loss: 0.0178 - val_IoU: 0.0364\n",
      "Epoch 22/70\n",
      "1989/1989 [==============================] - 1918s 964ms/sample - loss: 0.0028 - IoU: 0.1713 - val_loss: 0.0174 - val_IoU: 0.0318\n",
      "Epoch 23/70\n",
      "1989/1989 [==============================] - 1918s 964ms/sample - loss: 0.0025 - IoU: 0.1780 - val_loss: 0.0190 - val_IoU: 0.0317\n",
      "Epoch 24/70\n",
      "1989/1989 [==============================] - 1918s 964ms/sample - loss: 0.0024 - IoU: 0.1877 - val_loss: 0.0182 - val_IoU: 0.0268\n",
      "Epoch 25/70\n",
      "1989/1989 [==============================] - 1918s 964ms/sample - loss: 0.0022 - IoU: 0.1938 - val_loss: 0.0180 - val_IoU: 0.0256\n",
      "Epoch 26/70\n",
      "1989/1989 [==============================] - 1917s 964ms/sample - loss: 0.0019 - IoU: 0.2098 - val_loss: 0.0187 - val_IoU: 0.0249\n",
      "Epoch 27/70\n",
      "1989/1989 [==============================] - 1917s 964ms/sample - loss: 0.0021 - IoU: 0.2030 - val_loss: 0.0190 - val_IoU: 0.0159\n",
      "Epoch 28/70\n",
      "1989/1989 [==============================] - 1919s 965ms/sample - loss: 0.0018 - IoU: 0.2210 - val_loss: 0.0171 - val_IoU: 0.0251\n",
      "Epoch 29/70\n",
      "1989/1989 [==============================] - 1918s 964ms/sample - loss: 0.0018 - IoU: 0.2240 - val_loss: 0.0181 - val_IoU: 0.0217\n",
      "Epoch 30/70\n",
      "1989/1989 [==============================] - 1918s 964ms/sample - loss: 0.0015 - IoU: 0.2481 - val_loss: 0.0189 - val_IoU: 0.0197\n",
      "Epoch 31/70\n",
      "1989/1989 [==============================] - 1919s 965ms/sample - loss: 0.0014 - IoU: 0.2394 - val_loss: 0.0183 - val_IoU: 0.0322\n",
      "Epoch 32/70\n",
      "1989/1989 [==============================] - 1918s 964ms/sample - loss: 0.0016 - IoU: 0.2453 - val_loss: 0.0188 - val_IoU: 0.0298\n",
      "Epoch 33/70\n",
      "1989/1989 [==============================] - 1919s 965ms/sample - loss: 0.0014 - IoU: 0.2517 - val_loss: 0.0178 - val_IoU: 0.0305\n",
      "Epoch 34/70\n",
      "1989/1989 [==============================] - 1918s 964ms/sample - loss: 0.0013 - IoU: 0.2611 - val_loss: 0.0172 - val_IoU: 0.0267\n",
      "Epoch 35/70\n",
      "1989/1989 [==============================] - 1918s 964ms/sample - loss: 0.0012 - IoU: 0.2717 - val_loss: 0.0174 - val_IoU: 0.0322\n",
      "Epoch 36/70\n",
      "1989/1989 [==============================] - 1919s 965ms/sample - loss: 0.0012 - IoU: 0.2667 - val_loss: 0.0174 - val_IoU: 0.0279\n",
      "Epoch 37/70\n",
      "1989/1989 [==============================] - 1920s 965ms/sample - loss: 0.0011 - IoU: 0.2770 - val_loss: 0.0169 - val_IoU: 0.0323\n",
      "Epoch 38/70\n",
      "1989/1989 [==============================] - 1919s 965ms/sample - loss: 0.0011 - IoU: 0.2826 - val_loss: 0.0171 - val_IoU: 0.0298\n",
      "Epoch 39/70\n",
      "1989/1989 [==============================] - 1918s 964ms/sample - loss: 0.0011 - IoU: 0.2799 - val_loss: 0.0179 - val_IoU: 0.0294\n",
      "Epoch 40/70\n",
      "1989/1989 [==============================] - 1919s 965ms/sample - loss: 0.0011 - IoU: 0.2741 - val_loss: 0.0184 - val_IoU: 0.0274\n",
      "Epoch 41/70\n",
      "1989/1989 [==============================] - 1918s 965ms/sample - loss: 0.0011 - IoU: 0.2878 - val_loss: 0.0179 - val_IoU: 0.0285\n",
      "Epoch 42/70\n",
      "1989/1989 [==============================] - 1918s 964ms/sample - loss: 0.0010 - IoU: 0.2931 - val_loss: 0.0172 - val_IoU: 0.0275\n",
      "Epoch 43/70\n",
      "1989/1989 [==============================] - 1919s 965ms/sample - loss: 9.5183e-04 - IoU: 0.3046 - val_loss: 0.0170 - val_IoU: 0.0313\n",
      "Epoch 44/70\n",
      "1989/1989 [==============================] - 1919s 965ms/sample - loss: 9.7417e-04 - IoU: 0.3005 - val_loss: 0.0171 - val_IoU: 0.0334\n",
      "Epoch 45/70\n",
      "1989/1989 [==============================] - 1918s 964ms/sample - loss: 9.0390e-04 - IoU: 0.3068 - val_loss: 0.0173 - val_IoU: 0.0306\n",
      "Epoch 46/70\n",
      "1989/1989 [==============================] - 1918s 965ms/sample - loss: 9.3750e-04 - IoU: 0.2980 - val_loss: 0.0177 - val_IoU: 0.0270\n",
      "Epoch 47/70\n",
      "1989/1989 [==============================] - 1919s 965ms/sample - loss: 8.5683e-04 - IoU: 0.3116 - val_loss: 0.0169 - val_IoU: 0.0291\n",
      "Epoch 48/70\n",
      "1989/1989 [==============================] - 1919s 965ms/sample - loss: 8.5903e-04 - IoU: 0.3180 - val_loss: 0.0167 - val_IoU: 0.0352\n"
     ]
    },
    {
     "name": "stdout",
     "output_type": "stream",
     "text": [
      "Epoch 49/70\n",
      "1989/1989 [==============================] - 1919s 965ms/sample - loss: 8.4880e-04 - IoU: 0.3143 - val_loss: 0.0169 - val_IoU: 0.0281\n",
      "Epoch 50/70\n",
      "1989/1989 [==============================] - 1919s 965ms/sample - loss: 8.1178e-04 - IoU: 0.3215 - val_loss: 0.0169 - val_IoU: 0.0225\n",
      "Epoch 51/70\n",
      "1989/1989 [==============================] - 1919s 965ms/sample - loss: 7.6019e-04 - IoU: 0.3328 - val_loss: 0.0169 - val_IoU: 0.0325\n",
      "Epoch 52/70\n",
      "1989/1989 [==============================] - 1918s 965ms/sample - loss: 8.0600e-04 - IoU: 0.3250 - val_loss: 0.0180 - val_IoU: 0.0245\n",
      "Epoch 53/70\n",
      "1989/1989 [==============================] - 1919s 965ms/sample - loss: 7.7827e-04 - IoU: 0.3317 - val_loss: 0.0172 - val_IoU: 0.0290\n",
      "Epoch 54/70\n",
      "1989/1989 [==============================] - 1919s 965ms/sample - loss: 7.5914e-04 - IoU: 0.3325 - val_loss: 0.0171 - val_IoU: 0.0330\n",
      "Epoch 55/70\n",
      "1989/1989 [==============================] - 1920s 965ms/sample - loss: 9.9623e-04 - IoU: 0.2933 - val_loss: 0.0174 - val_IoU: 0.0275\n",
      "Epoch 56/70\n",
      "1989/1989 [==============================] - 1919s 965ms/sample - loss: 7.5660e-04 - IoU: 0.3312 - val_loss: 0.0168 - val_IoU: 0.0283\n",
      "Epoch 57/70\n",
      "1989/1989 [==============================] - 1918s 964ms/sample - loss: 7.2284e-04 - IoU: 0.3381 - val_loss: 0.0168 - val_IoU: 0.0275\n",
      "Epoch 58/70\n",
      "1989/1989 [==============================] - 1919s 965ms/sample - loss: 6.7062e-04 - IoU: 0.3476 - val_loss: 0.0175 - val_IoU: 0.0302\n",
      "Epoch 59/70\n",
      "1989/1989 [==============================] - 1919s 965ms/sample - loss: 7.0069e-04 - IoU: 0.3410 - val_loss: 0.0177 - val_IoU: 0.0246\n",
      "Epoch 60/70\n",
      "1989/1989 [==============================] - 1919s 965ms/sample - loss: 7.2424e-04 - IoU: 0.3397 - val_loss: 0.0174 - val_IoU: 0.0295\n",
      "Epoch 61/70\n",
      "1989/1989 [==============================] - 1918s 964ms/sample - loss: 7.2436e-04 - IoU: 0.3415 - val_loss: 0.0172 - val_IoU: 0.0327\n",
      "Epoch 62/70\n",
      "1989/1989 [==============================] - 1918s 964ms/sample - loss: 6.7001e-04 - IoU: 0.3502 - val_loss: 0.0172 - val_IoU: 0.0291\n",
      "Epoch 63/70\n",
      "1989/1989 [==============================] - 1919s 965ms/sample - loss: 6.5952e-04 - IoU: 0.3590 - val_loss: 0.0173 - val_IoU: 0.0236\n",
      "Epoch 64/70\n",
      "1989/1989 [==============================] - 1919s 965ms/sample - loss: 6.8924e-04 - IoU: 0.3470 - val_loss: 0.0173 - val_IoU: 0.0264\n",
      "Epoch 65/70\n",
      "1989/1989 [==============================] - 1919s 965ms/sample - loss: 6.5558e-04 - IoU: 0.3519 - val_loss: 0.0172 - val_IoU: 0.0284\n",
      "Epoch 66/70\n",
      "1989/1989 [==============================] - 1919s 965ms/sample - loss: 6.5041e-04 - IoU: 0.3530 - val_loss: 0.0171 - val_IoU: 0.0234\n",
      "Epoch 67/70\n",
      "1989/1989 [==============================] - 1919s 965ms/sample - loss: 6.0719e-04 - IoU: 0.3681 - val_loss: 0.0167 - val_IoU: 0.0248\n",
      "Epoch 68/70\n",
      "1989/1989 [==============================] - 1919s 965ms/sample - loss: 6.1201e-04 - IoU: 0.3639 - val_loss: 0.0168 - val_IoU: 0.0254\n",
      "Epoch 69/70\n",
      "1989/1989 [==============================] - 1919s 965ms/sample - loss: 6.0493e-04 - IoU: 0.3613 - val_loss: 0.0160 - val_IoU: 0.0289\n",
      "Epoch 70/70\n",
      "1989/1989 [==============================] - 1919s 965ms/sample - loss: 6.0261e-04 - IoU: 0.3675 - val_loss: 0.0174 - val_IoU: 0.0263\n",
      "\n",
      "Saving model\n"
     ]
    }
   ],
   "source": [
    "# RUN THE MODEL \n",
    "result = ml.run_model(data=data,\n",
    "                      batch_size=batch_size,\n",
    "                      num_epochs=num_epochs,\n",
    "                      learning_rate=learning_rate,\n",
    "                      learning_rate_decay = False,\n",
    "                      dropout=0.05,\n",
    "                      save=True ,\n",
    "                      multi_gpu=False,\n",
    "                      model_id='vgg_co_baseline')"
   ]
  },
  {
   "cell_type": "code",
   "execution_count": 5,
   "metadata": {
    "scrolled": true
   },
   "outputs": [
    {
     "data": {
      "image/png": "[encoded data removed]",
      "text/plain": [
       "<Figure size 432x288 with 1 Axes>"
      ]
     },
     "metadata": {
      "needs_background": "light"
     },
     "output_type": "display_data"
    }
   ],
   "source": [
    "ml.train_curve(result['train_info'].history,name=result['name'])"
   ]
  },
  {
   "cell_type": "code",
   "execution_count": null,
   "metadata": {
    "scrolled": true
   },
   "outputs": [],
   "source": []
  },
  {
   "cell_type": "code",
   "execution_count": null,
   "metadata": {},
   "outputs": [],
   "source": [
    "result['train_info'].history"
   ]
  },
  {
   "cell_type": "code",
   "execution_count": 6,
   "metadata": {},
   "outputs": [],
   "source": [
    "np.save(\"models/{}_history\".format(result['name']), result['train_info'].history)\n",
    "np.save(\"models/{}_time\".format(result['name']), result['time_info'])"
   ]
  },
  {
   "cell_type": "code",
   "execution_count": null,
   "metadata": {},
   "outputs": [],
   "source": []
  }
 ],
 "metadata": {
  "kernelspec": {
   "display_name": "Python 3",
   "language": "python",
   "name": "python3"
  },
  "language_info": {
   "codemirror_mode": {
    "name": "ipython",
    "version": 3
   },
   "file_extension": ".py",
   "mimetype": "text/x-python",
   "name": "python",
   "nbconvert_exporter": "python",
   "pygments_lexer": "ipython3",
   "version": "3.6.8"
  }
 },
 "nbformat": 4,
 "nbformat_minor": 2
}
