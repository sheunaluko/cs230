{
 "cells": [
  {
   "cell_type": "markdown",
   "metadata": {},
   "source": [
    "## CS230 Deep Learning  | Model Baseline + VGG\n",
    "\n",
    "Fall 2019: Sheun Aluko, Surya Narayanan, Vadim Piccini\n",
    "\n",
    "Note: util.py defines several utilities for loading and processing raw data, ml_helpers defines ml specific functions"
   ]
  },
  {
   "cell_type": "code",
   "execution_count": 1,
   "metadata": {},
   "outputs": [
    {
     "name": "stdout",
     "output_type": "stream",
     "text": [
      "Reloaded: util\n",
      "Reloaded: ml_helpers\n"
     ]
    }
   ],
   "source": [
    "# conventional imports \n",
    "import tensorflow as tf\n",
    "import numpy as np\n",
    "from tensorflow.keras.models import Sequential\n",
    "from tensorflow.keras.layers import Dense, Conv2D, Flatten, Activation\n",
    "import matplotlib.pyplot as plt\n",
    "keras = tf.keras\n",
    "\n",
    "#custom imports \n",
    "import util as u\n",
    "import ml_helpers as ml \n",
    "import reloader  \n",
    "\n",
    "# The reloader object allows reloading of source code after modifications are made \n",
    "r = reloader.Reloader([\"util\",\"ml_helpers\"]) \n",
    "r.reload() "
   ]
  },
  {
   "cell_type": "code",
   "execution_count": 2,
   "metadata": {},
   "outputs": [],
   "source": [
    "#set params\n",
    "batch_size=4\n",
    "num_epochs=30\n",
    "data_fraction = 1\n",
    "learning_rate = 0.0001 "
   ]
  },
  {
   "cell_type": "code",
   "execution_count": 3,
   "metadata": {},
   "outputs": [
    {
     "name": "stdout",
     "output_type": "stream",
     "text": [
      "\n",
      "Loading data for term index: 8\n",
      "Fraction of data that will be loaded=1\n",
      "\n",
      "Loading train set\n",
      "Removed 6 lesion(s) of 1995\n",
      "On index: 100\n",
      "On index: 200\n",
      "On index: 300\n",
      "On index: 400\n",
      "On index: 500\n",
      "On index: 600\n",
      "On index: 700\n",
      "On index: 800\n",
      "On index: 900\n",
      "On index: 1000\n",
      "On index: 1100\n",
      "On index: 1200\n",
      "On index: 1300\n",
      "On index: 1400\n",
      "On index: 1500\n",
      "On index: 1600\n",
      "On index: 1700\n",
      "On index: 1800\n",
      "On index: 1900\n",
      "Done\n",
      "\n",
      "Loading val set\n",
      "Removed 0 lesion(s) of 179\n",
      "On index: 100\n",
      "Done\n",
      "\n",
      "Loading test set\n",
      "Removed 1 lesion(s) of 203\n",
      "On index: 100\n",
      "On index: 200\n",
      "Done\n",
      "\n",
      "Train Size: 1989\n",
      "Val Size: 179\n"
     ]
    }
   ],
   "source": [
    "#load data \n",
    "data = u.data_load(f=data_fraction) "
   ]
  },
  {
   "cell_type": "code",
   "execution_count": null,
   "metadata": {},
   "outputs": [
    {
     "name": "stdout",
     "output_type": "stream",
     "text": [
      "\n",
      "Using provided data\n",
      "\n",
      "WARNING:tensorflow:From /usr/local/lib/python3.6/dist-packages/tensorflow_core/python/ops/resource_variable_ops.py:1630: calling BaseResourceVariable.__init__ (from tensorflow.python.ops.resource_variable_ops) with constraint is deprecated and will be removed in a future version.\n",
      "Instructions for updating:\n",
      "If using Keras pass *_constraint arguments to layers.\n",
      "Freezing layer: block1_conv1\n",
      "Freezing layer: block1_conv2\n",
      "Freezing layer: block2_conv1\n",
      "Freezing layer: block2_conv2\n",
      "Dropping layer: block4_pool\n",
      "Dropping layer: block5_pool\n",
      "Creating multi GPU model\n",
      "\n",
      "Runing model:: vBVNP_t1989_e20_b8_lr0.001_lrd\n",
      "\n",
      "\n",
      "Using rate decay\n",
      "\n",
      "WARNING:tensorflow:From /tf/cs230/ml_helpers.py:118: py_func (from tensorflow.python.ops.script_ops) is deprecated and will be removed in a future version.\n",
      "Instructions for updating:\n",
      "tf.py_func is deprecated in TF V2. Instead, there are two\n",
      "    options available in V2.\n",
      "    - tf.py_function takes a python function which manipulates tf eager\n",
      "    tensors instead of numpy arrays. It's easy to convert a tf eager tensor to\n",
      "    an ndarray (just call tensor.numpy()) but having access to eager tensors\n",
      "    means `tf.py_function`s can use accelerators such as GPUs as well as\n",
      "    being differentiable using a gradient tape.\n",
      "    - tf.numpy_function maintains the semantics of the deprecated tf.py_func\n",
      "    (it is not differentiable, and manipulates numpy arrays). It drops the\n",
      "    stateful argument making all functions stateful.\n",
      "    \n",
      "\n",
      "Fitting multi_GPU=[True] model with bs=8,epochs=20,lr=0.001\n",
      "\n",
      "Train on 1989 samples, validate on 179 samples\n",
      "Epoch 1/20\n",
      " 896/1989 [============>.................] - ETA: 2:08 - loss: 69.8657 - IoU: 1.8132e-04"
     ]
    }
   ],
   "source": [
    "# RUN THE MODEL \n",
    "batch_size =  8 \n",
    "num_epochs =  20 \n",
    "learning_rate = 0.001\n",
    "result = ml.run_model(data=data,\n",
    "                      batch_size=batch_size,\n",
    "                      num_epochs=num_epochs,\n",
    "                      learning_rate=learning_rate,\n",
    "                      learning_rate_decay = True ,\n",
    "                      dropout=False, \n",
    "                      save=True ,\n",
    "                      multi_gpu=True,\n",
    "                      model_id='baseline_vgg_no_pool')"
   ]
  },
  {
   "cell_type": "code",
   "execution_count": null,
   "metadata": {
    "scrolled": true
   },
   "outputs": [],
   "source": [
    "ml.train_curve(result['train_info'].history,name=result['name'])"
   ]
  },
  {
   "cell_type": "code",
   "execution_count": null,
   "metadata": {
    "scrolled": true
   },
   "outputs": [],
   "source": []
  },
  {
   "cell_type": "code",
   "execution_count": null,
   "metadata": {},
   "outputs": [],
   "source": [
    "result['train_info'].history"
   ]
  },
  {
   "cell_type": "code",
   "execution_count": null,
   "metadata": {},
   "outputs": [],
   "source": [
    "np.save(\"models/{}_history\".format(result['name']), result['train_info'].history)\n",
    "np.save(\"models/{}_time\".format(result['name']), result['time_info'])"
   ]
  }
 ],
 "metadata": {
  "kernelspec": {
   "display_name": "Python 3",
   "language": "python",
   "name": "python3"
  },
  "language_info": {
   "codemirror_mode": {
    "name": "ipython",
    "version": 3
   },
   "file_extension": ".py",
   "mimetype": "text/x-python",
   "name": "python",
   "nbconvert_exporter": "python",
   "pygments_lexer": "ipython3",
   "version": "3.6.8"
  }
 },
 "nbformat": 4,
 "nbformat_minor": 2
}
