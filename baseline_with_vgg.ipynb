{
 "cells": [
  {
   "cell_type": "markdown",
   "metadata": {},
   "source": [
    "## CS230 Deep Learning  | Model Baseline + VGG\n",
    "\n",
    "Fall 2019: Sheun Aluko, Surya Narayanan, Vadim Piccini\n",
    "\n",
    "Note: util.py defines several utilities for loading and processing raw data, ml_helpers defines ml specific functions"
   ]
  },
  {
   "cell_type": "code",
   "execution_count": 1,
   "metadata": {},
   "outputs": [
    {
     "name": "stdout",
     "output_type": "stream",
     "text": [
      "Reloaded: util\n",
      "Reloaded: ml_helpers\n"
     ]
    }
   ],
   "source": [
    "# conventional imports \n",
    "import tensorflow as tf\n",
    "import numpy as np\n",
    "from tensorflow.keras.models import Sequential\n",
    "from tensorflow.keras.layers import Dense, Conv2D, Flatten, Activation\n",
    "import matplotlib.pyplot as plt\n",
    "keras = tf.keras\n",
    "\n",
    "#custom imports \n",
    "import util as u\n",
    "import ml_helpers as ml \n",
    "import reloader  \n",
    "\n",
    "# The reloader object allows reloading of source code after modifications are made \n",
    "r = reloader.Reloader([\"util\",\"ml_helpers\"]) \n",
    "r.reload() "
   ]
  },
  {
   "cell_type": "code",
   "execution_count": 2,
   "metadata": {},
   "outputs": [],
   "source": [
    "#set params\n",
    "batch_size=4\n",
    "num_epochs=30\n",
    "data_fraction = 1\n",
    "learning_rate = 0.0001 "
   ]
  },
  {
   "cell_type": "code",
   "execution_count": 3,
   "metadata": {},
   "outputs": [
    {
     "name": "stdout",
     "output_type": "stream",
     "text": [
      "\n",
      "Loading data for term index: 8\n",
      "Fraction of data that will be loaded=1\n",
      "\n",
      "Loading train set\n",
      "Removed 6 lesion(s) of 1995\n",
      "On index: 100\n",
      "On index: 200\n",
      "On index: 300\n",
      "On index: 400\n",
      "On index: 500\n",
      "On index: 600\n",
      "On index: 700\n",
      "On index: 800\n",
      "On index: 900\n",
      "On index: 1000\n",
      "On index: 1100\n",
      "On index: 1200\n",
      "On index: 1300\n",
      "On index: 1400\n",
      "On index: 1500\n",
      "On index: 1600\n",
      "On index: 1700\n",
      "On index: 1800\n",
      "On index: 1900\n",
      "Done\n",
      "\n",
      "Loading val set\n",
      "Removed 0 lesion(s) of 179\n",
      "On index: 100\n",
      "Done\n",
      "\n",
      "Loading test set\n",
      "Removed 1 lesion(s) of 203\n",
      "On index: 100\n",
      "On index: 200\n",
      "Done\n",
      "\n",
      "Train Size: 1989\n",
      "Val Size: 179\n"
     ]
    }
   ],
   "source": [
    "#load data \n",
    "data = u.data_load(f=data_fraction) "
   ]
  },
  {
   "cell_type": "code",
   "execution_count": 7,
   "metadata": {},
   "outputs": [
    {
     "name": "stdout",
     "output_type": "stream",
     "text": [
      "\n",
      "Using provided data\n",
      "\n",
      "\n",
      "Runing model:: vVCB1989_e10_b2_lr0.0001\n",
      "\n",
      "\n",
      "Fitting multi_GPU=[False] model with bs=2,epochs=10,lr=0.0001\n",
      "\n",
      "Train on 1989 samples, validate on 179 samples\n",
      "Epoch 1/10\n",
      "1989/1989 [==============================] - 2731s 1s/sample - loss: 2.7705 - IoU: 0.0083 - val_loss: 0.0186 - val_IoU: 0.0052\n",
      "Epoch 2/10\n",
      "1989/1989 [==============================] - 2722s 1s/sample - loss: 0.0170 - IoU: 0.0122 - val_loss: 0.0179 - val_IoU: 0.0122\n",
      "Epoch 3/10\n",
      "1989/1989 [==============================] - 2723s 1s/sample - loss: 0.0126 - IoU: 0.0176 - val_loss: 0.0188 - val_IoU: 0.0132\n",
      "Epoch 4/10\n",
      "1989/1989 [==============================] - 2724s 1s/sample - loss: 0.0098 - IoU: 0.0237 - val_loss: 0.0282 - val_IoU: 0.0123\n",
      "Epoch 5/10\n",
      "1989/1989 [==============================] - 2724s 1s/sample - loss: 0.0083 - IoU: 0.0311 - val_loss: 0.0187 - val_IoU: 0.0078\n",
      "Epoch 6/10\n",
      "1989/1989 [==============================] - 2724s 1s/sample - loss: 0.0080 - IoU: 0.0349 - val_loss: 0.0172 - val_IoU: 0.0079\n",
      "Epoch 7/10\n",
      "1989/1989 [==============================] - 2725s 1s/sample - loss: 0.0074 - IoU: 0.0324 - val_loss: 0.0196 - val_IoU: 0.0149\n",
      "Epoch 8/10\n",
      "1989/1989 [==============================] - 2724s 1s/sample - loss: 0.0065 - IoU: 0.0351 - val_loss: 0.0202 - val_IoU: 0.0087\n",
      "Epoch 9/10\n",
      "1989/1989 [==============================] - 2727s 1s/sample - loss: 0.0061 - IoU: 0.0430 - val_loss: 0.0170 - val_IoU: 0.0085\n",
      "Epoch 10/10\n",
      "1989/1989 [==============================] - 2730s 1s/sample - loss: 0.0063 - IoU: 0.0379 - val_loss: 0.0168 - val_IoU: 0.0151\n",
      "\n",
      "Saving model\n"
     ]
    }
   ],
   "source": [
    "# RUN THE MODEL \n",
    "batch_size =2 \n",
    "num_epochs =  10 \n",
    "result = ml.run_model(data=data,\n",
    "                      batch_size=batch_size,\n",
    "                      num_epochs=num_epochs,\n",
    "                      learning_rate=learning_rate,\n",
    "                      learning_rate_decay = False ,\n",
    "                      dropout=False, \n",
    "                      save=True ,\n",
    "                      multi_gpu=False,\n",
    "                      model_id='vgg_co_baseline')"
   ]
  },
  {
   "cell_type": "code",
   "execution_count": 8,
   "metadata": {
    "scrolled": true
   },
   "outputs": [
    {
     "data": {
      "image/png": "[encoded data removed]",
      "text/plain": [
       "<Figure size 432x288 with 1 Axes>"
      ]
     },
     "metadata": {
      "needs_background": "light"
     },
     "output_type": "display_data"
    }
   ],
   "source": [
    "ml.train_curve(result['train_info'].history,name=result['name'])"
   ]
  },
  {
   "cell_type": "code",
   "execution_count": 9,
   "metadata": {
    "scrolled": true
   },
   "outputs": [
    {
     "data": {
      "text/plain": [
       "{'name': 'vVCB1989_e10_b2_lr0.0001',\n",
       " 'train_info': <tensorflow.python.keras.callbacks.History at 0x7fcc91044f28>,\n",
       " 'time_info': {'t_start': 1575431610.0529935,\n",
       "  't_end': 1575458865.5440605,\n",
       "  't_elapsed': 27255.49106693268},\n",
       " 'model': <tensorflow.python.keras.engine.training.Model at 0x7fcc9105bef0>}"
      ]
     },
     "execution_count": 9,
     "metadata": {},
     "output_type": "execute_result"
    }
   ],
   "source": []
  },
  {
   "cell_type": "code",
   "execution_count": 11,
   "metadata": {},
   "outputs": [
    {
     "data": {
      "text/plain": [
       "{'loss': [2.770461214809314,\n",
       "  0.01696472271715931,\n",
       "  0.01262115125043122,\n",
       "  0.009781230709706552,\n",
       "  0.008316942077125866,\n",
       "  0.008001104612039803,\n",
       "  0.007438166956244015,\n",
       "  0.006543483458951435,\n",
       "  0.0061014622311803615,\n",
       "  0.006322376892535328],\n",
       " 'IoU': [0.0082624415,\n",
       "  0.012221866,\n",
       "  0.017560162,\n",
       "  0.023667153,\n",
       "  0.031126687,\n",
       "  0.034875747,\n",
       "  0.032387417,\n",
       "  0.03513529,\n",
       "  0.043029536,\n",
       "  0.037899703],\n",
       " 'val_loss': [0.018588731754779316,\n",
       "  0.017873099776161784,\n",
       "  0.018813247559592128,\n",
       "  0.028245554212610855,\n",
       "  0.018730181076189286,\n",
       "  0.01718096397088726,\n",
       "  0.01964818888640437,\n",
       "  0.020221351599060623,\n",
       "  0.017032817471772432,\n",
       "  0.016838300897734623],\n",
       " 'val_IoU': [0.0052279355,\n",
       "  0.012233558,\n",
       "  0.013181541,\n",
       "  0.012305448,\n",
       "  0.007762485,\n",
       "  0.007860176,\n",
       "  0.014877131,\n",
       "  0.008748833,\n",
       "  0.00849325,\n",
       "  0.015116437]}"
      ]
     },
     "execution_count": 11,
     "metadata": {},
     "output_type": "execute_result"
    }
   ],
   "source": [
    "result['train_info'].history"
   ]
  },
  {
   "cell_type": "code",
   "execution_count": 6,
   "metadata": {},
   "outputs": [],
   "source": [
    "np.save(\"models/{}_history\".format(result['name']), result['train_info'].history)\n",
    "np.save(\"models/{}_time\".format(result['name']), result['time_info'])"
   ]
  }
 ],
 "metadata": {
  "kernelspec": {
   "display_name": "Python 3",
   "language": "python",
   "name": "python3"
  },
  "language_info": {
   "codemirror_mode": {
    "name": "ipython",
    "version": 3
   },
   "file_extension": ".py",
   "mimetype": "text/x-python",
   "name": "python",
   "nbconvert_exporter": "python",
   "pygments_lexer": "ipython3",
   "version": "3.6.8"
  }
 },
 "nbformat": 4,
 "nbformat_minor": 2
}
