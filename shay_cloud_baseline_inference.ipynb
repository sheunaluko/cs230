{
 "cells": [
  {
   "cell_type": "markdown",
   "metadata": {},
   "source": [
    "## CS230 Deep Learning  | Baseline Model Inference \n",
    "\n",
    "Fall 2019: Sheun Aluko, Surya Narayanan, Vadim Piccini\n",
    "\n",
    "###  Import Dependencies \n",
    "\n",
    "Note: util.py defines several utilities for loading and processing raw data, as well as helper funcionts such as the IOU accuracy metric \n"
   ]
  },
  {
   "cell_type": "code",
   "execution_count": null,
   "metadata": {},
   "outputs": [],
   "source": [
    "# conventional imports \n",
    "import tensorflow as tf\n",
    "import numpy as np\n",
    "from tensorflow.keras.models import Sequential\n",
    "from tensorflow.keras.layers import Dense, Conv2D, Flatten, Activation\n",
    "import matplotlib.pyplot as plt\n",
    "keras = tf.keras\n",
    "\n",
    "#custom imports \n",
    "import util as u\n",
    "import ml_helpers as ml \n",
    "import ml_inference_helpers as inference \n",
    "import reloader  \n",
    "\n",
    "# The reloader object allows reloading of source code after modifications are made \n",
    "r = reloader.Reloader([\"util\",\"ml_helpers\",\"ml_inference_helpers\"]) \n",
    "r.reload() \n",
    "\n",
    "# config \n",
    "plt.rcParams[\"figure.figsize\"] = (20,10)\n",
    "u.reload() "
   ]
  },
  {
   "cell_type": "code",
   "execution_count": null,
   "metadata": {},
   "outputs": [],
   "source": []
  },
  {
   "cell_type": "code",
   "execution_count": null,
   "metadata": {
    "scrolled": true
   },
   "outputs": [],
   "source": [
    "# Load the data \n",
    "x_train,y_train,x_val,y_val,x_test,y_test = u.data_load(f=0.1)"
   ]
  },
  {
   "cell_type": "code",
   "execution_count": null,
   "metadata": {
    "scrolled": false
   },
   "outputs": [],
   "source": [
    "# list models \n",
    "import os \n",
    "os.listdir(\"models/\")"
   ]
  },
  {
   "cell_type": "code",
   "execution_count": null,
   "metadata": {
    "scrolled": true
   },
   "outputs": [],
   "source": [
    "# pick model  \n",
    "m = \"v0_t99_e1500_b8_lr0.0003\"\n",
    "model, m_info = inference.load_model(m) \n",
    "# summarize it \n",
    "model.summary()\n",
    "# and print loss curve  \n",
    "ml.train_curve(m_info) "
   ]
  },
  {
   "cell_type": "code",
   "execution_count": null,
   "metadata": {},
   "outputs": [],
   "source": [
    "x_train.shape"
   ]
  },
  {
   "cell_type": "code",
   "execution_count": null,
   "metadata": {},
   "outputs": [],
   "source": [
    "# predict on first 10 training images \n",
    "xs, ys = x_train[0:10] , y_train[0:10] \n",
    "pred = model.predict(xs) \n",
    "\n",
    "# val images\n",
    "xs_val, ys_val = x_val[0:10] , y_val[0:10] \n",
    "pred_val = model.predict(xs)"
   ]
  },
  {
   "cell_type": "code",
   "execution_count": null,
   "metadata": {},
   "outputs": [],
   "source": [
    "pred_val.shape"
   ]
  },
  {
   "cell_type": "code",
   "execution_count": null,
   "metadata": {},
   "outputs": [],
   "source": [
    "def calc_iou(y,yp): \n",
    "    y = np.array(y,ndmin=2)\n",
    "    yp = np.array(yp, ndmin=2)\n",
    "    return ml.calculate_iou(y,yp) \n",
    "\n",
    "def calc_iou_vector(ys,yps) : \n",
    "    assert len(ys) == len(yps)  \n",
    "    result = [] \n",
    "    for i in range(len(ys))  : \n",
    "        result.append(calc_iou(ys[i],yps[i])) \n",
    "    \n",
    "    return np.array(result) \n",
    "\n",
    "def calc_diff_vector(ys,yps) : \n",
    "    assert len(ys) == len(yps)  \n",
    "    result = [] \n",
    "    for i in range(len(ys))  : \n",
    "        result.append(calc_iou(ys[i],yps[i])) \n",
    "    \n",
    "    return np.array(result) \n",
    "    \n",
    "    "
   ]
  },
  {
   "cell_type": "code",
   "execution_count": null,
   "metadata": {},
   "outputs": [],
   "source": [
    "np.sum(ys-pred,axis=1)"
   ]
  },
  {
   "cell_type": "code",
   "execution_count": null,
   "metadata": {},
   "outputs": [],
   "source": [
    "model.evaluate(x=xs,y=ys)"
   ]
  },
  {
   "cell_type": "code",
   "execution_count": null,
   "metadata": {},
   "outputs": [],
   "source": [
    "r = calc_iou_vector(ys,pred) \n",
    "np.mean(r)"
   ]
  },
  {
   "cell_type": "code",
   "execution_count": null,
   "metadata": {
    "scrolled": false
   },
   "outputs": [],
   "source": [
    "inference.nb_visualize_preds(xs,ys,pred)"
   ]
  },
  {
   "cell_type": "code",
   "execution_count": null,
   "metadata": {},
   "outputs": [],
   "source": [
    "inference.nb_visualize_preds(xs_val,ys_val,pred_val)"
   ]
  }
 ],
 "metadata": {
  "kernelspec": {
   "display_name": "Python 3",
   "language": "python",
   "name": "python3"
  },
  "language_info": {
   "codemirror_mode": {
    "name": "ipython",
    "version": 3
   },
   "file_extension": ".py",
   "mimetype": "text/x-python",
   "name": "python",
   "nbconvert_exporter": "python",
   "pygments_lexer": "ipython3",
   "version": "3.6.8"
  }
 },
 "nbformat": 4,
 "nbformat_minor": 2
}
