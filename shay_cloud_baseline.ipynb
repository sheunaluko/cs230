{
 "cells": [
  {
   "cell_type": "code",
   "execution_count": 1,
   "metadata": {},
   "outputs": [
    {
     "ename": "FileNotFoundError",
     "evalue": "[Errno 2] No such file or directory: 'images/Images_png/'",
     "output_type": "error",
     "traceback": [
      "\u001b[0;31m---------------------------------------------------------------------------\u001b[0m",
      "\u001b[0;31mFileNotFoundError\u001b[0m                         Traceback (most recent call last)",
      "\u001b[0;32m<ipython-input-1-b9e83fb878f6>\u001b[0m in \u001b[0;36m<module>\u001b[0;34m\u001b[0m\n\u001b[0;32m----> 1\u001b[0;31m \u001b[0;32mimport\u001b[0m \u001b[0mutil\u001b[0m \u001b[0;32mas\u001b[0m \u001b[0mu\u001b[0m\u001b[0;34m\u001b[0m\u001b[0;34m\u001b[0m\u001b[0m\n\u001b[0m\u001b[1;32m      2\u001b[0m \u001b[0;32mimport\u001b[0m \u001b[0mtensorflow\u001b[0m \u001b[0;32mas\u001b[0m \u001b[0mtf\u001b[0m\u001b[0;34m\u001b[0m\u001b[0;34m\u001b[0m\u001b[0m\n\u001b[1;32m      3\u001b[0m \u001b[0;32mimport\u001b[0m \u001b[0mnumpy\u001b[0m \u001b[0;32mas\u001b[0m \u001b[0mnp\u001b[0m\u001b[0;34m\u001b[0m\u001b[0;34m\u001b[0m\u001b[0m\n\u001b[1;32m      4\u001b[0m \u001b[0;32mfrom\u001b[0m \u001b[0mtensorflow\u001b[0m\u001b[0;34m.\u001b[0m\u001b[0mkeras\u001b[0m\u001b[0;34m.\u001b[0m\u001b[0mmodels\u001b[0m \u001b[0;32mimport\u001b[0m \u001b[0mSequential\u001b[0m\u001b[0;34m\u001b[0m\u001b[0;34m\u001b[0m\u001b[0m\n\u001b[1;32m      5\u001b[0m \u001b[0;32mfrom\u001b[0m \u001b[0mtensorflow\u001b[0m\u001b[0;34m.\u001b[0m\u001b[0mkeras\u001b[0m\u001b[0;34m.\u001b[0m\u001b[0mlayers\u001b[0m \u001b[0;32mimport\u001b[0m \u001b[0mDense\u001b[0m\u001b[0;34m,\u001b[0m \u001b[0mConv2D\u001b[0m\u001b[0;34m,\u001b[0m \u001b[0mFlatten\u001b[0m\u001b[0;34m,\u001b[0m \u001b[0mActivation\u001b[0m\u001b[0;34m\u001b[0m\u001b[0;34m\u001b[0m\u001b[0m\n",
      "\u001b[0;32m~tf/cs230_shay/util.py\u001b[0m in \u001b[0;36m<module>\u001b[0;34m\u001b[0m\n\u001b[1;32m     62\u001b[0m \u001b[0;31m# prepare the image directories\u001b[0m\u001b[0;34m\u001b[0m\u001b[0;34m\u001b[0m\u001b[0;34m\u001b[0m\u001b[0m\n\u001b[1;32m     63\u001b[0m \u001b[0mimage_dir\u001b[0m \u001b[0;34m=\u001b[0m \u001b[0;34m\"images\"\u001b[0m \u001b[0;34m+\u001b[0m \u001b[0mfdelim\u001b[0m \u001b[0;34m+\u001b[0m \u001b[0;34m\"Images_png\"\u001b[0m \u001b[0;34m+\u001b[0m \u001b[0mfdelim\u001b[0m\u001b[0;34m\u001b[0m\u001b[0;34m\u001b[0m\u001b[0m\n\u001b[0;32m---> 64\u001b[0;31m \u001b[0msub_dirs\u001b[0m \u001b[0;34m=\u001b[0m \u001b[0mos\u001b[0m\u001b[0;34m.\u001b[0m\u001b[0mlistdir\u001b[0m\u001b[0;34m(\u001b[0m\u001b[0mimage_dir\u001b[0m\u001b[0;34m)\u001b[0m\u001b[0;34m\u001b[0m\u001b[0;34m\u001b[0m\u001b[0m\n\u001b[0m\u001b[1;32m     65\u001b[0m \u001b[0msub_dirs\u001b[0m\u001b[0;34m.\u001b[0m\u001b[0msort\u001b[0m\u001b[0;34m(\u001b[0m\u001b[0;34m)\u001b[0m\u001b[0;34m\u001b[0m\u001b[0;34m\u001b[0m\u001b[0m\n\u001b[1;32m     66\u001b[0m \u001b[0;34m\u001b[0m\u001b[0m\n",
      "\u001b[0;31mFileNotFoundError\u001b[0m: [Errno 2] No such file or directory: 'images/Images_png/'"
     ]
    }
   ],
   "source": [
    "import util as u\n",
    "import tensorflow as tf\n",
    "import numpy as np\n",
    "from tensorflow.keras.models import Sequential\n",
    "from tensorflow.keras.layers import Dense, Conv2D, Flatten, Activation\n",
    "import matplotlib.pyplot as plt\n",
    "keras = tf.keras\n"
   ]
  },
  {
   "cell_type": "code",
   "execution_count": 62,
   "metadata": {},
   "outputs": [],
   "source": []
  },
  {
   "cell_type": "code",
   "execution_count": 63,
   "metadata": {},
   "outputs": [
    {
     "data": {
      "text/plain": [
       "array([[10, 20, 30, 30]])"
      ]
     },
     "execution_count": 63,
     "metadata": {},
     "output_type": "execute_result"
    }
   ],
   "source": [
    "convert_to_iou_format(np.array([[10,20,40,50]]))"
   ]
  },
  {
   "cell_type": "code",
   "execution_count": 64,
   "metadata": {},
   "outputs": [],
   "source": [
    "xs,ys = u.get_dataset()\n",
    "X_train  = xs[:30]\n",
    "Y_train = ys[:30]; Y_train = Y_train.reshape(30,4)/512\n",
    "X_test = xs[30:39]\n",
    "Y_test = ys[30:39]; Y_test = Y_test.reshape(9,4)/512\n",
    "\n",
    "#set params\n",
    "batch_size=1\n",
    "num_epochs=300\n",
    "model_name=\"v0_\" + str(num_epochs) + \"e_b\" + str(batch_size)"
   ]
  },
  {
   "cell_type": "code",
   "execution_count": 65,
   "metadata": {},
   "outputs": [
    {
     "data": {
      "text/plain": [
       "array([0.38085938, 0.20703125, 0.45117188, 0.25585938])"
      ]
     },
     "execution_count": 65,
     "metadata": {},
     "output_type": "execute_result"
    }
   ],
   "source": [
    "Y_train[0,:]"
   ]
  },
  {
   "cell_type": "code",
   "execution_count": 66,
   "metadata": {},
   "outputs": [
    {
     "data": {
      "text/plain": [
       "(30, 512, 512, 3)"
      ]
     },
     "execution_count": 66,
     "metadata": {},
     "output_type": "execute_result"
    }
   ],
   "source": [
    "X_train.shape"
   ]
  },
  {
   "cell_type": "code",
   "execution_count": 67,
   "metadata": {},
   "outputs": [],
   "source": [
    "#create model\n",
    "model = Sequential()\n",
    "#add model layers\n",
    "model.add(Conv2D(10, kernel_size=11, input_shape=(512, 512, 3)))\n",
    "model.add(Activation('relu'))\n",
    "model.add(Conv2D(10, kernel_size=11))\n",
    "model.add(Activation('relu'))\n",
    "\n",
    "#pool\n",
    "model.add(tf.keras.layers.MaxPooling2D(pool_size=(2,2)))\n",
    "\n",
    "model.add(Conv2D(10, kernel_size=11))\n",
    "model.add(Activation('relu'))\n",
    "model.add(Conv2D(10, kernel_size=11))\n",
    "model.add(Activation('relu'))\n",
    "\n",
    "#pool \n",
    "model.add(tf.keras.layers.MaxPooling2D(pool_size=(2,2)))\n",
    "model.add(Flatten())\n",
    "model.add(Dense(4, activation = None))\n",
    "\n",
    "\n",
    "#model.add(Dense(4, activation = \"sigmoid\", kernel_initializer=keras.initializers.RandomNormal(mean=0,stddev=0.05)))\n",
    "\n",
    "# https://towardsdatascience.com/building-a-convolutional-neural-network-cnn-in-keras-329fbbadc5f5"
   ]
  },
  {
   "cell_type": "code",
   "execution_count": 68,
   "metadata": {},
   "outputs": [],
   "source": [
    "#compile model using accuracy to measure model performance\n",
    "model.compile(optimizer=tf.keras.optimizers.Adam(learning_rate=0.001,beta_1=0.9,beta_2=0.999), loss='mean_squared_error',metrics=[IoU])"
   ]
  },
  {
   "cell_type": "code",
   "execution_count": 69,
   "metadata": {},
   "outputs": [
    {
     "name": "stdout",
     "output_type": "stream",
     "text": [
      "Model: \"sequential_4\"\n",
      "_________________________________________________________________\n",
      "Layer (type)                 Output Shape              Param #   \n",
      "=================================================================\n",
      "conv2d_16 (Conv2D)           (None, 502, 502, 10)      3640      \n",
      "_________________________________________________________________\n",
      "activation_16 (Activation)   (None, 502, 502, 10)      0         \n",
      "_________________________________________________________________\n",
      "conv2d_17 (Conv2D)           (None, 492, 492, 10)      12110     \n",
      "_________________________________________________________________\n",
      "activation_17 (Activation)   (None, 492, 492, 10)      0         \n",
      "_________________________________________________________________\n",
      "max_pooling2d_8 (MaxPooling2 (None, 246, 246, 10)      0         \n",
      "_________________________________________________________________\n",
      "conv2d_18 (Conv2D)           (None, 236, 236, 10)      12110     \n",
      "_________________________________________________________________\n",
      "activation_18 (Activation)   (None, 236, 236, 10)      0         \n",
      "_________________________________________________________________\n",
      "conv2d_19 (Conv2D)           (None, 226, 226, 10)      12110     \n",
      "_________________________________________________________________\n",
      "activation_19 (Activation)   (None, 226, 226, 10)      0         \n",
      "_________________________________________________________________\n",
      "max_pooling2d_9 (MaxPooling2 (None, 113, 113, 10)      0         \n",
      "_________________________________________________________________\n",
      "flatten_4 (Flatten)          (None, 127690)            0         \n",
      "_________________________________________________________________\n",
      "dense_4 (Dense)              (None, 4)                 510764    \n",
      "=================================================================\n",
      "Total params: 550,734\n",
      "Trainable params: 550,734\n",
      "Non-trainable params: 0\n",
      "_________________________________________________________________\n"
     ]
    }
   ],
   "source": [
    "model.summary()"
   ]
  },
  {
   "cell_type": "code",
   "execution_count": 72,
   "metadata": {
    "scrolled": true
   },
   "outputs": [
    {
     "name": "stdout",
     "output_type": "stream",
     "text": [
      "Train on 30 samples, validate on 9 samples\n",
      "Epoch 1/300\n",
      "30/30 [==============================] - 1s 48ms/sample - loss: 1.5889e-04 - IoU: 0.4898 - val_loss: 0.0356 - val_IoU: 0.0089\n",
      "Epoch 2/300\n",
      "30/30 [==============================] - 1s 47ms/sample - loss: 1.8744e-04 - IoU: 0.4979 - val_loss: 0.0339 - val_IoU: 0.0073\n",
      "Epoch 3/300\n",
      "30/30 [==============================] - 1s 46ms/sample - loss: 2.2983e-04 - IoU: 0.4560 - val_loss: 0.0367 - val_IoU: 0.0000e+00\n",
      "Epoch 4/300\n",
      "30/30 [==============================] - 1s 46ms/sample - loss: 1.5504e-04 - IoU: 0.5150 - val_loss: 0.0335 - val_IoU: 0.0043\n",
      "Epoch 5/300\n",
      "30/30 [==============================] - 1s 47ms/sample - loss: 1.4791e-04 - IoU: 0.5545 - val_loss: 0.0360 - val_IoU: 0.0011\n",
      "Epoch 6/300\n",
      "17/30 [================>.............] - ETA: 0s - loss: 3.6831e-04 - IoU: 0.4829"
     ]
    },
    {
     "ename": "KeyboardInterrupt",
     "evalue": "",
     "output_type": "error",
     "traceback": [
      "\u001b[0;31m---------------------------------------------------------------------------\u001b[0m",
      "\u001b[0;31mKeyboardInterrupt\u001b[0m                         Traceback (most recent call last)",
      "\u001b[0;32m<ipython-input-72-5ecb5f4a6d23>\u001b[0m in \u001b[0;36m<module>\u001b[0;34m\u001b[0m\n\u001b[0;32m----> 1\u001b[0;31m \u001b[0mh\u001b[0m \u001b[0;34m=\u001b[0m \u001b[0mmodel\u001b[0m\u001b[0;34m.\u001b[0m\u001b[0mfit\u001b[0m\u001b[0;34m(\u001b[0m\u001b[0mX_train\u001b[0m\u001b[0;34m,\u001b[0m \u001b[0mY_train\u001b[0m\u001b[0;34m,\u001b[0m \u001b[0mvalidation_data\u001b[0m\u001b[0;34m=\u001b[0m\u001b[0;34m(\u001b[0m\u001b[0mX_test\u001b[0m\u001b[0;34m,\u001b[0m \u001b[0mY_test\u001b[0m\u001b[0;34m)\u001b[0m\u001b[0;34m,\u001b[0m \u001b[0mbatch_size\u001b[0m\u001b[0;34m=\u001b[0m\u001b[0mbatch_size\u001b[0m\u001b[0;34m,\u001b[0m \u001b[0mepochs\u001b[0m\u001b[0;34m=\u001b[0m\u001b[0mnum_epochs\u001b[0m\u001b[0;34m)\u001b[0m\u001b[0;34m\u001b[0m\u001b[0;34m\u001b[0m\u001b[0m\n\u001b[0m",
      "\u001b[0;32m~usr/local/lib/python3.6/dist-packages/tensorflow_core/python/keras/engine/training.py\u001b[0m in \u001b[0;36mfit\u001b[0;34m(self, x, y, batch_size, epochs, verbose, callbacks, validation_split, validation_data, shuffle, class_weight, sample_weight, initial_epoch, steps_per_epoch, validation_steps, validation_freq, max_queue_size, workers, use_multiprocessing, **kwargs)\u001b[0m\n\u001b[1;32m    725\u001b[0m         \u001b[0mmax_queue_size\u001b[0m\u001b[0;34m=\u001b[0m\u001b[0mmax_queue_size\u001b[0m\u001b[0;34m,\u001b[0m\u001b[0;34m\u001b[0m\u001b[0;34m\u001b[0m\u001b[0m\n\u001b[1;32m    726\u001b[0m         \u001b[0mworkers\u001b[0m\u001b[0;34m=\u001b[0m\u001b[0mworkers\u001b[0m\u001b[0;34m,\u001b[0m\u001b[0;34m\u001b[0m\u001b[0;34m\u001b[0m\u001b[0m\n\u001b[0;32m--> 727\u001b[0;31m         use_multiprocessing=use_multiprocessing)\n\u001b[0m\u001b[1;32m    728\u001b[0m \u001b[0;34m\u001b[0m\u001b[0m\n\u001b[1;32m    729\u001b[0m   def evaluate(self,\n",
      "\u001b[0;32m~usr/local/lib/python3.6/dist-packages/tensorflow_core/python/keras/engine/training_arrays.py\u001b[0m in \u001b[0;36mfit\u001b[0;34m(self, model, x, y, batch_size, epochs, verbose, callbacks, validation_split, validation_data, shuffle, class_weight, sample_weight, initial_epoch, steps_per_epoch, validation_steps, validation_freq, **kwargs)\u001b[0m\n\u001b[1;32m    673\u001b[0m         \u001b[0mvalidation_steps\u001b[0m\u001b[0;34m=\u001b[0m\u001b[0mvalidation_steps\u001b[0m\u001b[0;34m,\u001b[0m\u001b[0;34m\u001b[0m\u001b[0;34m\u001b[0m\u001b[0m\n\u001b[1;32m    674\u001b[0m         \u001b[0mvalidation_freq\u001b[0m\u001b[0;34m=\u001b[0m\u001b[0mvalidation_freq\u001b[0m\u001b[0;34m,\u001b[0m\u001b[0;34m\u001b[0m\u001b[0;34m\u001b[0m\u001b[0m\n\u001b[0;32m--> 675\u001b[0;31m         steps_name='steps_per_epoch')\n\u001b[0m\u001b[1;32m    676\u001b[0m \u001b[0;34m\u001b[0m\u001b[0m\n\u001b[1;32m    677\u001b[0m   def evaluate(self,\n",
      "\u001b[0;32m~usr/local/lib/python3.6/dist-packages/tensorflow_core/python/keras/engine/training_arrays.py\u001b[0m in \u001b[0;36mmodel_iteration\u001b[0;34m(model, inputs, targets, sample_weights, batch_size, epochs, verbose, callbacks, val_inputs, val_targets, val_sample_weights, shuffle, initial_epoch, steps_per_epoch, validation_steps, validation_freq, mode, validation_in_fit, prepared_feed_values_from_dataset, steps_name, **kwargs)\u001b[0m\n\u001b[1;32m    392\u001b[0m \u001b[0;34m\u001b[0m\u001b[0m\n\u001b[1;32m    393\u001b[0m         \u001b[0;31m# Get outputs.\u001b[0m\u001b[0;34m\u001b[0m\u001b[0;34m\u001b[0m\u001b[0;34m\u001b[0m\u001b[0m\n\u001b[0;32m--> 394\u001b[0;31m         \u001b[0mbatch_outs\u001b[0m \u001b[0;34m=\u001b[0m \u001b[0mf\u001b[0m\u001b[0;34m(\u001b[0m\u001b[0mins_batch\u001b[0m\u001b[0;34m)\u001b[0m\u001b[0;34m\u001b[0m\u001b[0;34m\u001b[0m\u001b[0m\n\u001b[0m\u001b[1;32m    395\u001b[0m         \u001b[0;32mif\u001b[0m \u001b[0;32mnot\u001b[0m \u001b[0misinstance\u001b[0m\u001b[0;34m(\u001b[0m\u001b[0mbatch_outs\u001b[0m\u001b[0;34m,\u001b[0m \u001b[0mlist\u001b[0m\u001b[0;34m)\u001b[0m\u001b[0;34m:\u001b[0m\u001b[0;34m\u001b[0m\u001b[0;34m\u001b[0m\u001b[0m\n\u001b[1;32m    396\u001b[0m           \u001b[0mbatch_outs\u001b[0m \u001b[0;34m=\u001b[0m \u001b[0;34m[\u001b[0m\u001b[0mbatch_outs\u001b[0m\u001b[0;34m]\u001b[0m\u001b[0;34m\u001b[0m\u001b[0;34m\u001b[0m\u001b[0m\n",
      "\u001b[0;32m~usr/local/lib/python3.6/dist-packages/tensorflow_core/python/keras/backend.py\u001b[0m in \u001b[0;36m__call__\u001b[0;34m(self, inputs)\u001b[0m\n\u001b[1;32m   3474\u001b[0m \u001b[0;34m\u001b[0m\u001b[0m\n\u001b[1;32m   3475\u001b[0m     fetched = self._callable_fn(*array_vals,\n\u001b[0;32m-> 3476\u001b[0;31m                                 run_metadata=self.run_metadata)\n\u001b[0m\u001b[1;32m   3477\u001b[0m     \u001b[0mself\u001b[0m\u001b[0;34m.\u001b[0m\u001b[0m_call_fetch_callbacks\u001b[0m\u001b[0;34m(\u001b[0m\u001b[0mfetched\u001b[0m\u001b[0;34m[\u001b[0m\u001b[0;34m-\u001b[0m\u001b[0mlen\u001b[0m\u001b[0;34m(\u001b[0m\u001b[0mself\u001b[0m\u001b[0;34m.\u001b[0m\u001b[0m_fetches\u001b[0m\u001b[0;34m)\u001b[0m\u001b[0;34m:\u001b[0m\u001b[0;34m]\u001b[0m\u001b[0;34m)\u001b[0m\u001b[0;34m\u001b[0m\u001b[0;34m\u001b[0m\u001b[0m\n\u001b[1;32m   3478\u001b[0m     output_structure = nest.pack_sequence_as(\n",
      "\u001b[0;32m~usr/local/lib/python3.6/dist-packages/tensorflow_core/python/client/session.py\u001b[0m in \u001b[0;36m__call__\u001b[0;34m(self, *args, **kwargs)\u001b[0m\n\u001b[1;32m   1470\u001b[0m         ret = tf_session.TF_SessionRunCallable(self._session._session,\n\u001b[1;32m   1471\u001b[0m                                                \u001b[0mself\u001b[0m\u001b[0;34m.\u001b[0m\u001b[0m_handle\u001b[0m\u001b[0;34m,\u001b[0m \u001b[0margs\u001b[0m\u001b[0;34m,\u001b[0m\u001b[0;34m\u001b[0m\u001b[0;34m\u001b[0m\u001b[0m\n\u001b[0;32m-> 1472\u001b[0;31m                                                run_metadata_ptr)\n\u001b[0m\u001b[1;32m   1473\u001b[0m         \u001b[0;32mif\u001b[0m \u001b[0mrun_metadata\u001b[0m\u001b[0;34m:\u001b[0m\u001b[0;34m\u001b[0m\u001b[0;34m\u001b[0m\u001b[0m\n\u001b[1;32m   1474\u001b[0m           \u001b[0mproto_data\u001b[0m \u001b[0;34m=\u001b[0m \u001b[0mtf_session\u001b[0m\u001b[0;34m.\u001b[0m\u001b[0mTF_GetBuffer\u001b[0m\u001b[0;34m(\u001b[0m\u001b[0mrun_metadata_ptr\u001b[0m\u001b[0;34m)\u001b[0m\u001b[0;34m\u001b[0m\u001b[0;34m\u001b[0m\u001b[0m\n",
      "\u001b[0;31mKeyboardInterrupt\u001b[0m: "
     ]
    }
   ],
   "source": [
    "h = model.fit(X_train, Y_train, validation_data=(X_test, Y_test), batch_size=batch_size, epochs=num_epochs)"
   ]
  },
  {
   "cell_type": "code",
   "execution_count": 73,
   "metadata": {},
   "outputs": [
    {
     "data": {
      "image/png": "[encoded data removed]",
      "text/plain": [
       "<Figure size 432x288 with 1 Axes>"
      ]
     },
     "metadata": {
      "needs_background": "light"
     },
     "output_type": "display_data"
    }
   ],
   "source": [
    "train_loss = h.history['loss']\n",
    "test_loss  = h.history['val_loss']\n",
    "epoch_count = range(1, len(train_loss) + 1)\n",
    "\n",
    "plt.plot(epoch_count, train_loss, 'r--')\n",
    "plt.plot(epoch_count, test_loss, 'b-')\n",
    "plt.legend(['Training Loss', 'Test Loss'])\n",
    "plt.xlabel('Epoch')\n",
    "plt.ylabel('Loss')\n",
    "plt.ylim([0,0.2])\n",
    "plt.show();\n"
   ]
  },
  {
   "cell_type": "code",
   "execution_count": null,
   "metadata": {},
   "outputs": [],
   "source": [
    "plt.savefig(\"models/\" + model_name + \".png\")"
   ]
  },
  {
   "cell_type": "code",
   "execution_count": 9,
   "metadata": {},
   "outputs": [],
   "source": [
    "def get_results(x,y) : \n",
    "    pred = model.predict(x)\n",
    "    return (pred, y, y-pred , np.mean( (y-pred)**2) ) \n",
    "    "
   ]
  },
  {
   "cell_type": "code",
   "execution_count": 10,
   "metadata": {},
   "outputs": [],
   "source": [
    "y_train_p, y_train, train_diff , train_loss = get_results(X_train,Y_train)"
   ]
  },
  {
   "cell_type": "code",
   "execution_count": 11,
   "metadata": {},
   "outputs": [],
   "source": [
    "y_test_p, y_test, test_diff , test_loss = get_results(X_test,Y_test)"
   ]
  },
  {
   "cell_type": "code",
   "execution_count": 12,
   "metadata": {
    "scrolled": true
   },
   "outputs": [
    {
     "data": {
      "text/plain": [
       "array([[0.37581712, 0.23072742, 0.4439667 , 0.28065902],\n",
       "       [0.23822387, 0.7179533 , 0.2892238 , 0.75366735],\n",
       "       [0.3275341 , 0.12389699, 0.39373767, 0.17774814],\n",
       "       [0.33624613, 0.23275793, 0.3920238 , 0.27808872],\n",
       "       [0.47947374, 0.32642826, 0.5331826 , 0.3976889 ],\n",
       "       [0.32290775, 0.5098858 , 0.37946734, 0.54842657],\n",
       "       [0.0830577 , 0.55946827, 0.11033231, 0.5942321 ],\n",
       "       [0.5576454 , 0.36674178, 0.5874224 , 0.3997019 ],\n",
       "       [0.5437794 , 0.48281598, 0.5788866 , 0.511623  ],\n",
       "       [0.24565127, 0.667676  , 0.2857859 , 0.69896543],\n",
       "       [0.0910531 , 0.5630158 , 0.12262052, 0.59741354],\n",
       "       [0.48750293, 0.32934928, 0.5318779 , 0.37097266],\n",
       "       [0.49083096, 0.3692063 , 0.5330481 , 0.4128721 ],\n",
       "       [0.22715971, 0.31440347, 0.40346828, 0.49415186],\n",
       "       [0.4721615 , 0.42439914, 0.52263147, 0.47171023],\n",
       "       [0.47741413, 0.3899507 , 0.523986  , 0.43089965],\n",
       "       [0.4710845 , 0.40417808, 0.51829773, 0.45431444],\n",
       "       [0.4874492 , 0.41978204, 0.5361495 , 0.46253952],\n",
       "       [0.20056793, 0.3380234 , 0.26290393, 0.42809948],\n",
       "       [0.5441008 , 0.28041473, 0.594462  , 0.3210674 ],\n",
       "       [0.50298285, 0.38994062, 0.5400188 , 0.4356995 ],\n",
       "       [0.25476784, 0.3117747 , 0.3124938 , 0.378411  ],\n",
       "       [0.5449317 , 0.2960937 , 0.5876404 , 0.33899772],\n",
       "       [0.55996495, 0.3379213 , 0.59790325, 0.3793915 ],\n",
       "       [0.26267996, 0.34887087, 0.318466  , 0.41681907],\n",
       "       [0.25766894, 0.5457518 , 0.30601078, 0.6018698 ],\n",
       "       [0.24746725, 0.35952973, 0.30690077, 0.43042547],\n",
       "       [0.23353317, 0.4086808 , 0.29205918, 0.48221132],\n",
       "       [0.25679657, 0.56713957, 0.30679175, 0.6186005 ],\n",
       "       [0.255735  , 0.57762516, 0.30356836, 0.6323382 ]], dtype=float32)"
      ]
     },
     "execution_count": 12,
     "metadata": {},
     "output_type": "execute_result"
    }
   ],
   "source": [
    "y_train_p"
   ]
  },
  {
   "cell_type": "code",
   "execution_count": 13,
   "metadata": {
    "scrolled": true
   },
   "outputs": [
    {
     "data": {
      "text/plain": [
       "array([[0.38085938, 0.20703125, 0.45117188, 0.25585938],\n",
       "       [0.25976562, 0.68164062, 0.31054688, 0.71875   ],\n",
       "       [0.328125  , 0.12304688, 0.38867188, 0.17773438],\n",
       "       [0.33789062, 0.2265625 , 0.39257812, 0.27148438],\n",
       "       [0.4765625 , 0.31445312, 0.53710938, 0.38867188],\n",
       "       [0.3125    , 0.5234375 , 0.36328125, 0.56640625],\n",
       "       [0.11328125, 0.54296875, 0.14453125, 0.57617188],\n",
       "       [0.54296875, 0.36132812, 0.57617188, 0.39648438],\n",
       "       [0.54882812, 0.47460938, 0.58398438, 0.50390625],\n",
       "       [0.24804688, 0.65234375, 0.2890625 , 0.68554688],\n",
       "       [0.13476562, 0.5234375 , 0.16601562, 0.55664062],\n",
       "       [0.4921875 , 0.328125  , 0.5390625 , 0.37109375],\n",
       "       [0.49023438, 0.37109375, 0.53320312, 0.41796875],\n",
       "       [0.25195312, 0.31640625, 0.4140625 , 0.484375  ],\n",
       "       [0.48828125, 0.4453125 , 0.53515625, 0.49414062],\n",
       "       [0.48632812, 0.3984375 , 0.53320312, 0.43945312],\n",
       "       [0.49023438, 0.41015625, 0.5390625 , 0.45898438],\n",
       "       [0.49609375, 0.421875  , 0.54296875, 0.46289062],\n",
       "       [0.20898438, 0.33984375, 0.27148438, 0.42578125],\n",
       "       [0.53125   , 0.296875  , 0.578125  , 0.34179688],\n",
       "       [0.49804688, 0.38671875, 0.53710938, 0.43164062],\n",
       "       [0.265625  , 0.31640625, 0.3203125 , 0.3828125 ],\n",
       "       [0.55664062, 0.29492188, 0.59570312, 0.33789062],\n",
       "       [0.56445312, 0.34375   , 0.59960938, 0.38671875],\n",
       "       [0.26953125, 0.34960938, 0.32226562, 0.41601562],\n",
       "       [0.27148438, 0.52734375, 0.3203125 , 0.58203125],\n",
       "       [0.26171875, 0.36523438, 0.31640625, 0.43359375],\n",
       "       [0.25      , 0.40429688, 0.3046875 , 0.47070312],\n",
       "       [0.2578125 , 0.56640625, 0.31054688, 0.6171875 ],\n",
       "       [0.26171875, 0.56640625, 0.3125    , 0.62109375]])"
      ]
     },
     "execution_count": 13,
     "metadata": {},
     "output_type": "execute_result"
    }
   ],
   "source": [
    "y_train"
   ]
  },
  {
   "cell_type": "code",
   "execution_count": 14,
   "metadata": {},
   "outputs": [
    {
     "data": {
      "text/plain": [
       "array([[-5.04225492e-03,  2.36961693e-02, -7.20518827e-03,\n",
       "         2.47996449e-02],\n",
       "       [-2.15417594e-02,  3.63126993e-02, -2.13230848e-02,\n",
       "         3.49173546e-02],\n",
       "       [-5.90890646e-04,  8.50111246e-04,  5.06579876e-03,\n",
       "         1.37686729e-05],\n",
       "       [-1.64449215e-03,  6.19542599e-03, -5.54323196e-04,\n",
       "         6.60434365e-03],\n",
       "       [ 2.91123986e-03,  1.19751394e-02, -3.92675400e-03,\n",
       "         9.01702046e-03],\n",
       "       [ 1.04077458e-02, -1.35517120e-02,  1.61860883e-02,\n",
       "        -1.79796815e-02],\n",
       "       [-3.02235484e-02,  1.64995193e-02, -3.41989398e-02,\n",
       "         1.80602074e-02],\n",
       "       [ 1.46766305e-02,  5.41365147e-03,  1.12504959e-02,\n",
       "         3.21751833e-03],\n",
       "       [-5.04875183e-03,  8.20660591e-03, -5.09774685e-03,\n",
       "         7.71677494e-03],\n",
       "       [-2.39560008e-03,  1.53322220e-02, -3.27658653e-03,\n",
       "         1.34185553e-02],\n",
       "       [-4.37125266e-02,  3.95783186e-02, -4.33951020e-02,\n",
       "         4.07729149e-02],\n",
       "       [-4.68456745e-03,  1.22427940e-03, -7.18462467e-03,\n",
       "        -1.21086836e-04],\n",
       "       [ 5.96582890e-04, -1.88744068e-03, -1.55031681e-04,\n",
       "        -5.09664416e-03],\n",
       "       [-2.47934163e-02, -2.00277567e-03, -1.05942190e-02,\n",
       "         9.77686048e-03],\n",
       "       [-1.61197484e-02, -2.09133625e-02, -1.25247836e-02,\n",
       "        -2.24303901e-02],\n",
       "       [-8.91399384e-03, -8.48680735e-03, -9.21714306e-03,\n",
       "        -8.55347514e-03],\n",
       "       [-1.91498697e-02, -5.97816706e-03, -2.07647681e-02,\n",
       "        -4.66993451e-03],\n",
       "       [-8.64455104e-03, -2.09295750e-03, -6.81924820e-03,\n",
       "        -3.51101160e-04],\n",
       "       [-8.41644406e-03, -1.82035565e-03, -8.58044624e-03,\n",
       "         2.31823325e-03],\n",
       "       [ 1.28508210e-02, -1.64602697e-02,  1.63369775e-02,\n",
       "        -2.07294822e-02],\n",
       "       [ 4.93597984e-03,  3.22186947e-03,  2.90942192e-03,\n",
       "         4.05886769e-03],\n",
       "       [-1.08571649e-02, -4.63154912e-03, -7.81869888e-03,\n",
       "        -4.40150499e-03],\n",
       "       [-1.17089152e-02,  1.17182732e-03, -8.06272030e-03,\n",
       "         1.10709667e-03],\n",
       "       [-4.48817015e-03, -5.82870841e-03, -1.70612335e-03,\n",
       "        -7.32725859e-03],\n",
       "       [-6.85128570e-03, -7.38501549e-04, -3.79961729e-03,\n",
       "         8.03440809e-04],\n",
       "       [-1.38154328e-02,  1.84080601e-02, -1.43017173e-02,\n",
       "         1.98385715e-02],\n",
       "       [-1.42515004e-02, -5.70464134e-03, -9.50548053e-03,\n",
       "        -3.16828489e-03],\n",
       "       [-1.64668262e-02,  4.38392162e-03, -1.26283169e-02,\n",
       "         1.15081966e-02],\n",
       "       [-1.01593137e-03,  7.33315945e-04, -3.75512242e-03,\n",
       "         1.41298771e-03],\n",
       "       [-5.98374009e-03,  1.12189054e-02, -8.93163681e-03,\n",
       "         1.12444758e-02]])"
      ]
     },
     "execution_count": 14,
     "metadata": {},
     "output_type": "execute_result"
    }
   ],
   "source": [
    "(y_train_p - y_train)#train_diff"
   ]
  },
  {
   "cell_type": "code",
   "execution_count": 15,
   "metadata": {},
   "outputs": [
    {
     "data": {
      "text/plain": [
       "0.00020498701606660452"
      ]
     },
     "execution_count": 15,
     "metadata": {},
     "output_type": "execute_result"
    }
   ],
   "source": [
    "train_loss"
   ]
  },
  {
   "cell_type": "code",
   "execution_count": 16,
   "metadata": {},
   "outputs": [],
   "source": [
    "# serialize model to JSON\n",
    "def save_model(model,name) : \n",
    "    model_json = model.to_json()\n",
    "    model_name = \"models/\" + name\n",
    "    with open(model_name + \".json\", \"w\") as json_file:\n",
    "        json_file.write(model_json)\n",
    "    # serialize weights to HDF5\n",
    "    model.save_weights(model_name + \".h5\")\n",
    "    print(\"Saved model to disk\")"
   ]
  },
  {
   "cell_type": "code",
   "execution_count": 17,
   "metadata": {},
   "outputs": [
    {
     "name": "stdout",
     "output_type": "stream",
     "text": [
      "Saved model to disk\n"
     ]
    }
   ],
   "source": [
    "save_model(model,model_name)"
   ]
  },
  {
   "cell_type": "code",
   "execution_count": null,
   "metadata": {},
   "outputs": [],
   "source": []
  }
 ],
 "metadata": {
  "kernelspec": {
   "display_name": "Python 3",
   "language": "python",
   "name": "python3"
  },
  "language_info": {
   "codemirror_mode": {
    "name": "ipython",
    "version": 3
   },
   "file_extension": ".py",
   "mimetype": "text/x-python",
   "name": "python",
   "nbconvert_exporter": "python",
   "pygments_lexer": "ipython3",
   "version": "3.6.8"
  }
 },
 "nbformat": 4,
 "nbformat_minor": 2
}
