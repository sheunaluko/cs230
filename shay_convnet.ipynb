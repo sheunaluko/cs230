{
 "cells": [
  {
   "cell_type": "code",
   "execution_count": 1,
   "metadata": {},
   "outputs": [
    {
     "name": "stdout",
     "output_type": "stream",
     "text": [
      "Loaded util\n"
     ]
    }
   ],
   "source": [
    "import util as u\n",
    "import tensorflow as tf\n",
    "import numpy as np\n",
    "from tensorflow.keras.models import Sequential\n",
    "from tensorflow.keras.layers import Dense, Conv2D, Flatten, Activation\n",
    "import matplotlib.pyplot as plt\n",
    "keras = tf.keras\n"
   ]
  },
  {
   "cell_type": "code",
   "execution_count": 2,
   "metadata": {},
   "outputs": [],
   "source": [
    "xs,ys = u.get_dataset()\n",
    "X_train  = xs[:30]\n",
    "Y_train = ys[:30]; Y_train = Y_train.reshape(30,4)/512\n",
    "X_test = xs[30:39]\n",
    "Y_test = ys[30:39]; Y_test = Y_test.reshape(9,4)/512\n",
    "\n",
    "#set params\n",
    "batch_size=2\n",
    "num_epochs=10\n",
    "model_name=\"v0_\" + str(num_epochs) + \"e_b\" + str(batch_size)"
   ]
  },
  {
   "cell_type": "code",
   "execution_count": 3,
   "metadata": {},
   "outputs": [
    {
     "data": {
      "text/plain": [
       "255.0"
      ]
     },
     "execution_count": 3,
     "metadata": {},
     "output_type": "execute_result"
    }
   ],
   "source": [
    "np.max(X_train[0,:,:,:])"
   ]
  },
  {
   "cell_type": "code",
   "execution_count": 4,
   "metadata": {},
   "outputs": [
    {
     "name": "stdout",
     "output_type": "stream",
     "text": [
      "WARNING:tensorflow:From /usr/local/lib/python3.6/dist-packages/tensorflow_core/python/ops/resource_variable_ops.py:1630: calling BaseResourceVariable.__init__ (from tensorflow.python.ops.resource_variable_ops) with constraint is deprecated and will be removed in a future version.\n",
      "Instructions for updating:\n",
      "If using Keras pass *_constraint arguments to layers.\n"
     ]
    }
   ],
   "source": [
    "#create model\n",
    "model = Sequential()\n",
    "#add model layers\n",
    "model.add(Conv2D(10, kernel_size=11, input_shape=(512, 512, 3)))\n",
    "model.add(Activation('relu'))\n",
    "model.add(Conv2D(10, kernel_size=11))\n",
    "model.add(Activation('relu'))\n",
    "\n",
    "#pool\n",
    "model.add(tf.keras.layers.MaxPooling2D(pool_size=(2,2)))\n",
    "\n",
    "model.add(Conv2D(10, kernel_size=11))\n",
    "model.add(Activation('relu'))\n",
    "model.add(Conv2D(10, kernel_size=11))\n",
    "model.add(Activation('relu'))\n",
    "\n",
    "#pool \n",
    "model.add(tf.keras.layers.MaxPooling2D(pool_size=(2,2)))\n",
    "model.add(Flatten())\n",
    "model.add(Dense(4, activation = None))\n",
    "\n",
    "\n",
    "#model.add(Dense(4, activation = \"sigmoid\", kernel_initializer=keras.initializers.RandomNormal(mean=0,stddev=0.05)))\n",
    "\n",
    "# https://towardsdatascience.com/building-a-convolutional-neural-network-cnn-in-keras-329fbbadc5f5"
   ]
  },
  {
   "cell_type": "code",
   "execution_count": 5,
   "metadata": {},
   "outputs": [],
   "source": [
    "#compile model using accuracy to measure model performance\n",
    "model.compile(optimizer=tf.keras.optimizers.Adam(learning_rate=0.001,beta_1=0.9,beta_2=0.999), loss='mean_squared_error')"
   ]
  },
  {
   "cell_type": "code",
   "execution_count": 6,
   "metadata": {},
   "outputs": [],
   "source": [
    "#model.summary()"
   ]
  },
  {
   "cell_type": "code",
   "execution_count": 7,
   "metadata": {
    "scrolled": true
   },
   "outputs": [
    {
     "name": "stdout",
     "output_type": "stream",
     "text": [
      "Train on 30 samples, validate on 9 samples\n",
      "Epoch 1/10\n",
      "30/30 [==============================] - 11s 378ms/sample - loss: 10427.6383 - val_loss: 0.8630\n",
      "Epoch 2/10\n",
      "30/30 [==============================] - 2s 52ms/sample - loss: 0.8259 - val_loss: 0.1202\n",
      "Epoch 3/10\n",
      "30/30 [==============================] - 2s 54ms/sample - loss: 0.1706 - val_loss: 0.0990\n",
      "Epoch 4/10\n",
      "30/30 [==============================] - 2s 53ms/sample - loss: 0.0843 - val_loss: 0.0869\n",
      "Epoch 5/10\n",
      "30/30 [==============================] - 2s 53ms/sample - loss: 0.0572 - val_loss: 0.0814\n",
      "Epoch 6/10\n",
      "30/30 [==============================] - 2s 53ms/sample - loss: 0.0407 - val_loss: 0.0775\n",
      "Epoch 7/10\n",
      "30/30 [==============================] - 2s 51ms/sample - loss: 0.0320 - val_loss: 0.0743\n",
      "Epoch 8/10\n",
      "30/30 [==============================] - 2s 50ms/sample - loss: 0.0246 - val_loss: 0.0725\n",
      "Epoch 9/10\n",
      "30/30 [==============================] - 2s 50ms/sample - loss: 0.0196 - val_loss: 0.0713\n",
      "Epoch 10/10\n",
      "30/30 [==============================] - 2s 50ms/sample - loss: 0.0158 - val_loss: 0.0707\n"
     ]
    }
   ],
   "source": [
    "h = model.fit(X_train, Y_train, validation_data=(X_test, Y_test), batch_size=batch_size, epochs=num_epochs)"
   ]
  },
  {
   "cell_type": "code",
   "execution_count": 8,
   "metadata": {},
   "outputs": [
    {
     "data": {
      "image/png": "[encoded data removed]",
      "text/plain": [
       "<Figure size 432x288 with 1 Axes>"
      ]
     },
     "metadata": {
      "needs_background": "light"
     },
     "output_type": "display_data"
    }
   ],
   "source": [
    "train_loss = h.history['loss']\n",
    "test_loss  = h.history['val_loss']\n",
    "epoch_count = range(1, len(train_loss) + 1)\n",
    "\n",
    "plt.plot(epoch_count, train_loss, 'r--')\n",
    "plt.plot(epoch_count, test_loss, 'b-')\n",
    "plt.legend(['Training Loss', 'Test Loss'])\n",
    "plt.xlabel('Epoch')\n",
    "plt.ylabel('Loss')\n",
    "plt.ylim([0,10])\n",
    "plt.show();\n"
   ]
  },
  {
   "cell_type": "code",
   "execution_count": 9,
   "metadata": {},
   "outputs": [],
   "source": [
    "#plt.savefig(\"models/\" + model_name + \".png\")"
   ]
  },
  {
   "cell_type": "code",
   "execution_count": 10,
   "metadata": {},
   "outputs": [],
   "source": [
    "def get_results(x,y) : \n",
    "    pred = model.predict(x)\n",
    "    return (pred, y, y-pred , np.mean( (y-pred)**2) ) \n",
    "    "
   ]
  },
  {
   "cell_type": "code",
   "execution_count": 11,
   "metadata": {},
   "outputs": [],
   "source": [
    "y_train_p, y_train, train_diff , train_loss = get_results(X_train,Y_train)"
   ]
  },
  {
   "cell_type": "code",
   "execution_count": 12,
   "metadata": {},
   "outputs": [],
   "source": [
    "y_test_p, y_test, test_diff , test_loss = get_results(X_test,Y_test)"
   ]
  },
  {
   "cell_type": "code",
   "execution_count": 13,
   "metadata": {
    "scrolled": true
   },
   "outputs": [
    {
     "data": {
      "text/plain": [
       "array([[ 0.37227377,  0.19616258,  0.44659606,  0.24450421],\n",
       "       [ 0.29534888,  0.6946705 ,  0.08455301,  0.7229066 ],\n",
       "       [ 0.3342072 ,  0.12830788,  0.38365582,  0.18103899],\n",
       "       [ 0.3378733 ,  0.2285701 ,  0.20470513,  0.27445537],\n",
       "       [ 0.5055049 ,  0.3362471 , -0.4183769 ,  0.41906467],\n",
       "       [ 0.3240028 ,  0.5459966 ,  0.37339205,  0.57875603],\n",
       "       [ 0.29730743,  0.54686236, -0.11027777,  0.59260476],\n",
       "       [ 0.5721968 ,  0.44870603,  0.5149688 ,  0.50962603],\n",
       "       [ 0.34065488,  0.21864973,  0.61299616,  0.20575641],\n",
       "       [ 0.24717472,  0.61636496,  0.3153136 ,  0.63855916],\n",
       "       [ 0.1298969 ,  0.5255286 ,  0.18621443,  0.5574848 ],\n",
       "       [ 0.48802683,  0.32851875,  0.54546523,  0.36980337],\n",
       "       [ 0.49052432,  0.36939877,  0.54209113,  0.41822594],\n",
       "       [ 0.25349414,  0.3181438 ,  0.24035749,  0.47379845],\n",
       "       [ 0.4978324 ,  0.4508758 ,  0.552162  ,  0.5003871 ],\n",
       "       [ 0.4841067 ,  0.39932817,  0.53801733,  0.44032344],\n",
       "       [ 0.46895093,  0.4160794 ,  0.5656682 ,  0.4599854 ],\n",
       "       [ 0.5023215 ,  0.426703  ,  0.54377353,  0.46946576],\n",
       "       [ 0.21121019,  0.3390358 ,  0.27092576,  0.4264878 ],\n",
       "       [ 0.53781646,  0.29685244,  0.58849543,  0.34279144],\n",
       "       [ 0.32258955,  0.36491725,  0.54628235,  0.40835208],\n",
       "       [ 0.28483316,  0.31497884,  0.3327496 ,  0.38024577],\n",
       "       [ 0.54898244,  0.29671812,  0.60558915,  0.34143108],\n",
       "       [ 0.56436664,  0.34267256,  0.5559565 ,  0.38856712],\n",
       "       [ 0.26518404,  0.34396923,  0.29709572,  0.41396043],\n",
       "       [ 0.2712189 ,  0.5298976 ,  0.09464019,  0.5836075 ],\n",
       "       [ 0.26363117,  0.3609372 ,  0.39066938,  0.43164092],\n",
       "       [ 0.249184  ,  0.40755165,  0.3056968 ,  0.4715398 ],\n",
       "       [ 0.2700995 ,  0.42779025,  0.31806812,  0.5333135 ],\n",
       "       [ 0.18062067,  0.282421  ,  0.32435402,  0.31585822]],\n",
       "      dtype=float32)"
      ]
     },
     "execution_count": 13,
     "metadata": {},
     "output_type": "execute_result"
    }
   ],
   "source": [
    "y_train_p"
   ]
  },
  {
   "cell_type": "code",
   "execution_count": 14,
   "metadata": {
    "scrolled": true
   },
   "outputs": [
    {
     "data": {
      "text/plain": [
       "array([[0.38085938, 0.20703125, 0.45117188, 0.25585938],\n",
       "       [0.25976562, 0.68164062, 0.31054688, 0.71875   ],\n",
       "       [0.328125  , 0.12304688, 0.38867188, 0.17773438],\n",
       "       [0.33789062, 0.2265625 , 0.39257812, 0.27148438],\n",
       "       [0.4765625 , 0.31445312, 0.53710938, 0.38867188],\n",
       "       [0.3125    , 0.5234375 , 0.36328125, 0.56640625],\n",
       "       [0.11328125, 0.54296875, 0.14453125, 0.57617188],\n",
       "       [0.54296875, 0.36132812, 0.57617188, 0.39648438],\n",
       "       [0.54882812, 0.47460938, 0.58398438, 0.50390625],\n",
       "       [0.24804688, 0.65234375, 0.2890625 , 0.68554688],\n",
       "       [0.13476562, 0.5234375 , 0.16601562, 0.55664062],\n",
       "       [0.4921875 , 0.328125  , 0.5390625 , 0.37109375],\n",
       "       [0.49023438, 0.37109375, 0.53320312, 0.41796875],\n",
       "       [0.25195312, 0.31640625, 0.4140625 , 0.484375  ],\n",
       "       [0.48828125, 0.4453125 , 0.53515625, 0.49414062],\n",
       "       [0.48632812, 0.3984375 , 0.53320312, 0.43945312],\n",
       "       [0.49023438, 0.41015625, 0.5390625 , 0.45898438],\n",
       "       [0.49609375, 0.421875  , 0.54296875, 0.46289062],\n",
       "       [0.20898438, 0.33984375, 0.27148438, 0.42578125],\n",
       "       [0.53125   , 0.296875  , 0.578125  , 0.34179688],\n",
       "       [0.49804688, 0.38671875, 0.53710938, 0.43164062],\n",
       "       [0.265625  , 0.31640625, 0.3203125 , 0.3828125 ],\n",
       "       [0.55664062, 0.29492188, 0.59570312, 0.33789062],\n",
       "       [0.56445312, 0.34375   , 0.59960938, 0.38671875],\n",
       "       [0.26953125, 0.34960938, 0.32226562, 0.41601562],\n",
       "       [0.27148438, 0.52734375, 0.3203125 , 0.58203125],\n",
       "       [0.26171875, 0.36523438, 0.31640625, 0.43359375],\n",
       "       [0.25      , 0.40429688, 0.3046875 , 0.47070312],\n",
       "       [0.2578125 , 0.56640625, 0.31054688, 0.6171875 ],\n",
       "       [0.26171875, 0.56640625, 0.3125    , 0.62109375]])"
      ]
     },
     "execution_count": 14,
     "metadata": {},
     "output_type": "execute_result"
    }
   ],
   "source": [
    "y_train"
   ]
  },
  {
   "cell_type": "code",
   "execution_count": 15,
   "metadata": {},
   "outputs": [
    {
     "data": {
      "text/plain": [
       "array([[-8.58560205e-03, -1.08686686e-02, -4.57581878e-03,\n",
       "        -1.13551617e-02],\n",
       "       [ 3.55832577e-02,  1.30298734e-02, -2.25993864e-01,\n",
       "         4.15658951e-03],\n",
       "       [ 6.08220696e-03,  5.26100397e-03, -5.01605868e-03,\n",
       "         3.30461562e-03],\n",
       "       [-1.73151493e-05,  2.00760365e-03, -1.87872991e-01,\n",
       "         2.97099352e-03],\n",
       "       [ 2.89424062e-02,  2.17939615e-02, -9.55486268e-01,\n",
       "         3.03927958e-02],\n",
       "       [ 1.15028024e-02,  2.25591063e-02,  1.01107955e-02,\n",
       "         1.23497844e-02],\n",
       "       [ 1.84026182e-01,  3.89361382e-03, -2.54809022e-01,\n",
       "         1.64328814e-02],\n",
       "       [ 2.92280316e-02,  8.73779058e-02, -6.12030625e-02,\n",
       "         1.13141656e-01],\n",
       "       [-2.08173245e-01, -2.55959645e-01,  2.90117860e-02,\n",
       "        -2.98149839e-01],\n",
       "       [-8.72150064e-04, -3.59787941e-02,  2.62511075e-02,\n",
       "        -4.69877124e-02],\n",
       "       [-4.86873090e-03,  2.09110975e-03,  2.01988071e-02,\n",
       "         8.44180584e-04],\n",
       "       [-4.16067243e-03,  3.93748283e-04,  6.40273094e-03,\n",
       "        -1.29038095e-03],\n",
       "       [ 2.89946795e-04, -1.69497728e-03,  8.88800621e-03,\n",
       "         2.57194042e-04],\n",
       "       [ 1.54101849e-03,  1.73756480e-03, -1.73705012e-01,\n",
       "        -1.05765462e-02],\n",
       "       [ 9.55113769e-03,  5.56328893e-03,  1.70057416e-02,\n",
       "         6.24644756e-03],\n",
       "       [-2.22143531e-03,  8.90672207e-04,  4.81420755e-03,\n",
       "         8.70317221e-04],\n",
       "       [-2.12834477e-02,  5.92315197e-03,  2.66057253e-02,\n",
       "         1.00103021e-03],\n",
       "       [ 6.22773170e-03,  4.82800603e-03,  8.04781914e-04,\n",
       "         6.57513738e-03],\n",
       "       [ 2.22581625e-03, -8.07940960e-04, -5.58614731e-04,\n",
       "         7.06553459e-04],\n",
       "       [ 6.56646490e-03, -2.25603580e-05,  1.03704333e-02,\n",
       "         9.94563103e-04],\n",
       "       [-1.75457329e-01, -2.18015015e-02,  9.17297602e-03,\n",
       "        -2.32885480e-02],\n",
       "       [ 1.92081630e-02, -1.42741203e-03,  1.24371052e-02,\n",
       "        -2.56672502e-03],\n",
       "       [-7.65818357e-03,  1.79624557e-03,  9.88602638e-03,\n",
       "         3.54045630e-03],\n",
       "       [-8.64863396e-05, -1.07744336e-03, -4.36528921e-02,\n",
       "         1.84836984e-03],\n",
       "       [-4.34720516e-03, -5.64014912e-03, -2.51699090e-02,\n",
       "        -2.05519795e-03],\n",
       "       [-2.65479088e-04,  2.55382061e-03, -2.25672312e-01,\n",
       "         1.57624483e-03],\n",
       "       [ 1.91241503e-03, -4.29716706e-03,  7.42631257e-02,\n",
       "        -1.95282698e-03],\n",
       "       [-8.16002488e-04,  3.25477123e-03,  1.00928545e-03,\n",
       "         8.36670399e-04],\n",
       "       [ 1.22869909e-02, -1.38615996e-01,  7.52124190e-03,\n",
       "        -8.38739872e-02],\n",
       "       [-8.10980797e-02, -2.83985257e-01,  1.18540227e-02,\n",
       "        -3.05235535e-01]])"
      ]
     },
     "execution_count": 15,
     "metadata": {},
     "output_type": "execute_result"
    }
   ],
   "source": [
    "(y_train_p - y_train)#train_diff"
   ]
  },
  {
   "cell_type": "code",
   "execution_count": 16,
   "metadata": {},
   "outputs": [
    {
     "data": {
      "text/plain": [
       "0.013856165237598287"
      ]
     },
     "execution_count": 16,
     "metadata": {},
     "output_type": "execute_result"
    }
   ],
   "source": [
    "train_loss"
   ]
  },
  {
   "cell_type": "code",
   "execution_count": 17,
   "metadata": {},
   "outputs": [],
   "source": [
    "# serialize model to JSON\n",
    "def save_model(model,name) : \n",
    "    model_json = model.to_json()\n",
    "    model_name = \"models/\" + name\n",
    "    with open(model_name + \".json\", \"w\") as json_file:\n",
    "        json_file.write(model_json)\n",
    "    # serialize weights to HDF5\n",
    "    model.save_weights(model_name + \".h5\")\n",
    "    print(\"Saved model to disk\")"
   ]
  },
  {
   "cell_type": "code",
   "execution_count": 18,
   "metadata": {},
   "outputs": [],
   "source": [
    "#save_model(model,model_name)"
   ]
  },
  {
   "cell_type": "code",
   "execution_count": null,
   "metadata": {},
   "outputs": [],
   "source": []
  }
 ],
 "metadata": {
  "kernelspec": {
   "display_name": "Python 3",
   "language": "python",
   "name": "python3"
  },
  "language_info": {
   "codemirror_mode": {
    "name": "ipython",
    "version": 3
   },
   "file_extension": ".py",
   "mimetype": "text/x-python",
   "name": "python",
   "nbconvert_exporter": "python",
   "pygments_lexer": "ipython3",
   "version": "3.6.8"
  }
 },
 "nbformat": 4,
 "nbformat_minor": 2
}
