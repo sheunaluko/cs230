{
 "cells": [
  {
   "cell_type": "code",
   "execution_count": 3,
   "metadata": {},
   "outputs": [],
   "source": [
    "import util as u\n",
    "import tensorflow as tf\n",
    "import numpy as np\n",
    "from tensorflow.keras.models import Sequential\n",
    "from tensorflow.keras.layers import Dense, Conv2D, Flatten"
   ]
  },
  {
   "cell_type": "code",
   "execution_count": 6,
   "metadata": {},
   "outputs": [],
   "source": [
    "xs,ys = u.get_dataset()"
   ]
  },
  {
   "cell_type": "code",
   "execution_count": 8,
   "metadata": {},
   "outputs": [
    {
     "name": "stdout",
     "output_type": "stream",
     "text": [
      "WARNING:tensorflow:From /Users/oluwa/dev/cs230/.env/lib/python3.7/site-packages/tensorflow_core/python/ops/resource_variable_ops.py:1630: calling BaseResourceVariable.__init__ (from tensorflow.python.ops.resource_variable_ops) with constraint is deprecated and will be removed in a future version.\n",
      "Instructions for updating:\n",
      "If using Keras pass *_constraint arguments to layers.\n"
     ]
    }
   ],
   "source": [
    "#create model\n",
    "model = Sequential()\n",
    "#add model layers\n",
    "model.add(Conv2D(64, kernel_size=3, activation='relu', input_shape=(512, 512, 3)))\n",
    "model.add(Conv2D(32, kernel_size=3, activation='relu'))\n",
    "model.add(Flatten())\n",
    "model.add(Dense(4, activation = 'sigmoid'))\n",
    "\n",
    "# https://towardsdatascience.com/building-a-convolutional-neural-network-cnn-in-keras-329fbbadc5f5"
   ]
  },
  {
   "cell_type": "code",
   "execution_count": 9,
   "metadata": {},
   "outputs": [],
   "source": [
    "#compile model using accuracy to measure model performance\n",
    "model.compile(optimizer='adam', loss='mean_squared_error', metrics=['accuracy'])"
   ]
  },
  {
   "cell_type": "code",
   "execution_count": 10,
   "metadata": {},
   "outputs": [],
   "source": [
    "X_train  = xs[:30]\n",
    "y_train = ys[:30]; y_train = y_train.reshape(30,4)/512\n",
    "X_test = xs[30:39]\n",
    "y_test = ys[30:39]; y_test = y_test.reshape(9,4)/512"
   ]
  },
  {
   "cell_type": "code",
   "execution_count": 14,
   "metadata": {},
   "outputs": [
    {
     "name": "stdout",
     "output_type": "stream",
     "text": [
      "Train on 30 samples, validate on 9 samples\n",
      "Epoch 1/10\n",
      "30/30 [==============================] - 42s 1s/sample - loss: 0.2251 - acc: 0.5000 - val_loss: 0.2601 - val_acc: 0.0000e+00\n",
      "Epoch 2/10\n",
      "30/30 [==============================] - 48s 2s/sample - loss: 0.2251 - acc: 0.5000 - val_loss: 0.2601 - val_acc: 0.0000e+00\n",
      "Epoch 3/10\n",
      "30/30 [==============================] - 45s 1s/sample - loss: 0.2251 - acc: 0.5000 - val_loss: 0.2601 - val_acc: 0.0000e+00\n",
      "Epoch 4/10\n",
      "30/30 [==============================] - 42s 1s/sample - loss: 0.2251 - acc: 0.5000 - val_loss: 0.2601 - val_acc: 0.0000e+00\n",
      "Epoch 5/10\n",
      "30/30 [==============================] - 42s 1s/sample - loss: 0.2251 - acc: 0.5000 - val_loss: 0.2601 - val_acc: 0.0000e+00\n",
      "Epoch 6/10\n",
      "30/30 [==============================] - 46s 2s/sample - loss: 0.2251 - acc: 0.5000 - val_loss: 0.2601 - val_acc: 0.0000e+00\n",
      "Epoch 7/10\n",
      "30/30 [==============================] - 44s 1s/sample - loss: 0.2251 - acc: 0.5000 - val_loss: 0.2601 - val_acc: 0.0000e+00\n",
      "Epoch 8/10\n",
      "30/30 [==============================] - 41s 1s/sample - loss: 0.2251 - acc: 0.5000 - val_loss: 0.2601 - val_acc: 0.0000e+00\n",
      "Epoch 9/10\n",
      "30/30 [==============================] - 41s 1s/sample - loss: 0.2251 - acc: 0.5000 - val_loss: 0.2601 - val_acc: 0.0000e+00\n",
      "Epoch 10/10\n",
      "30/30 [==============================] - 44s 1s/sample - loss: 0.2251 - acc: 0.5000 - val_loss: 0.2601 - val_acc: 0.0000e+00\n"
     ]
    },
    {
     "data": {
      "text/plain": [
       "<tensorflow.python.keras.callbacks.History at 0x1194ff690>"
      ]
     },
     "execution_count": 14,
     "metadata": {},
     "output_type": "execute_result"
    }
   ],
   "source": [
    "model.fit(X_train, y_train, validation_data=(X_test, y_test), batch_size = 1, epochs= 10)"
   ]
  },
  {
   "cell_type": "code",
   "execution_count": 14,
   "metadata": {},
   "outputs": [
    {
     "name": "stdout",
     "output_type": "stream",
     "text": [
      "[[136. 191. 163. 225.]\n",
      " [136. 279. 162. 303.]\n",
      " [137. 192. 164. 224.]\n",
      " [163. 221. 188. 251.]]\n"
     ]
    }
   ],
   "source": [
    "model.predict(X_test[:4])\n"
   ]
  },
  {
   "cell_type": "code",
   "execution_count": null,
   "metadata": {},
   "outputs": [],
   "source": []
  }
 ],
 "metadata": {
  "kernelspec": {
   "display_name": "cs230",
   "language": "python",
   "name": "cs230"
  },
  "language_info": {
   "codemirror_mode": {
    "name": "ipython",
    "version": 3
   },
   "file_extension": ".py",
   "mimetype": "text/x-python",
   "name": "python",
   "nbconvert_exporter": "python",
   "pygments_lexer": "ipython3",
   "version": "3.7.4"
  }
 },
 "nbformat": 4,
 "nbformat_minor": 2
}
