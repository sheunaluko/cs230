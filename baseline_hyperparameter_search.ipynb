{
 "cells": [
  {
   "cell_type": "markdown",
   "metadata": {},
   "source": [
    "### Model Training Time Benchmark\n",
    "Sheun Aluko CS230 "
   ]
  },
  {
   "cell_type": "markdown",
   "metadata": {},
   "source": [
    "#### Dependency Imports"
   ]
  },
  {
   "cell_type": "code",
   "execution_count": 3,
   "metadata": {},
   "outputs": [
    {
     "name": "stdout",
     "output_type": "stream",
     "text": [
      "Reloaded: util\n",
      "Reloaded: ml_helpers\n"
     ]
    }
   ],
   "source": [
    "# conventional imports \n",
    "import tensorflow as tf\n",
    "import numpy as np\n",
    "from tensorflow.keras.models import Sequential\n",
    "from tensorflow.keras.layers import Dense, Conv2D, Flatten, Activation\n",
    "import matplotlib.pyplot as plt\n",
    "keras = tf.keras\n",
    "\n",
    "#custom imports \n",
    "import util as u\n",
    "import ml_helpers as ml \n",
    "import reloader  \n",
    "\n",
    "\n",
    "# The reloader object allows reloading of source code after modifications are made \n",
    "r = reloader.Reloader([\"util\",\"ml_helpers\"]) \n",
    "r.reload() \n",
    "\n",
    "# config \n",
    "plt.rcParams[\"figure.figsize\"] = (20,10)\n",
    "u.reload() "
   ]
  },
  {
   "cell_type": "markdown",
   "metadata": {},
   "source": [
    "#### Load Data"
   ]
  },
  {
   "cell_type": "code",
   "execution_count": 2,
   "metadata": {},
   "outputs": [
    {
     "name": "stdout",
     "output_type": "stream",
     "text": [
      "\n",
      "Loading data for term index: 8\n",
      "Fraction of data that will be loaded=0.05\n",
      "\n",
      "Loading train set\n",
      "Removed 6 lesion(s) of 1995\n",
      "Done\n",
      "\n",
      "Loading val set\n",
      "Removed 0 lesion(s) of 179\n",
      "Done\n",
      "\n",
      "Loading test set\n",
      "Removed 1 lesion(s) of 203\n",
      "Done\n",
      "\n",
      "Train Size: 99\n",
      "Val Size: 8\n",
      "Train Size: 99\n",
      "Val Size: 8\n"
     ]
    }
   ],
   "source": [
    "data_fraction = 0.05\n",
    "data = u.data_load(f=data_fraction)\n",
    "print(\"Train Size: {}\\nVal Size: {}\".format(str(len(data[0])),str(len(data[2]))) ) "
   ]
  },
  {
   "cell_type": "code",
   "execution_count": 4,
   "metadata": {},
   "outputs": [
    {
     "name": "stdout",
     "output_type": "stream",
     "text": [
      "WARNING:tensorflow:From /usr/local/lib/python3.6/dist-packages/tensorflow_core/python/ops/resource_variable_ops.py:1630: calling BaseResourceVariable.__init__ (from tensorflow.python.ops.resource_variable_ops) with constraint is deprecated and will be removed in a future version.\n",
      "Instructions for updating:\n",
      "If using Keras pass *_constraint arguments to layers.\n",
      "Freezing layer: block1_conv1\n",
      "Freezing layer: block1_conv2\n",
      "Freezing layer: block2_conv1\n",
      "Freezing layer: block2_conv2\n",
      "Dropping layer: block4_pool\n",
      "Dropping layer: block5_pool\n",
      "Model: \"model\"\n",
      "_________________________________________________________________\n",
      "Layer (type)                 Output Shape              Param #   \n",
      "=================================================================\n",
      "input_2 (InputLayer)         [(None, 512, 512, 3)]     0         \n",
      "_________________________________________________________________\n",
      "input_1 (InputLayer)         multiple                  0         \n",
      "_________________________________________________________________\n",
      "block1_conv1 (Conv2D)        (None, 512, 512, 64)      1792      \n",
      "_________________________________________________________________\n",
      "block1_conv2 (Conv2D)        (None, 512, 512, 64)      36928     \n",
      "_________________________________________________________________\n",
      "block1_pool (MaxPooling2D)   (None, 256, 256, 64)      0         \n",
      "_________________________________________________________________\n",
      "block2_conv1 (Conv2D)        (None, 256, 256, 128)     73856     \n",
      "_________________________________________________________________\n",
      "block2_conv2 (Conv2D)        (None, 256, 256, 128)     147584    \n",
      "_________________________________________________________________\n",
      "block2_pool (MaxPooling2D)   (None, 128, 128, 128)     0         \n",
      "_________________________________________________________________\n",
      "block3_conv1 (Conv2D)        (None, 128, 128, 256)     295168    \n",
      "_________________________________________________________________\n",
      "block3_conv2 (Conv2D)        (None, 128, 128, 256)     590080    \n",
      "_________________________________________________________________\n",
      "block3_conv3 (Conv2D)        (None, 128, 128, 256)     590080    \n",
      "_________________________________________________________________\n",
      "block3_pool (MaxPooling2D)   (None, 64, 64, 256)       0         \n",
      "_________________________________________________________________\n",
      "block4_conv1 (Conv2D)        (None, 64, 64, 512)       1180160   \n",
      "_________________________________________________________________\n",
      "block4_conv2 (Conv2D)        (None, 64, 64, 512)       2359808   \n",
      "_________________________________________________________________\n",
      "block4_conv3 (Conv2D)        (None, 64, 64, 512)       2359808   \n",
      "_________________________________________________________________\n",
      "block5_conv1 (Conv2D)        multiple                  2359808   \n",
      "_________________________________________________________________\n",
      "block5_conv2 (Conv2D)        multiple                  2359808   \n",
      "_________________________________________________________________\n",
      "block5_conv3 (Conv2D)        multiple                  2359808   \n",
      "_________________________________________________________________\n",
      "conv2d (Conv2D)              (None, 54, 54, 32)        1982496   \n",
      "_________________________________________________________________\n",
      "activation (Activation)      (None, 54, 54, 32)        0         \n",
      "_________________________________________________________________\n",
      "conv2d_1 (Conv2D)            (None, 50, 50, 128)       102528    \n",
      "_________________________________________________________________\n",
      "activation_1 (Activation)    (None, 50, 50, 128)       0         \n",
      "_________________________________________________________________\n",
      "max_pooling2d (MaxPooling2D) (None, 25, 25, 128)       0         \n",
      "_________________________________________________________________\n",
      "conv2d_2 (Conv2D)            (None, 21, 21, 128)       409728    \n",
      "_________________________________________________________________\n",
      "activation_2 (Activation)    (None, 21, 21, 128)       0         \n",
      "_________________________________________________________________\n",
      "conv2d_3 (Conv2D)            (None, 17, 17, 32)        102432    \n",
      "_________________________________________________________________\n",
      "activation_3 (Activation)    (None, 17, 17, 32)        0         \n",
      "_________________________________________________________________\n",
      "max_pooling2d_1 (MaxPooling2 (None, 8, 8, 32)          0         \n",
      "_________________________________________________________________\n",
      "flatten (Flatten)            (None, 2048)              0         \n",
      "_________________________________________________________________\n",
      "dense (Dense)                (None, 4)                 8196      \n",
      "=================================================================\n",
      "Total params: 17,320,068\n",
      "Trainable params: 17,059,908\n",
      "Non-trainable params: 260,160\n",
      "_________________________________________________________________\n"
     ]
    }
   ],
   "source": [
    "v = ml.get_baseline_vgg_model_no_pool() \n",
    "v.summary()"
   ]
  },
  {
   "cell_type": "markdown",
   "metadata": {},
   "source": [
    "#### Hyperparamater Search (Batch Size)"
   ]
  },
  {
   "cell_type": "code",
   "execution_count": 5,
   "metadata": {
    "scrolled": true
   },
   "outputs": [
    {
     "name": "stdout",
     "output_type": "stream",
     "text": [
      "\n",
      "Using provided data\n",
      "\n",
      "Freezing layer: block1_conv1\n",
      "Freezing layer: block1_conv2\n",
      "Freezing layer: block2_conv1\n",
      "Freezing layer: block2_conv2\n",
      "Dropping layer: block4_pool\n",
      "Dropping layer: block5_pool\n",
      "Creating multi GPU model\n",
      "\n",
      "Runing model:: vBVNP_t99_e1_b2_lr0.001\n",
      "\n",
      "WARNING:tensorflow:From /tf/cs230/ml_helpers.py:118: py_func (from tensorflow.python.ops.script_ops) is deprecated and will be removed in a future version.\n",
      "Instructions for updating:\n",
      "tf.py_func is deprecated in TF V2. Instead, there are two\n",
      "    options available in V2.\n",
      "    - tf.py_function takes a python function which manipulates tf eager\n",
      "    tensors instead of numpy arrays. It's easy to convert a tf eager tensor to\n",
      "    an ndarray (just call tensor.numpy()) but having access to eager tensors\n",
      "    means `tf.py_function`s can use accelerators such as GPUs as well as\n",
      "    being differentiable using a gradient tape.\n",
      "    - tf.numpy_function maintains the semantics of the deprecated tf.py_func\n",
      "    (it is not differentiable, and manipulates numpy arrays). It drops the\n",
      "    stateful argument making all functions stateful.\n",
      "    \n",
      "\n",
      "Fitting multi_GPU=[True] model with bs=2,epochs=1,lr=0.001\n",
      "\n",
      "Train on 99 samples, validate on 8 samples\n",
      "99/99 [==============================] - 18s 185ms/sample - loss: 96.6557 - IoU: 0.0000e+00 - val_loss: 0.1563 - val_IoU: 0.0000e+00\n",
      "\n",
      "Using provided data\n",
      "\n",
      "Freezing layer: block1_conv1\n",
      "Freezing layer: block1_conv2\n",
      "Freezing layer: block2_conv1\n",
      "Freezing layer: block2_conv2\n",
      "Dropping layer: block4_pool\n",
      "Dropping layer: block5_pool\n",
      "Creating multi GPU model\n",
      "\n",
      "Runing model:: vBVNP_t99_e1_b4_lr0.001\n",
      "\n",
      "\n",
      "Fitting multi_GPU=[True] model with bs=4,epochs=1,lr=0.001\n",
      "\n",
      "Train on 99 samples, validate on 8 samples\n",
      "99/99 [==============================] - 14s 143ms/sample - loss: 120.0122 - IoU: 0.0000e+00 - val_loss: 0.1570 - val_IoU: 0.0000e+00\n",
      "\n",
      "Using provided data\n",
      "\n",
      "Freezing layer: block1_conv1\n",
      "Freezing layer: block1_conv2\n",
      "Freezing layer: block2_conv1\n",
      "Freezing layer: block2_conv2\n",
      "Dropping layer: block4_pool\n",
      "Dropping layer: block5_pool\n",
      "Creating multi GPU model\n",
      "\n",
      "Runing model:: vBVNP_t99_e1_b8_lr0.001\n",
      "\n",
      "\n",
      "Fitting multi_GPU=[True] model with bs=8,epochs=1,lr=0.001\n",
      "\n",
      "Train on 99 samples, validate on 8 samples\n",
      "99/99 [==============================] - 14s 141ms/sample - loss: 1887.0145 - IoU: 2.9488e-05 - val_loss: 0.1300 - val_IoU: 0.0000e+00\n",
      "\n",
      "Using provided data\n",
      "\n",
      "Freezing layer: block1_conv1\n",
      "Freezing layer: block1_conv2\n",
      "Freezing layer: block2_conv1\n",
      "Freezing layer: block2_conv2\n",
      "Dropping layer: block4_pool\n",
      "Dropping layer: block5_pool\n",
      "Creating multi GPU model\n",
      "\n",
      "Runing model:: vBVNP_t99_e1_b16_lr0.001\n",
      "\n",
      "\n",
      "Fitting multi_GPU=[True] model with bs=16,epochs=1,lr=0.001\n",
      "\n",
      "Train on 99 samples, validate on 8 samples\n",
      "99/99 [==============================] - 14s 145ms/sample - loss: 189784.3218 - IoU: 0.0000e+00 - val_loss: 0.1206 - val_IoU: 0.0000e+00\n"
     ]
    },
    {
     "data": {
      "image/png": "[encoded data removed]",
      "text/plain": [
       "<Figure size 1440x720 with 1 Axes>"
      ]
     },
     "metadata": {
      "needs_background": "light"
     },
     "output_type": "display_data"
    }
   ],
   "source": [
    "num_epochs = 1 \n",
    "model_id = 'baseline_vgg_no_pool'\n",
    "\n",
    "results = [] \n",
    "for b in  [2,4,8,16]  : \n",
    "    result = ml.run_model(data=data,batch_size=b,num_epochs=num_epochs,model_id=model_id,save=False,multi_gpu=True)\n",
    "    results.append(result) \n",
    "\n",
    "p =  ml.benchmark_bar(results, \"Model Train Time (2 GPU,1 Epoch) vs Batch Size\") \n"
   ]
  },
  {
   "cell_type": "code",
   "execution_count": null,
   "metadata": {},
   "outputs": [],
   "source": [
    "p =  ml.benchmark_bar(results, \"Model Train Time (1 GPU,1 Epoch) vs Batch Size\") "
   ]
  },
  {
   "cell_type": "code",
   "execution_count": null,
   "metadata": {},
   "outputs": [],
   "source": [
    "p.savefig(\"models/figures/hyperparam_vgg.png\")"
   ]
  },
  {
   "cell_type": "markdown",
   "metadata": {},
   "source": [
    "#### Hyperparamater Search (Learning Rate) "
   ]
  },
  {
   "cell_type": "code",
   "execution_count": null,
   "metadata": {},
   "outputs": [],
   "source": [
    "#no dropout (NEXT STEP --- TRAIN RAW VGG !!! )"
   ]
  },
  {
   "cell_type": "code",
   "execution_count": null,
   "metadata": {},
   "outputs": [],
   "source": [
    "#vgg_model = keras.applications.VGG16(weights='imagenet', include_top=False, input_shape = (512,512,3) )\n",
    "#vgg_model.summary()"
   ]
  },
  {
   "cell_type": "code",
   "execution_count": null,
   "metadata": {
    "scrolled": true
   },
   "outputs": [],
   "source": [
    "batch_size = 2\n",
    "num_epochs = 50\n",
    "learning_rates = [0.005,0.001,0.0004,0.0001]\n",
    "model_id = 'baseline_vgg_block4tr'\n",
    "#learning_rates = [0.0003]\n",
    "#[ math.pow(10,-x) for x in np.arange(1,4,0.5)]\n",
    "#print(\"Learning rates:: {}\".format(str(learning_rates)))\n",
    "results = [] \n",
    "\n",
    "for lr in learning_rates : \n",
    "    # RUN THE MODEL \n",
    "    result = ml.run_model(data=data,\n",
    "                          batch_size=batch_size,\n",
    "                          num_epochs=num_epochs,\n",
    "                          learning_rate=lr,\n",
    "                          #dropout=0.1,\n",
    "                          model_id=model_id)\n",
    "    results.append(result)\n",
    "    ml.train_curve(result['train_info'].history,result['name']) \n",
    "    np.save(\"models/{}_history\".format(result['name']), result['train_info'].history)"
   ]
  },
  {
   "cell_type": "code",
   "execution_count": null,
   "metadata": {},
   "outputs": [],
   "source": [
    "#with dropout"
   ]
  },
  {
   "cell_type": "code",
   "execution_count": null,
   "metadata": {},
   "outputs": [],
   "source": [
    "batch_size = 2\n",
    "num_epochs = 50\n",
    "learning_rates = [0.005,0.001,0.0004,0.0001]\n",
    "model_id = 'baseline_vgg_block4tr'\n",
    "#learning_rates = [0.0003]\n",
    "#[ math.pow(10,-x) for x in np.arange(1,4,0.5)]\n",
    "#print(\"Learning rates:: {}\".format(str(learning_rates)))\n",
    "results = [] \n",
    "\n",
    "for lr in learning_rates : \n",
    "    # RUN THE MODEL \n",
    "    result = ml.run_model(data=data,\n",
    "                          batch_size=batch_size,\n",
    "                          num_epochs=num_epochs,\n",
    "                          learning_rate=lr,\n",
    "                          dropout=0.1,\n",
    "                          model_id=model_id)\n",
    "    results.append(result)\n",
    "    ml.train_curve(result['train_info'].history,result['name']) \n",
    "    np.save(\"models/{}_history\".format(result['name']), result['train_info'].history)"
   ]
  },
  {
   "cell_type": "code",
   "execution_count": null,
   "metadata": {},
   "outputs": [],
   "source": [
    "batch_size = 2\n",
    "num_epochs = 50\n",
    "learning_rates = [0.005,0.001,0.0004,0.0001]\n",
    "model_id = 'baseline'\n",
    "#learning_rates = [0.0003]\n",
    "#[ math.pow(10,-x) for x in np.arange(1,4,0.5)]\n",
    "#print(\"Learning rates:: {}\".format(str(learning_rates)))\n",
    "results3 = [] \n",
    "\n",
    "for lr in learning_rates : \n",
    "    # RUN THE MODEL \n",
    "    result = ml.run_model(data=data,\n",
    "                          batch_size=batch_size,\n",
    "                          num_epochs=num_epochs,\n",
    "                          learning_rate=lr,\n",
    "                          #dropout=0.1,\n",
    "                          model_id=model_id)\n",
    "    results3.append(result)\n",
    "    ml.train_curve(result['train_info'].history,result['name']) \n",
    "    np.save(\"models/{}_history\".format(result['name']), result['train_info'].history)"
   ]
  },
  {
   "cell_type": "code",
   "execution_count": null,
   "metadata": {},
   "outputs": [],
   "source": [
    "#4\n",
    "for result in results : \n",
    "        print(result['name'])\n",
    "        ml.train_curve(result['train_info'].history)"
   ]
  }
 ],
 "metadata": {
  "kernelspec": {
   "display_name": "Python 3",
   "language": "python",
   "name": "python3"
  },
  "language_info": {
   "codemirror_mode": {
    "name": "ipython",
    "version": 3
   },
   "file_extension": ".py",
   "mimetype": "text/x-python",
   "name": "python",
   "nbconvert_exporter": "python",
   "pygments_lexer": "ipython3",
   "version": "3.6.8"
  }
 },
 "nbformat": 4,
 "nbformat_minor": 2
}
