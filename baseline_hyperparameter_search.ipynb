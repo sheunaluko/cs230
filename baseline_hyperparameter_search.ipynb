{
 "cells": [
  {
   "cell_type": "markdown",
   "metadata": {},
   "source": [
    "### Model Training Time Benchmark\n",
    "Sheun Aluko CS230 "
   ]
  },
  {
   "cell_type": "markdown",
   "metadata": {},
   "source": [
    "#### Dependency Imports"
   ]
  },
  {
   "cell_type": "code",
   "execution_count": 4,
   "metadata": {},
   "outputs": [
    {
     "name": "stdout",
     "output_type": "stream",
     "text": [
      "Reloaded: util\n",
      "Reloaded: ml_helpers\n"
     ]
    }
   ],
   "source": [
    "# conventional imports \n",
    "import tensorflow as tf\n",
    "import numpy as np\n",
    "from tensorflow.keras.models import Sequential\n",
    "from tensorflow.keras.layers import Dense, Conv2D, Flatten, Activation\n",
    "import matplotlib.pyplot as plt\n",
    "keras = tf.keras\n",
    "\n",
    "#custom imports \n",
    "import util as u\n",
    "import ml_helpers as ml \n",
    "import reloader  \n",
    "\n",
    "\n",
    "# The reloader object allows reloading of source code after modifications are made \n",
    "r = reloader.Reloader([\"util\",\"ml_helpers\"]) \n",
    "r.reload() \n",
    "\n",
    "# config \n",
    "plt.rcParams[\"figure.figsize\"] = (20,10)\n",
    "u.reload() "
   ]
  },
  {
   "cell_type": "markdown",
   "metadata": {},
   "source": [
    "#### Load Data"
   ]
  },
  {
   "cell_type": "code",
   "execution_count": 2,
   "metadata": {},
   "outputs": [
    {
     "name": "stdout",
     "output_type": "stream",
     "text": [
      "\n",
      "Loading data for term index: 8\n",
      "Fraction of data that will be loaded=0.01\n",
      "\n",
      "Loading train set\n",
      "Removed 6 lesion(s) of 1995\n",
      "Done\n",
      "\n",
      "Loading val set\n",
      "Removed 0 lesion(s) of 179\n",
      "Done\n",
      "\n",
      "Loading test set\n",
      "Removed 1 lesion(s) of 203\n",
      "Done\n",
      "\n",
      "Train Size: 19\n",
      "Val Size: 1\n",
      "Train Size: 19\n",
      "Val Size: 1\n"
     ]
    }
   ],
   "source": [
    "data_fraction = 0.01\n",
    "data = u.data_load(f=data_fraction)\n",
    "print(\"Train Size: {}\\nVal Size: {}\".format(str(len(data[0])),str(len(data[2]))) ) "
   ]
  },
  {
   "cell_type": "code",
   "execution_count": null,
   "metadata": {},
   "outputs": [],
   "source": [
    "v = ml.get_baseline_vgg_model_no_pool() \n",
    "v.summary()"
   ]
  },
  {
   "cell_type": "markdown",
   "metadata": {},
   "source": [
    "#### Hyperparamater Search (Batch Size)"
   ]
  },
  {
   "cell_type": "code",
   "execution_count": null,
   "metadata": {
    "scrolled": true
   },
   "outputs": [],
   "source": [
    "num_epochs = 1 \n",
    "model_id = 'vgg_co_baseline'\n",
    "\n",
    "results = [] \n",
    "for b in  [1]  : \n",
    "    result = ml.run_model(data=data,batch_size=b,num_epochs=num_epochs,model_id=model_id,save=False,multi_gpu=True)\n",
    "    results.append(result) \n",
    "\n",
    "p =  ml.benchmark_bar(results, \"Model Train Time (2 GPU,1 Epoch) vs Batch Size\") \n"
   ]
  },
  {
   "cell_type": "code",
   "execution_count": null,
   "metadata": {},
   "outputs": [],
   "source": [
    "p =  ml.benchmark_bar(results, \"Model Train Time (1 GPU,1 Epoch) vs Batch Size\") "
   ]
  },
  {
   "cell_type": "code",
   "execution_count": 5,
   "metadata": {},
   "outputs": [
    {
     "name": "stdout",
     "output_type": "stream",
     "text": [
      "\n",
      "Using provided data\n",
      "\n",
      "\n",
      "Runing model:: vVCB19_e1_b1_lr0.001\n",
      "\n",
      "\n",
      "Fitting multi_GPU=[False] model with bs=1,epochs=1,lr=0.001\n",
      "\n",
      "Train on 19 samples, validate on 1 samples\n",
      "19/19 [==============================] - 18s 958ms/sample - loss: 414969.4312 - IoU: 0.0000e+00 - val_loss: 0.1306 - val_IoU: 0.0000e+00\n"
     ]
    },
    {
     "data": {
      "image/png": "[encoded data removed]",
      "text/plain": [
       "<Figure size 1440x720 with 1 Axes>"
      ]
     },
     "metadata": {
      "needs_background": "light"
     },
     "output_type": "display_data"
    }
   ],
   "source": [
    "num_epochs = 20\n",
    "model_id = 'vgg_co_baseline'\n",
    "\n",
    "results = [] \n",
    "for b in  [1]  : \n",
    "    result = ml.run_model(data=data,batch_size=b,num_epochs=num_epochs,model_id=model_id,save=False,multi_gpu=False)\n",
    "    results.append(result) \n",
    "\n",
    "p =  ml.benchmark_bar(results, \"Model Train Time (2 GPU,1 Epoch) vs Batch Size\") \n"
   ]
  },
  {
   "cell_type": "code",
   "execution_count": null,
   "metadata": {},
   "outputs": [],
   "source": [
    "p.savefig(\"models/figures/hyperparam_vgg.png\")"
   ]
  },
  {
   "cell_type": "code",
   "execution_count": null,
   "metadata": {},
   "outputs": [],
   "source": []
  },
  {
   "cell_type": "markdown",
   "metadata": {},
   "source": [
    "#### Hyperparamater Search (Learning Rate) "
   ]
  },
  {
   "cell_type": "code",
   "execution_count": null,
   "metadata": {},
   "outputs": [],
   "source": [
    "#no dropout (NEXT STEP --- TRAIN RAW VGG !!! )"
   ]
  },
  {
   "cell_type": "code",
   "execution_count": null,
   "metadata": {},
   "outputs": [],
   "source": [
    "#vgg_model = keras.applications.VGG16(weights='imagenet', include_top=False, input_shape = (512,512,3) )\n",
    "#vgg_model.summary()"
   ]
  },
  {
   "cell_type": "code",
   "execution_count": null,
   "metadata": {
    "scrolled": true
   },
   "outputs": [],
   "source": [
    "batch_size = 2\n",
    "num_epochs = 50\n",
    "learning_rates = [0.005,0.001,0.0004,0.0001]\n",
    "model_id = 'baseline_vgg_block4tr'\n",
    "#learning_rates = [0.0003]\n",
    "#[ math.pow(10,-x) for x in np.arange(1,4,0.5)]\n",
    "#print(\"Learning rates:: {}\".format(str(learning_rates)))\n",
    "results = [] \n",
    "\n",
    "for lr in learning_rates : \n",
    "    # RUN THE MODEL \n",
    "    result = ml.run_model(data=data,\n",
    "                          batch_size=batch_size,\n",
    "                          num_epochs=num_epochs,\n",
    "                          learning_rate=lr,\n",
    "                          #dropout=0.1,\n",
    "                          model_id=model_id)\n",
    "    results.append(result)\n",
    "    ml.train_curve(result['train_info'].history,result['name']) \n",
    "    np.save(\"models/{}_history\".format(result['name']), result['train_info'].history)"
   ]
  },
  {
   "cell_type": "code",
   "execution_count": null,
   "metadata": {},
   "outputs": [],
   "source": [
    "#with dropout"
   ]
  },
  {
   "cell_type": "code",
   "execution_count": null,
   "metadata": {},
   "outputs": [],
   "source": [
    "batch_size = 2\n",
    "num_epochs = 50\n",
    "learning_rates = [0.005,0.001,0.0004,0.0001]\n",
    "model_id = 'baseline_vgg_block4tr'\n",
    "#learning_rates = [0.0003]\n",
    "#[ math.pow(10,-x) for x in np.arange(1,4,0.5)]\n",
    "#print(\"Learning rates:: {}\".format(str(learning_rates)))\n",
    "results = [] \n",
    "\n",
    "for lr in learning_rates : \n",
    "    # RUN THE MODEL \n",
    "    result = ml.run_model(data=data,\n",
    "                          batch_size=batch_size,\n",
    "                          num_epochs=num_epochs,\n",
    "                          learning_rate=lr,\n",
    "                          dropout=0.1,\n",
    "                          model_id=model_id)\n",
    "    results.append(result)\n",
    "    ml.train_curve(result['train_info'].history,result['name']) \n",
    "    np.save(\"models/{}_history\".format(result['name']), result['train_info'].history)"
   ]
  },
  {
   "cell_type": "code",
   "execution_count": null,
   "metadata": {},
   "outputs": [],
   "source": [
    "batch_size = 2\n",
    "num_epochs = 50\n",
    "learning_rates = [0.005,0.001,0.0004,0.0001]\n",
    "model_id = 'baseline'\n",
    "#learning_rates = [0.0003]\n",
    "#[ math.pow(10,-x) for x in np.arange(1,4,0.5)]\n",
    "#print(\"Learning rates:: {}\".format(str(learning_rates)))\n",
    "results3 = [] \n",
    "\n",
    "for lr in learning_rates : \n",
    "    # RUN THE MODEL \n",
    "    result = ml.run_model(data=data,\n",
    "                          batch_size=batch_size,\n",
    "                          num_epochs=num_epochs,\n",
    "                          learning_rate=lr,\n",
    "                          #dropout=0.1,\n",
    "                          model_id=model_id)\n",
    "    results3.append(result)\n",
    "    ml.train_curve(result['train_info'].history,result['name']) \n",
    "    np.save(\"models/{}_history\".format(result['name']), result['train_info'].history)"
   ]
  },
  {
   "cell_type": "code",
   "execution_count": null,
   "metadata": {},
   "outputs": [],
   "source": [
    "#4\n",
    "for result in results : \n",
    "        print(result['name'])\n",
    "        ml.train_curve(result['train_info'].history)"
   ]
  }
 ],
 "metadata": {
  "kernelspec": {
   "display_name": "Python 3",
   "language": "python",
   "name": "python3"
  },
  "language_info": {
   "codemirror_mode": {
    "name": "ipython",
    "version": 3
   },
   "file_extension": ".py",
   "mimetype": "text/x-python",
   "name": "python",
   "nbconvert_exporter": "python",
   "pygments_lexer": "ipython3",
   "version": "3.6.8"
  }
 },
 "nbformat": 4,
 "nbformat_minor": 2
}
